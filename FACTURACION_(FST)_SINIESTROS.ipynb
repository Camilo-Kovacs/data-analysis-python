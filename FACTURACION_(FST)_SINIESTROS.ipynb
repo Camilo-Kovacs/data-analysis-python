{
  "cells": [
    {
      "cell_type": "markdown",
      "metadata": {
        "id": "view-in-github",
        "colab_type": "text"
      },
      "source": [
        "<a href=\"https://colab.research.google.com/github/Camilo-Kovacs/data-analysis-python/blob/master/FACTURACION_(FST)_SINIESTROS.ipynb\" target=\"_parent\"><img src=\"https://colab.research.google.com/assets/colab-badge.svg\" alt=\"Open In Colab\"/></a>"
      ]
    },
    {
      "cell_type": "code",
      "execution_count": null,
      "metadata": {
        "id": "ghEBcmJx6rp_",
        "colab": {
          "base_uri": "https://localhost:8080/"
        },
        "outputId": "4f7a8231-750c-47a6-ee3b-ee6c2baeef16"
      },
      "outputs": [
        {
          "output_type": "stream",
          "name": "stdout",
          "text": [
            "Mounted at /content/drive\n"
          ]
        }
      ],
      "source": [
        "import pandas as pd\n",
        "import numpy as np\n",
        "import datetime\n",
        "import re\n",
        "from datetime import timedelta\n",
        "from datetime import date\n",
        "from google.colab import drive\n",
        "drive.mount('/content/drive')"
      ]
    },
    {
      "cell_type": "code",
      "source": [
        "# cargar los datos del archivo Excel\n",
        "df = pd.read_excel('/content/drive/MyDrive/Repositorio/FacturacionSSTT/Facturacion historica.xlsx', sheet_name='Repositorio FST', na_values=[0])\n",
        "\n",
        "nuevos_nombres = [\"oficina\",\"tipo_orden_trabajo\",\"numero_orden_trabajo\",\"tipo_trabajo\",\"numero_documento_venta\",\"fecha_venta\",\"numero_siniestro\",\"numero_orden\",\"numero_correlacion\",\"codigo_recepcionista\",\"agente_confirmo_7d\",\"fecha_apertura_orden_trabajo\",\"fecha_termino_orden_trabajo\",\"detalle_factura\",\"rut_cliente\",\"nombre_cliente\",\"patente\",\"marca\",\"modelo\",\"total_costo\",\"total_neto_mano_obra\",\"total_neto_repuestos\",\"total_neto_accesorios\",\"total_neto_lubricantes\",\"total_neto_materiales\",\"total_neto_otros\",\"total_neto_documento\",\"total_bruto_documento\",\"cantidad_litros_lubricantes\",\"forma_pago\",\"vin\",\"tipo_venta\",\"tipo_mantenimiento\",\"kilometros_vehiculo\",\"posee_mpp\",\"id_agente\",\"numero_presupuesto\", \"destinatario_kovcas\"]\n",
        "df.columns = nuevos_nombres \n",
        "\n",
        "df[\"numero_siniestro\"].fillna(0, inplace=True)\n",
        "\n",
        "\n",
        "# eliminar los registros donde la columna numero_siniestro es NaN o None\n",
        "df = df[df['numero_siniestro'].notna()]\n",
        "\n",
        "# convertir la columna numero_siniestro de tipo float a int\n",
        "df['numero_siniestro'] = df['numero_siniestro'].astype(int)\n"
      ],
      "metadata": {
        "id": "QeLCUQnYxit8"
      },
      "execution_count": null,
      "outputs": []
    },
    {
      "cell_type": "code",
      "execution_count": null,
      "metadata": {
        "id": "2R1k3uzb4Hg0"
      },
      "outputs": [],
      "source": [
        "df_RESPALDO = df.copy()"
      ]
    },
    {
      "cell_type": "code",
      "source": [
        "df = df_RESPALDO.copy()"
      ],
      "metadata": {
        "id": "SyeJENu_8Wio"
      },
      "execution_count": null,
      "outputs": []
    },
    {
      "cell_type": "code",
      "execution_count": null,
      "metadata": {
        "id": "dT7cFiCL55l3",
        "colab": {
          "base_uri": "https://localhost:8080/"
        },
        "outputId": "fa5d6429-3ef2-4cfe-9afa-be1e1c01916c"
      },
      "outputs": [
        {
          "output_type": "execute_result",
          "data": {
            "text/plain": [
              "(556788, 38)"
            ]
          },
          "metadata": {},
          "execution_count": 130
        }
      ],
      "source": [
        "df.shape\n"
      ]
    },
    {
      "cell_type": "markdown",
      "metadata": {
        "id": "XgB9cSwwoL1I"
      },
      "source": [
        "## PASOS PARA LA NORMALIZACION DE DATA (1)"
      ]
    },
    {
      "cell_type": "code",
      "execution_count": null,
      "metadata": {
        "id": "8FrLs7dpyiRQ"
      },
      "outputs": [],
      "source": [
        "#Se crea columna contiene obd y se pasa a mayusculas lo que es detalle_factura\n",
        "df= df.assign(total_ingresos = ((df['total_neto_accesorios'] + df['total_neto_lubricantes'] + df['total_neto_materiales'] + df['total_neto_repuestos']) - df['total_costo']) + df['total_neto_mano_obra'])"
      ]
    },
    {
      "cell_type": "code",
      "execution_count": null,
      "metadata": {
        "id": "QIEl9mH4yiUf"
      },
      "outputs": [],
      "source": [
        "df['total_facturacion'] = df['total_neto_accesorios'] + df['total_neto_lubricantes'] + df['total_neto_materiales'] + df['total_neto_repuestos'] + df['total_neto_mano_obra']"
      ]
    },
    {
      "cell_type": "code",
      "execution_count": null,
      "metadata": {
        "id": "gmzpG9aIyiXM"
      },
      "outputs": [],
      "source": [
        "df['año_venta'] = pd.DatetimeIndex(df['fecha_venta']).year"
      ]
    },
    {
      "cell_type": "code",
      "execution_count": null,
      "metadata": {
        "id": "RSZ7Q35vyiZx"
      },
      "outputs": [],
      "source": [
        "df['mes_venta'] = pd.DatetimeIndex(df['fecha_venta']).month"
      ]
    },
    {
      "cell_type": "code",
      "execution_count": null,
      "metadata": {
        "id": "ZQ_-Z2jJyica"
      },
      "outputs": [],
      "source": [
        "df['detalle_factura'].fillna('N/A', inplace=True)\n",
        "\n",
        "df['contiene_obd'] = np.where(df['detalle_factura'].str.contains(\"OBD|ANTICLO\", na=False), 'SI', 'NO')"
      ]
    },
    {
      "cell_type": "code",
      "execution_count": null,
      "metadata": {
        "id": "y87Qo0UzyifF"
      },
      "outputs": [],
      "source": [
        "#Se Agrega La Columna Nota Credito\n",
        "df['nota_credito'] = np.where(df['total_neto_repuestos'] >= 0, 'SIN NC', 'CON NC')"
      ]
    },
    {
      "cell_type": "code",
      "execution_count": null,
      "metadata": {
        "id": "WntT24eQyih2"
      },
      "outputs": [],
      "source": [
        "df['oficina'] = df['oficina'].str.upper()\n",
        "def asignar_unidad_negocios(oficina):\n",
        "    if \"NISSAN\" in oficina:\n",
        "        return \"NISSAN\"\n",
        "    elif \"TOYOTA\" in oficina:\n",
        "        return \"TOYOTA\"\n",
        "    elif \"DYP\" in oficina:\n",
        "        return \"DYP\"\n",
        "    else:\n",
        "        return \"CHEVROLET\"\n",
        "\n",
        "df[\"unidad_negocios\"] = df[\"oficina\"].apply(asignar_unidad_negocios)"
      ]
    },
    {
      "cell_type": "code",
      "execution_count": null,
      "metadata": {
        "id": "PM7glSnIyikr"
      },
      "outputs": [],
      "source": [
        "#Agregar columna tipo cliente\n",
        "# df['tipo_cliente'] = df['nombre_cliente'].apply(lambda x: 'SEGURO' if 'SEGURO' in str(x) else 'GENERAL')\n",
        "\n",
        "df['tipo_cliente'] = df['nombre_cliente'].apply(lambda x: 'SEGURO' if ('SEGURO' in str(x) or 'ASEGURADORA' in str(x)) else 'GENERAL')\n"
      ]
    },
    {
      "cell_type": "code",
      "execution_count": null,
      "metadata": {
        "id": "QSq8tabxyinS"
      },
      "outputs": [],
      "source": [
        "#Cambiar tipificacion de acuerdo a condicion\n",
        "df.loc[df['posee_mpp'] == 'SI', 'tipo_trabajo'] = 'Mant. Prev.'"
      ]
    },
    {
      "cell_type": "code",
      "execution_count": null,
      "metadata": {
        "id": "EruBFhzNyiqC"
      },
      "outputs": [],
      "source": [
        "# Se re tipifica la columna Tipo Trabajo\n",
        "df['tipo_trabajo'] = df['tipo_trabajo'].replace([\"Acc. u otros\", \"Accesorios\", \"Corr.,Acc. u otros\"], \"CORRECTIVA\")\n",
        "df['tipo_trabajo'] = df['tipo_trabajo'].replace([\"Mant. Prev.\"], \"PREVENTIVA\")\n",
        "df['tipo_trabajo'] = df['tipo_trabajo'].replace([\"CRÉDITO\"], \"CREDITO\")\n",
        "df['tipo_trabajo'] = df['tipo_trabajo'].replace([\"GARANTÍA\"], \"GARANTIA\")"
      ]
    },
    {
      "cell_type": "code",
      "execution_count": null,
      "metadata": {
        "id": "5kODTVSfyisl"
      },
      "outputs": [],
      "source": [
        "# Se reemplan todos los Valores en la columna tiene_mpp de SI a NO en caso que el registro tenga MPP \n",
        "df.loc[df['contiene_obd'] == 'SI', 'posee_mpp'] = 'NO' "
      ]
    },
    {
      "cell_type": "code",
      "execution_count": null,
      "metadata": {
        "id": "J6hTHLyHyivM"
      },
      "outputs": [],
      "source": [
        "# Se reemplan todos los Valores en la columna tiene_mpp de SI a NO en caso que el registro tenga MPP \n",
        "# df.loc[df['contiene_obd'] == 'SI', 'posee_mpp'] = 'NO' \n",
        "\n",
        "# Se reemplan todos los Valores en la columna tiene_mpp de SI a NO en caso que el registro tenga MPP \n",
        "df.loc[df['contiene_obd'] == 'SI', 'tipo_trabajo'] = 'CORRECTIVA' "
      ]
    },
    {
      "cell_type": "code",
      "execution_count": null,
      "metadata": {
        "id": "4Rl2vzk3yixw"
      },
      "outputs": [],
      "source": [
        "#Se normaliza la data en la columna *Tipo Trabajo*\n",
        "df['tipo_trabajo'] = df['tipo_trabajo'].str.replace('Á', 'A').str.replace('É', 'E').str.replace('Í', 'I').str.replace('Ó', 'O').str.replace('Ú', 'U').str.upper()\n",
        "df['tipo_trabajo'] = df['tipo_trabajo'].replace(np.nan, 'sin_tipo_trabajo', regex=True)"
      ]
    },
    {
      "cell_type": "code",
      "execution_count": null,
      "metadata": {
        "id": "mtiUUQs-yi0t"
      },
      "outputs": [],
      "source": [
        "#Se normaliza la data en la columna *Tipo Trabajo*\n",
        "df['tipo_orden_trabajo'] = df['tipo_orden_trabajo'].str.replace('Á', 'A').str.replace('É', 'E').str.replace('Í', 'I').str.replace('Ó', 'O').str.replace('Ú', 'U').str.upper()\n",
        "df['tipo_orden_trabajo'] = df['tipo_orden_trabajo'].replace(np.nan, 'sin_orden_trabajo', regex=True)"
      ]
    },
    {
      "cell_type": "code",
      "execution_count": null,
      "metadata": {
        "id": "pDXYRJzdns3E"
      },
      "outputs": [],
      "source": [
        "# Se normaliza la data en la columna Tipo Orden Trabajo\n",
        "df['tipo_orden_trabajo'].fillna('N/A', inplace=True)\n",
        "df['tipo_orden_trabajo'] = df['tipo_orden_trabajo'].str.replace('Á', 'A').str.replace('É', 'E').str.replace('Í', 'I').str.replace('Ó', 'O').str.replace('Ú', 'U').str.upper()\n",
        "df['tipo_orden_trabajo'] = df['tipo_orden_trabajo'].replace(np.nan, 'sin_tipo_orden_trabajo', regex=True)"
      ]
    },
    {
      "cell_type": "code",
      "execution_count": null,
      "metadata": {
        "id": "d8OZ39GqntCv"
      },
      "outputs": [],
      "source": [
        "# Se genera una nueva columna con TIPO VENTA OT\n",
        "df[\"tipo_venta_ot\"] = np.where(df[\"tipo_venta\"].str.contains(re.compile(\"REPTOS|ANT.RPTO|CUP. MPP|RENTACAR|ANT.REPA|CHATARRA|GRUA|Deduc|CAFETERÍ|MISCELÁN\",re.IGNORECASE)), \"NO\", \"SI\")"
      ]
    },
    {
      "cell_type": "code",
      "execution_count": null,
      "metadata": {
        "id": "7ep_7MK-ntLC"
      },
      "outputs": [],
      "source": [
        "#Se Reemplaza los valores del tipo venta OT\n",
        "df['tipo_venta_ot'] = df['tipo_venta_ot'].replace({'SI': 'VENTAS CON OT', 'NO': 'OTRAS VENTAS'})"
      ]
    },
    {
      "cell_type": "code",
      "execution_count": null,
      "metadata": {
        "id": "IkdAbYxCn3D6"
      },
      "outputs": [],
      "source": [
        "#Se reemplaza los valores de la columna tipo Orden de Trabajo\n",
        "df['tipo_orden_trabajo'] = df['tipo_orden_trabajo'].replace({'SIN_TIPO_ORDEN_TRABAJO': 'OTRAS VENTAS'})"
      ]
    },
    {
      "cell_type": "code",
      "execution_count": null,
      "metadata": {
        "id": "TqvCNgjRn3Nn"
      },
      "outputs": [],
      "source": [
        "df['tipo_orden_trabajo'].replace('SIN_ORDEN_TRABAJO', 'MISCELANEA', inplace=True)\n",
        "df['tipo_trabajo'].replace('sin_tipo_trabajo', 'MISCELANEA', inplace=True)"
      ]
    },
    {
      "cell_type": "code",
      "execution_count": null,
      "metadata": {
        "id": "kTdt8hzsn8xV"
      },
      "outputs": [],
      "source": [
        "\n",
        "df.loc[(df['contiene_obd'] == 'SI') & ((df['tipo_orden_trabajo'] == 'GARANTIA') | (df['tipo_orden_trabajo'] == 'PREENTREGA')), 'tipo_orden_trabajo'] = 'MECANICA' "
      ]
    },
    {
      "cell_type": "code",
      "execution_count": null,
      "metadata": {
        "id": "zqg5VFLgj_NH"
      },
      "outputs": [],
      "source": [
        "#Contar OT\n",
        "df['contar_ot'] = np.where(df['tipo_venta_ot'] == 'VENTAS CON OT', 1, 0)\n"
      ]
    },
    {
      "cell_type": "code",
      "execution_count": null,
      "metadata": {
        "id": "l1Mp1XRH_lZd"
      },
      "outputs": [],
      "source": [
        "df['vin'] = df['vin'].astype(str)\n",
        "\n",
        "def clean_vin(vin):\n",
        "    if len(vin) != 17:\n",
        "        return ''\n",
        "    return vin\n",
        "\n",
        "df['vin'] = df['vin'].apply(clean_vin)"
      ]
    },
    {
      "cell_type": "code",
      "execution_count": null,
      "metadata": {
        "id": "TcxdMDDC_e3c"
      },
      "outputs": [],
      "source": [
        "df['patente'] = df['patente'].astype(str)\n",
        "\n",
        "def clean_patente(patente):\n",
        "    if len(patente) != 7:\n",
        "        return ''\n",
        "    return patente\n",
        "\n",
        "df['patente'] = df['patente'].apply(clean_patente)"
      ]
    },
    {
      "cell_type": "code",
      "execution_count": null,
      "metadata": {
        "id": "QpxXgMwmDni2"
      },
      "outputs": [],
      "source": [
        "df['vin_patente'] = np.where(df['vin'] == \"\", df['patente'], df['vin'])"
      ]
    },
    {
      "cell_type": "code",
      "execution_count": null,
      "metadata": {
        "id": "qCflk3Qb5udl",
        "colab": {
          "base_uri": "https://localhost:8080/"
        },
        "outputId": "c45c0388-331c-4889-8b2c-548ec632f28b"
      },
      "outputs": [
        {
          "output_type": "stream",
          "name": "stderr",
          "text": [
            "<ipython-input-156-4557edce8d2c>:5: SettingWithCopyWarning: \n",
            "A value is trying to be set on a copy of a slice from a DataFrame.\n",
            "Try using .loc[row_indexer,col_indexer] = value instead\n",
            "\n",
            "See the caveats in the documentation: https://pandas.pydata.org/pandas-docs/stable/user_guide/indexing.html#returning-a-view-versus-a-copy\n",
            "  df['siniestro_patente'] = df['numero_siniestro'].astype(str) + df['patente']\n"
          ]
        }
      ],
      "source": [
        "df['numero_siniestro'] = df['numero_siniestro'].astype(str)\n",
        "\n",
        "df = df[~df['numero_siniestro'].astype(str).str.contains('^0$')]\n",
        "\n",
        "df['siniestro_patente'] = df['numero_siniestro'].astype(str) + df['patente']"
      ]
    },
    {
      "cell_type": "markdown",
      "metadata": {
        "id": "ZwqM7FvfHOMD"
      },
      "source": [
        "## SEGMENTAR POR SINIESTRO"
      ]
    },
    {
      "cell_type": "code",
      "source": [
        "\n",
        "# Filtrar los registros con tipo_cliente igual a \"SEGURO\" o \"GENERAL\"\n",
        "df_filtrado = df[df.tipo_cliente.isin([\"SEGURO\", \"GENERAL\"])]\n",
        "\n",
        "# Convertir la columna fecha_venta a tipo datetime\n",
        "df_filtrado['fecha_venta'] = pd.to_datetime(df_filtrado['fecha_venta'])\n",
        "\n",
        "# Ordenar los registros por siniestro_patente y fecha_venta descendente\n",
        "df_filtrado = df_filtrado.sort_values(by=['siniestro_patente', 'fecha_venta'], ascending=[True, False])\n",
        "\n",
        "# Mantener todos los registros con el mismo siniestro_patente\n",
        "df_agrupado = df_filtrado.groupby('siniestro_patente').apply(lambda x: x)\n",
        "\n",
        "\n",
        "\n",
        "df_agrupado[['total_ingresos', 'total_facturacion', 'total_costo', 'total_neto_mano_obra', 'total_neto_repuestos', 'total_neto_accesorios', 'total_neto_lubricantes', 'total_neto_materiales', 'total_neto_otros', 'total_neto_documento', 'total_bruto_documento']] = df_agrupado[['total_ingresos', 'total_facturacion', 'total_costo', 'total_neto_mano_obra', 'total_neto_repuestos', 'total_neto_accesorios', 'total_neto_lubricantes', 'total_neto_materiales', 'total_neto_otros', 'total_neto_documento', 'total_bruto_documento']].apply(pd.to_numeric)\n",
        "\n",
        "df_agrupado[['total_ingresos', 'total_facturacion', 'total_costo', 'total_neto_mano_obra', 'total_neto_repuestos', 'total_neto_accesorios', 'total_neto_lubricantes', 'total_neto_materiales', 'total_neto_otros', 'total_neto_documento', 'total_bruto_documento']] = df_agrupado.groupby('siniestro_patente')[['total_ingresos', 'total_facturacion', 'total_costo', 'total_neto_mano_obra', 'total_neto_repuestos', 'total_neto_accesorios', 'total_neto_lubricantes', 'total_neto_materiales', 'total_neto_otros', 'total_neto_documento', 'total_bruto_documento']].transform('sum')\n",
        "\n",
        "\n",
        "\n",
        "# Seleccionar el registro con tipo_cliente igual a \"SEGURO\" y la fecha_venta más reciente\n",
        "df_agrupado = df_agrupado[(df_agrupado.tipo_cliente == 'SEGURO')].sort_values(by=['siniestro_patente', 'fecha_venta'], ascending=[True, False]).drop_duplicates(subset='siniestro_patente', keep='first')\n",
        "\n",
        "# Seleccionar las columnas necesarias\n",
        "df_agrupado = df_agrupado[['oficina', 'tipo_orden_trabajo', 'tipo_trabajo', 'fecha_venta', 'numero_siniestro', 'numero_orden', 'fecha_apertura_orden_trabajo', 'fecha_termino_orden_trabajo', 'rut_cliente', 'nombre_cliente', 'patente', 'marca', 'modelo', 'forma_pago', 'vin', 'tipo_mantenimiento', 'posee_mpp', 'contiene_obd', 'nota_credito', 'unidad_negocios', 'tipo_cliente', 'contar_ot', 'vin_patente', 'siniestro_patente', 'total_ingresos', 'total_facturacion', 'total_costo', 'total_neto_mano_obra', 'total_neto_repuestos', 'total_neto_accesorios', 'total_neto_lubricantes', 'total_neto_materiales', 'total_neto_otros', 'total_neto_documento', 'total_bruto_documento']]\n"
      ],
      "metadata": {
        "id": "QjsU5leg0dYS",
        "colab": {
          "base_uri": "https://localhost:8080/"
        },
        "outputId": "58d2e825-bb8f-4a7b-dad7-c2d1c886ba75"
      },
      "execution_count": null,
      "outputs": [
        {
          "output_type": "stream",
          "name": "stderr",
          "text": [
            "<ipython-input-171-d174309904d6>:11: FutureWarning: Not prepending group keys to the result index of transform-like apply. In the future, the group keys will be included in the index, regardless of whether the applied function returns a like-indexed object.\n",
            "To preserve the previous behavior, use\n",
            "\n",
            "\t>>> .groupby(..., group_keys=False)\n",
            "\n",
            "To adopt the future behavior and silence this warning, use \n",
            "\n",
            "\t>>> .groupby(..., group_keys=True)\n",
            "  df_agrupado = df_filtrado.groupby('siniestro_patente').apply(lambda x: x)\n"
          ]
        }
      ]
    },
    {
      "cell_type": "code",
      "source": [
        "\n",
        "# Filtrar los registros con tipo_cliente igual a \"SEGURO\" o \"GENERAL\"\n",
        "# df_filtrado = df[df.tipo_cliente.isin([\"SEGURO\", \"GENERAL\"])]\n",
        "\n",
        "# Convertir la columna fecha_venta a tipo datetime\n",
        "# df_filtrado['fecha_venta'] = pd.to_datetime(df_filtrado['fecha_venta'])\n",
        "\n",
        "# Ordenar los registros por siniestro_patente y fecha_venta descendente\n",
        "# df_filtrado = df_filtrado.sort_values(by=['siniestro_patente', 'fecha_venta'], ascending=[True, False])\n",
        "\n",
        "# Mantener todos los registros con el mismo siniestro_patente\n",
        "df_agrupado_general = df_filtrado.groupby('siniestro_patente').apply(lambda x: x)\n",
        "\n",
        "\n",
        "\n",
        "df_agrupado_general[['total_ingresos', 'total_facturacion', 'total_costo', 'total_neto_mano_obra', 'total_neto_repuestos', 'total_neto_accesorios', 'total_neto_lubricantes', 'total_neto_materiales', 'total_neto_otros', 'total_neto_documento', 'total_bruto_documento']] = df_agrupado_general[['total_ingresos', 'total_facturacion', 'total_costo', 'total_neto_mano_obra', 'total_neto_repuestos', 'total_neto_accesorios', 'total_neto_lubricantes', 'total_neto_materiales', 'total_neto_otros', 'total_neto_documento', 'total_bruto_documento']].apply(pd.to_numeric)\n",
        "\n",
        "df_agrupado_general[['total_ingresos', 'total_facturacion', 'total_costo', 'total_neto_mano_obra', 'total_neto_repuestos', 'total_neto_accesorios', 'total_neto_lubricantes', 'total_neto_materiales', 'total_neto_otros', 'total_neto_documento', 'total_bruto_documento']] = df_agrupado_general.groupby('siniestro_patente')[['total_ingresos', 'total_facturacion', 'total_costo', 'total_neto_mano_obra', 'total_neto_repuestos', 'total_neto_accesorios', 'total_neto_lubricantes', 'total_neto_materiales', 'total_neto_otros', 'total_neto_documento', 'total_bruto_documento']].transform('sum')\n",
        "\n",
        "\n",
        "\n",
        "# Seleccionar el registro con tipo_cliente igual a \"SEGURO\" y la fecha_venta más reciente\n",
        "df_agrupado_general = df_agrupado_general[(df_agrupado_general.tipo_cliente == 'GENERAL')].sort_values(by=['siniestro_patente', 'fecha_venta'], ascending=[True, False]).drop_duplicates(subset='siniestro_patente', keep='first')\n",
        "\n",
        "# Seleccionar las columnas necesarias\n",
        "df_agrupado_general = df_agrupado_general[['oficina', 'tipo_orden_trabajo', 'tipo_trabajo', 'fecha_venta', 'numero_siniestro', 'numero_orden', 'fecha_apertura_orden_trabajo', 'fecha_termino_orden_trabajo', 'rut_cliente', 'nombre_cliente', 'patente', 'marca', 'modelo', 'forma_pago', 'vin', 'tipo_mantenimiento', 'posee_mpp', 'contiene_obd', 'nota_credito', 'unidad_negocios', 'tipo_cliente', 'contar_ot', 'vin_patente', 'siniestro_patente', 'total_ingresos', 'total_facturacion', 'total_costo', 'total_neto_mano_obra', 'total_neto_repuestos', 'total_neto_accesorios', 'total_neto_lubricantes', 'total_neto_materiales', 'total_neto_otros', 'total_neto_documento', 'total_bruto_documento']]\n"
      ],
      "metadata": {
        "colab": {
          "base_uri": "https://localhost:8080/"
        },
        "id": "ShlHWDIr8DUG",
        "outputId": "c8a2af5d-1cca-484f-ff9b-e93aa5cb5318"
      },
      "execution_count": null,
      "outputs": [
        {
          "output_type": "stream",
          "name": "stderr",
          "text": [
            "<ipython-input-173-d39ce9377fa1>:11: FutureWarning: Not prepending group keys to the result index of transform-like apply. In the future, the group keys will be included in the index, regardless of whether the applied function returns a like-indexed object.\n",
            "To preserve the previous behavior, use\n",
            "\n",
            "\t>>> .groupby(..., group_keys=False)\n",
            "\n",
            "To adopt the future behavior and silence this warning, use \n",
            "\n",
            "\t>>> .groupby(..., group_keys=True)\n",
            "  df_agrupado_general = df_filtrado.groupby('siniestro_patente').apply(lambda x: x)\n"
          ]
        }
      ]
    },
    {
      "cell_type": "code",
      "source": [
        "df_siniestros.tipo_cliente.sample(5)"
      ],
      "metadata": {
        "colab": {
          "base_uri": "https://localhost:8080/"
        },
        "id": "ku_BwXSs0c_8",
        "outputId": "ee47facd-fb44-4641-a2a5-64705aca307e"
      },
      "execution_count": null,
      "outputs": [
        {
          "output_type": "execute_result",
          "data": {
            "text/plain": [
              "17321     SEGURO\n",
              "9870      SEGURO\n",
              "21598    GENERAL\n",
              "19867    GENERAL\n",
              "8780      SEGURO\n",
              "Name: tipo_cliente, dtype: object"
            ]
          },
          "metadata": {},
          "execution_count": 177
        }
      ]
    },
    {
      "cell_type": "code",
      "source": [
        "df_siniestros = pd.concat([df_agrupado, df_agrupado_general], ignore_index=True)\n"
      ],
      "metadata": {
        "id": "-Aoi8iLs8b6z"
      },
      "execution_count": null,
      "outputs": []
    },
    {
      "cell_type": "code",
      "source": [
        "df_siniestros.to_excel(\"SiniestroSSTT.xlsx\", index=False)"
      ],
      "metadata": {
        "id": "UJFEdilC9pP0"
      },
      "execution_count": null,
      "outputs": []
    },
    {
      "cell_type": "code",
      "source": [
        "# df_agrupado.to_excel(\"SiniestroSSTT.xlsx\", index=False)"
      ],
      "metadata": {
        "id": "30di1hFT9wRs"
      },
      "execution_count": null,
      "outputs": []
    },
    {
      "cell_type": "code",
      "source": [
        "# df_siniestros.sample(5)"
      ],
      "metadata": {
        "id": "HbreAd4-qpd5"
      },
      "execution_count": null,
      "outputs": []
    },
    {
      "cell_type": "code",
      "source": [
        "# df_siniestros.to_excel(\"SiniestroSSTT.xlsx\", index=False)"
      ],
      "metadata": {
        "id": "PaP0rX_wF-mx"
      },
      "execution_count": null,
      "outputs": []
    },
    {
      "cell_type": "markdown",
      "source": [
        "## PARA EXPORTAR A EXCEL"
      ],
      "metadata": {
        "id": "G6eBVhaRJrFb"
      }
    },
    {
      "cell_type": "code",
      "execution_count": null,
      "metadata": {
        "id": "CGuz1t0UoEzu"
      },
      "outputs": [],
      "source": [
        "#df.to_excel(\"facturacion.xlsx\", index=False)"
      ]
    },
    {
      "cell_type": "code",
      "source": [
        "df.columns"
      ],
      "metadata": {
        "id": "atxN3m6Ba1oZ"
      },
      "execution_count": null,
      "outputs": []
    },
    {
      "cell_type": "code",
      "source": [
        "df.info()"
      ],
      "metadata": {
        "id": "aK80520jlR0v"
      },
      "execution_count": null,
      "outputs": []
    },
    {
      "cell_type": "code",
      "source": [
        "print(\"tipo_cliente\" in df.columns)"
      ],
      "metadata": {
        "colab": {
          "base_uri": "https://localhost:8080/"
        },
        "id": "1VNo0Tb4pky2",
        "outputId": "d94dfaf4-cacb-4da9-99ca-784e3ee3762e"
      },
      "execution_count": null,
      "outputs": [
        {
          "output_type": "stream",
          "name": "stdout",
          "text": [
            "True\n"
          ]
        }
      ]
    },
    {
      "cell_type": "markdown",
      "metadata": {
        "id": "t3FdME2ODbX3"
      },
      "source": [
        "## OBTENER ANALISIS SI TUVO OBDII"
      ]
    },
    {
      "cell_type": "code",
      "execution_count": null,
      "metadata": {
        "id": "sbMOUstJ_JDY"
      },
      "outputs": [],
      "source": [
        "df['contiene_obd'] = df['contiene_obd'].map({'SI': 1, 'NO': 0})\n",
        "\n",
        "df['tuvo_obd'] = np.where(df.groupby('vin')['contiene_obd'].transform('sum') > 0, 'SI TUVO', 'NO TUVO')"
      ]
    },
    {
      "cell_type": "code",
      "source": [
        "df_filtered = df[df['vin'] == '3N1AB7AD6KL601754']\n",
        "df_filtered"
      ],
      "metadata": {
        "id": "uTp9KZJvTQcB"
      },
      "execution_count": null,
      "outputs": []
    },
    {
      "cell_type": "code",
      "source": [
        "df_obd_nissan = df[df['unidad_negocios'] == 'NISSAN']\n",
        "\n",
        "df_obd_nissan.to_excel(\"df_obd_nissan.xlsx\", index=False)"
      ],
      "metadata": {
        "id": "wZfU48OwVmq6"
      },
      "execution_count": null,
      "outputs": []
    },
    {
      "cell_type": "markdown",
      "source": [
        "## OBTENER COLUMNA CON LA ULTIMA MANTENCION REALIZADA"
      ],
      "metadata": {
        "id": "R115R2N7v50Z"
      }
    },
    {
      "cell_type": "code",
      "source": [
        "df['ultima_mantencion'] = np.nan\n",
        "df['ultima_fecha'] = np.nan\n",
        "\n",
        "mask = df['tipo_mantenimiento'] != 0\n",
        "grouped = df[mask].groupby('vin')\n",
        "\n",
        "results = []\n",
        "for name, group in grouped:\n",
        "    max_date = group['fecha_venta'].idxmax()\n",
        "    row = {\n",
        "        'vin': name,\n",
        "        'ultima_mantencion': group['tipo_mantenimiento'].max(),\n",
        "        'ultima_fecha': group['fecha_venta'].max()\n",
        "    }\n",
        "    results.append(row)\n",
        "\n",
        "results_df = pd.DataFrame(results)\n",
        "df = df.merge(results_df, on='vin', how='left')\n"
      ],
      "metadata": {
        "id": "AI86suyC5qNI"
      },
      "execution_count": null,
      "outputs": []
    },
    {
      "cell_type": "code",
      "source": [
        "df.info()"
      ],
      "metadata": {
        "id": "BkHAL7Ykwi5F"
      },
      "execution_count": null,
      "outputs": []
    },
    {
      "cell_type": "code",
      "source": [
        "df.head(10)"
      ],
      "metadata": {
        "id": "FYqcT5CCsoOj"
      },
      "execution_count": null,
      "outputs": []
    },
    {
      "cell_type": "markdown",
      "metadata": {
        "id": "oui0v8Aaqtqe"
      },
      "source": [
        "## ULTIMO ESTADO BBDD SSTT"
      ]
    },
    {
      "cell_type": "code",
      "execution_count": null,
      "metadata": {
        "id": "6zgSbUpFrQzL"
      },
      "outputs": [],
      "source": [
        "df.head(10)"
      ]
    },
    {
      "cell_type": "code",
      "execution_count": null,
      "metadata": {
        "id": "kSkfbN5Kq_VD"
      },
      "outputs": [],
      "source": [
        "df.columns"
      ]
    },
    {
      "cell_type": "code",
      "execution_count": null,
      "metadata": {
        "id": "ozxVLFQEP1mK"
      },
      "outputs": [],
      "source": [
        "# ACA SE REALIZA LA AGRUPACION Y LA SEGEMNTACION \n",
        "\n",
        "# df.sort_values([\"fecha_venta\",\"numero_orden_trabajo\"], ascending=[False,False], inplace=True)\n",
        "# df_ultimoEstado = df.groupby(\"vin\").first().reset_index()"
      ]
    },
    {
      "cell_type": "code",
      "execution_count": null,
      "metadata": {
        "id": "_g3pr9-3rOTN"
      },
      "outputs": [],
      "source": [
        "# df_ultimoEstado = df_ultimoEstado.astype(str)\n",
        "# df_ultimoEstado[\"fecha_venta\"] = pd.to_datetime(df_ultimoEstado[\"fecha_venta\"], format=\"%Y-%m-%d\")\n",
        "# df_ultimoEstado.to_excel(\"UltimoEstadoSSTT.xlsx\", index=False)"
      ]
    },
    {
      "cell_type": "code",
      "execution_count": null,
      "metadata": {
        "id": "T2tuKQHKcXZ1"
      },
      "outputs": [],
      "source": [
        "\n",
        "df.to_excel(\"Siniestro.xlsx\", index=False)"
      ]
    },
    {
      "cell_type": "code",
      "execution_count": null,
      "metadata": {
        "id": "MRt2MUh1EcRB"
      },
      "outputs": [],
      "source": [
        "# df_filtered = df_ultimoEstado[df_ultimoEstado['vin'] == '3N1AB8AE0NY221914']\n",
        "# df_filtered"
      ]
    },
    {
      "cell_type": "code",
      "execution_count": null,
      "metadata": {
        "id": "KLcnJIDqCPKF"
      },
      "outputs": [],
      "source": [
        "# df_filtered = df[df['vin'] == '3G1M95EF0ML116284']\n",
        "# df_filtered"
      ]
    },
    {
      "cell_type": "markdown",
      "metadata": {
        "id": "IRA4RYqhpeSW"
      },
      "source": [
        "## CONSULTAS PARA EXTRAER AIRLIFE - TAKATA"
      ]
    },
    {
      "cell_type": "code",
      "execution_count": null,
      "metadata": {
        "id": "jbJucq-Kyi4S"
      },
      "outputs": [],
      "source": [
        "df_airlife = df.copy()\n",
        "df_airlife['contiene_airlife'] = np.where(df_airlife['detalle_factura'].str.contains(\"TAKATA|AIRBAG|AIR BAG|AIR-BAG|INFLADOR|AIR  BAG|BOLSA DE AIRE\", na=False), 'SI', 'NO')\n",
        "#df_airlife.to_excel(\"2022_airlife.xlsx\", index=False)\n",
        "df_filtrado = df_airlife.query(\"contiene_airlife == 'SI'\")\n",
        "df_filtrado.to_excel(\"2022_airlife.xlsx\", index=False)\n",
        "\n"
      ]
    },
    {
      "cell_type": "code",
      "execution_count": null,
      "metadata": {
        "id": "c1_7YatjpQe0"
      },
      "outputs": [],
      "source": [
        "df_airlife.columns"
      ]
    },
    {
      "cell_type": "markdown",
      "metadata": {
        "id": "gdCHsYNqKeEL"
      },
      "source": [
        "## PASOS PARA NORMALIZAR DATA (ANTIGUA) "
      ]
    },
    {
      "cell_type": "code",
      "execution_count": null,
      "metadata": {
        "id": "dYMVxJ9DEQhR"
      },
      "outputs": [],
      "source": [
        "# 1.1 Generar Nuevos Nombres de las Columnas \n",
        "nuevos_nombres = [\"oficina\",\"tipo_orden_trabajo\",\"numero_orden_trabajo\",\"tipo_trabajo\",\"numero_documento_venta\",\"fecha_venta\",\"numero_siniestro\",\"numero_orden\",\"numero_correlacion\",\"codigo_recepcionista\",\"agente_confirmo_7d\",\"fecha_apertura_orden_trabajo\",\"fecha_termino_orden_trabajo\",\"detalle_factura\",\"rut_cliente\",\"nombre_cliente\",\"patente\",\"marca\",\"modelo\",\"total_costo\",\"total_neto_mano_obra\",\"total_neto_repuestos\",\"total_neto_accesorios\",\"total_neto_lubricantes\",\"total_neto_materiales\",\"total_neto_otros\",\"total_neto_documento\",\"total_bruto_documento\",\"cantidad_litros_lubricantes\",\"forma_pago\",\"vin\",\"tipo_venta\",\"tipo_mantenimiento\",\"kilometros_vehiculo\",\"posee_mpp\",\"id_agente\",\"numero_presupuesto\", \"destinatario_kovcas\"]\n",
        "df.columns = nuevos_nombres\n"
      ]
    },
    {
      "cell_type": "code",
      "execution_count": null,
      "metadata": {
        "id": "mh_02af0Jecw"
      },
      "outputs": [],
      "source": [
        "#1.X Se crea la columna UNIDAD DE NEGOCIOS\n",
        "\n",
        "df['oficina'] = df['oficina'].str.upper()\n",
        "def asignar_unidad_negocios(oficina):\n",
        "    if \"NISSAN\" in oficina:\n",
        "        return \"NISSAN\"\n",
        "    elif \"TOYOTA\" in oficina:\n",
        "        return \"TOYOTA\"\n",
        "    elif \"DYP\" in oficina:\n",
        "        return \"DYP\"\n",
        "    else:\n",
        "        return \"CHEVROLET\"\n",
        "\n",
        "df[\"unidad_negocios\"] = df[\"oficina\"].apply(asignar_unidad_negocios)"
      ]
    },
    {
      "cell_type": "code",
      "execution_count": null,
      "metadata": {
        "id": "QKjIiib3q7pt"
      },
      "outputs": [],
      "source": [
        "#1.2 Se crea Columna Total Ingresos\n",
        "df= df.assign(total_ingresos = ((df['total_neto_accesorios'] + df['total_neto_lubricantes'] + df['total_neto_materiales'] + df['total_neto_repuestos']) - df['total_costo']) + df['total_neto_mano_obra'])\n",
        "\n"
      ]
    },
    {
      "cell_type": "code",
      "execution_count": null,
      "metadata": {
        "id": "Q3pGqUS-Klin"
      },
      "outputs": [],
      "source": [
        "#1.3 Se Genera la columna Total Facturación\n",
        "df['total_facturacion'] = df['total_neto_accesorios'] + df['total_neto_lubricantes'] + df['total_neto_materiales'] + df['total_neto_repuestos'] + df['total_neto_mano_obra']\n",
        "\n"
      ]
    },
    {
      "cell_type": "code",
      "execution_count": null,
      "metadata": {
        "id": "ohkpfScPIh-k"
      },
      "outputs": [],
      "source": [
        "#1.3 Se Normaliza Detalle Facturacion y se crea la Columna OBD  SI o NO son con OBD\n",
        "\n",
        "df['detalle_factura'].fillna('N/A', inplace=True)\n",
        "\n",
        "df['contiene_obd'] = np.where(df['detalle_factura'].str.contains(\"OBD|ANTICLO\", na=False), 'SI', 'NO')"
      ]
    },
    {
      "cell_type": "code",
      "execution_count": null,
      "metadata": {
        "id": "CvITck9bIvfj"
      },
      "outputs": [],
      "source": [
        "# 1.x Se crea la Columna NOTA DE CREDITO\n",
        "\n",
        "df['nota_credito'] = np.where(df['total_neto_repuestos'] >= 0, 'SIN NC', 'CON NC')\n"
      ]
    },
    {
      "cell_type": "code",
      "execution_count": null,
      "metadata": {
        "id": "eyGg0jH69f24"
      },
      "outputs": [],
      "source": []
    },
    {
      "cell_type": "code",
      "execution_count": null,
      "metadata": {
        "id": "7_z-eQAMPLdG"
      },
      "outputs": [],
      "source": [
        "# 1.X Se crea la columan TIPO DE CLIENTES\n",
        "\n",
        "df['tipo_cliente'] = df['detalle_factura'].apply(lambda x: 'SEGURO' if 'SEGURO' in str(x) else 'GENERAL')\n",
        "\n"
      ]
    },
    {
      "cell_type": "code",
      "execution_count": null,
      "metadata": {
        "id": "50ijj0jlStoy"
      },
      "outputs": [],
      "source": [
        "#Cambiar tipificacion de acuerdo a condicion\n",
        "\n",
        "df.loc[df['posee_mpp'] == 'SI', 'tipo_trabajo'] = 'Mant. Prev.'\n"
      ]
    },
    {
      "cell_type": "code",
      "execution_count": null,
      "metadata": {
        "id": "9W00XMEbdTZw"
      },
      "outputs": [],
      "source": [
        "# Se re tipifica la columna Tipo Trabajo\n",
        "\n",
        "df['tipo_trabajo'] = df['tipo_trabajo'].replace([\"Acc. u otros\", \"Accesorios\", \"Corr.,Acc. u otros\"], \"CORRECTIVA\")\n",
        "df['tipo_trabajo'] = df['tipo_trabajo'].replace([\"Mant. Prev.\"], \"PREVENTIVA\")\n",
        "df['tipo_trabajo'] = df['tipo_trabajo'].replace([\"CRÉDITO\"], \"CREDITO\")\n",
        "df['tipo_trabajo'] = df['tipo_trabajo'].replace([\"GARANTÍA\"], \"GARANTIA\")"
      ]
    },
    {
      "cell_type": "code",
      "execution_count": null,
      "metadata": {
        "id": "Z94iFF1arO-A"
      },
      "outputs": [],
      "source": [
        "# Se reemplan todos los Valores en la columna tiene_mpp de SI a NO en caso que el registro tenga MPP \n",
        "\n",
        "df.loc[df['contiene_obd'] == 'SI', 'posee_mpp'] = 'NO' \n",
        "\n",
        "# Se reemplan todos los Valores en la columna tiene_mpp de SI a NO en caso que el registro tenga MPP \n",
        "\n",
        "df.loc[df['contiene_obd'] == 'SI', 'tipo_trabajo'] = 'CORRECTIVA' "
      ]
    },
    {
      "cell_type": "code",
      "execution_count": null,
      "metadata": {
        "id": "Q5oTyaSSsEMN"
      },
      "outputs": [],
      "source": [
        "#Se normaliza la data en la columna *Tipo Trabajo*\n",
        "\n",
        "df['tipo_trabajo'] = df['tipo_trabajo'].str.replace('Á', 'A').str.replace('É', 'E').str.replace('Í', 'I').str.replace('Ó', 'O').str.replace('Ú', 'U').str.upper()\n",
        "df['tipo_trabajo'] = df['tipo_trabajo'].replace(np.nan, 'sin_tipo_trabajo', regex=True)"
      ]
    },
    {
      "cell_type": "code",
      "execution_count": null,
      "metadata": {
        "id": "nh3DTHjYxBRE"
      },
      "outputs": [],
      "source": [
        "# Se normaliza la data en la columna Tipo Orden Trabajo\n",
        "\n",
        "df['tipo_orden_trabajo'].fillna('N/A', inplace=True)\n",
        "df['tipo_orden_trabajo'] = df['tipo_orden_trabajo'].str.replace('Á', 'A').str.replace('É', 'E').str.replace('Í', 'I').str.replace('Ó', 'O').str.replace('Ú', 'U').str.upper()\n",
        "df['tipo_orden_trabajo'] = df['tipo_orden_trabajo'].replace(np.nan, 'sin_tipo_orden_trabajo', regex=True)"
      ]
    },
    {
      "cell_type": "code",
      "execution_count": null,
      "metadata": {
        "id": "p6GOwblJCQcN"
      },
      "outputs": [],
      "source": [
        "# Se genera una nueva columna con TIPO VENTA OT\n",
        "\n",
        "df[\"tipo_venta_ot\"] = np.where(df[\"tipo_venta\"].str.contains(re.compile(\"REPTOS|ANT.RPTO|CUP. MPP|RENTACAR|ANT.REPA|CHATARRA|GRUA|Deduc|CAFETERÍ|MISCELÁN\",re.IGNORECASE)), \"NO\", \"SI\")\n",
        "\n"
      ]
    },
    {
      "cell_type": "code",
      "execution_count": null,
      "metadata": {
        "id": "odBr0xOwGggM"
      },
      "outputs": [],
      "source": [
        "#Se Reemplaza los valores del tipo venta OT\n",
        "\n",
        "df['tipo_venta_ot'] = df['tipo_venta_ot'].replace({'SI': 'VENTAS CON OT', 'NO': 'OTRAS VENTAS'})\n"
      ]
    },
    {
      "cell_type": "code",
      "execution_count": null,
      "metadata": {
        "id": "nc4qKKmkHEz0"
      },
      "outputs": [],
      "source": [
        "#Se reemplaza los valores de la columna tipo Orden de Trabajo\n",
        "\n",
        "df['tipo_orden_trabajo'] = df['tipo_orden_trabajo'].replace({'SIN_TIPO_ORDEN_TRABAJO': 'OTRAS VENTAS'})\n"
      ]
    },
    {
      "cell_type": "code",
      "execution_count": null,
      "metadata": {
        "id": "aDGZd-Z90iNz"
      },
      "outputs": [],
      "source": [
        "# 1.X Se remplaza registors de acuerdo a la condición de las columnas (SE GENERA EL CONCEPTO MESCELANEAS)\n",
        "\n",
        "df['tipo_orden_trabajo'].replace('SIN_ORDEN_TRABAJO', 'MISCELANEA', inplace=True)\n",
        "df['tipo_trabajo'].replace('sin_tipo_trabajo', 'MISCELANEA', inplace=True)"
      ]
    },
    {
      "cell_type": "code",
      "execution_count": null,
      "metadata": {
        "id": "_iRkY52U0opx"
      },
      "outputs": [],
      "source": [
        "df.loc[(df['contiene_obd'] == 'SI') & ((df['tipo_orden_trabajo'] == 'GARANTIA') | (df['tipo_orden_trabajo'] == 'PREENTREGA')), 'tipo_orden_trabajo'] = 'MECANICA'"
      ]
    },
    {
      "cell_type": "code",
      "execution_count": null,
      "metadata": {
        "id": "0Zl0dmO5IY-O"
      },
      "outputs": [],
      "source": [
        "df['año_venta'] = pd.DatetimeIndex(df['fecha_venta']).year"
      ]
    },
    {
      "cell_type": "code",
      "execution_count": null,
      "metadata": {
        "id": "dme4tTuyrl6m"
      },
      "outputs": [],
      "source": [
        "#Genero una copia en caso que las prueba no sean la ideales\n",
        "df_ = df.copy()\n",
        "#Para volver a al df origina\n",
        "#df = df_.copy()"
      ]
    },
    {
      "cell_type": "code",
      "execution_count": null,
      "metadata": {
        "id": "ynGmKi_p0v6W"
      },
      "outputs": [],
      "source": [
        "#df.to_excel(\"data.xlsx\", index=False)"
      ]
    },
    {
      "cell_type": "code",
      "execution_count": null,
      "metadata": {
        "id": "iGUxEYMw70Nt"
      },
      "outputs": [],
      "source": [
        "#df.to_csv(\"data.csv\", index=False)"
      ]
    },
    {
      "cell_type": "markdown",
      "metadata": {
        "id": "8WNPkkrk2HHM"
      },
      "source": [
        "## CONSULTAS **VARIAS**"
      ]
    },
    {
      "cell_type": "code",
      "execution_count": null,
      "metadata": {
        "colab": {
          "base_uri": "https://localhost:8080/"
        },
        "id": "KDvKXqBzDnud",
        "outputId": "032efa54-bcfb-49e1-c9b2-4d4108e030fc"
      },
      "outputs": [
        {
          "data": {
            "text/plain": [
              "Index(['oficina', 'tipo_orden_trabajo', 'numero_orden_trabajo', 'tipo_trabajo',\n",
              "       'numero_documento_venta', 'fecha_venta', 'numero_siniestro',\n",
              "       'numero_orden', 'numero_correlacion', 'codigo_recepcionista',\n",
              "       'agente_confirmo_7d', 'fecha_apertura_orden_trabajo',\n",
              "       'fecha_termino_orden_trabajo', 'detalle_factura', 'rut_cliente',\n",
              "       'nombre_cliente', 'patente', 'marca', 'modelo', 'total_costo',\n",
              "       'total_neto_mano_obra', 'total_neto_repuestos', 'total_neto_accesorios',\n",
              "       'total_neto_lubricantes', 'total_neto_materiales', 'total_neto_otros',\n",
              "       'total_neto_documento', 'total_bruto_documento',\n",
              "       'cantidad_litros_lubricantes', 'forma_pago', 'vin', 'tipo_venta',\n",
              "       'tipo_mantenimiento', 'kilometros_vehiculo', 'posee_mpp', 'id_agente',\n",
              "       'numero_presupuesto', 'destinatario_kovcas', 'total_ingresos',\n",
              "       'total_facturacion', 'año_venta', 'mes_venta', 'contiene_obd',\n",
              "       'nota_credito', 'unidad_negocios', 'tipo_cliente', 'tipo_venta_ot',\n",
              "       'contar_ot', 'vin_patente'],\n",
              "      dtype='object')"
            ]
          },
          "execution_count": 36,
          "metadata": {},
          "output_type": "execute_result"
        }
      ],
      "source": [
        "df.columns"
      ]
    },
    {
      "cell_type": "markdown",
      "metadata": {
        "id": "Q3QYPjrRvEXg"
      },
      "source": [
        "###Contar el número de ordenes de trabajo por oficina:"
      ]
    },
    {
      "cell_type": "code",
      "execution_count": null,
      "metadata": {
        "colab": {
          "base_uri": "https://localhost:8080/"
        },
        "id": "QMZxzPHotMMo",
        "outputId": "c5dfa576-1679-4d74-c920-05f23c70e32a"
      },
      "outputs": [
        {
          "data": {
            "text/plain": [
              "oficina\n",
              "LINARES               6314\n",
              "LINARES TOYOTA        3269\n",
              "QUILLOTA              7366\n",
              "QUILLOTA NISSAN       2882\n",
              "SAN FELIPE            7778\n",
              "SAN FELIPE TOYOTA     2053\n",
              "STGO BUST. DYP        3168\n",
              "STGO HUECH. DYP       1390\n",
              "STGO MOVICENTER      11117\n",
              "STGO PLAZA SUR        5289\n",
              "STGO SEM. TOYOTA      6018\n",
              "STGO SEMINARIO       19094\n",
              "STGO TOBALABA         5005\n",
              "TALCA                10211\n",
              "TALCA TOYOTA          5306\n",
              "VALPARAÍSO            9342\n",
              "VALPO DYP             2948\n",
              "VALPO NISSAN          4121\n",
              "VIÑA DEL MAR          8780\n",
              "VIÑA NISSAN           6182\n",
              "Name: oficina, dtype: int64"
            ]
          },
          "execution_count": 31,
          "metadata": {},
          "output_type": "execute_result"
        }
      ],
      "source": [
        "df.groupby('oficina')['oficina'].count()"
      ]
    },
    {
      "cell_type": "markdown",
      "metadata": {
        "id": "Xei7SNtpvcQ1"
      },
      "source": [
        "###Obtener el total de ventas por tipo de trabajo:\n",
        "\n",
        "---\n",
        "\n"
      ]
    },
    {
      "cell_type": "code",
      "execution_count": null,
      "metadata": {
        "colab": {
          "base_uri": "https://localhost:8080/"
        },
        "id": "18rEg8biu6MX",
        "outputId": "7e5349bb-7ca9-48ff-e7c2-77d737a59886"
      },
      "outputs": [
        {
          "data": {
            "text/plain": [
              "tipo_trabajo\n",
              "Acc. u otros              559340\n",
              "Accesorios              55942711\n",
              "Corr.,Acc. u otros     815892295\n",
              "Crédito                   232627\n",
              "DyP                   1816212303\n",
              "Garantía               949391351\n",
              "Mant. Prev.           2611757832\n",
              "Preentrega             271053289\n",
              "Name: total_ingresos, dtype: int64"
            ]
          },
          "execution_count": 78,
          "metadata": {},
          "output_type": "execute_result"
        }
      ],
      "source": [
        "df.groupby('tipo_trabajo')['total_ingresos'].sum()"
      ]
    },
    {
      "cell_type": "markdown",
      "metadata": {
        "id": "Qf6_RJP-wEeO"
      },
      "source": [
        "###Obtener el total de ventas por cada agente:"
      ]
    },
    {
      "cell_type": "code",
      "execution_count": null,
      "metadata": {
        "id": "2i5NlwK3wFcN"
      },
      "outputs": [],
      "source": [
        "df.groupby('codigo_recepcionista')['total_ingresos'].sum()"
      ]
    },
    {
      "cell_type": "markdown",
      "metadata": {
        "id": "trs-JVNBwO0-"
      },
      "source": [
        "###Obtener el número de siniestros por tipo de orden de trabajo:"
      ]
    },
    {
      "cell_type": "code",
      "execution_count": null,
      "metadata": {
        "id": "05TmM8s8wRtR"
      },
      "outputs": [],
      "source": [
        "df.groupby('tipo_orden_trabajo')['numero_siniestro'].count()"
      ]
    },
    {
      "cell_type": "markdown",
      "metadata": {
        "id": "-B-tCJf6waeS"
      },
      "source": [
        "###Filtrar las ordenes de trabajo que fueron confirmadas por agentes en los últimos 7 días:"
      ]
    },
    {
      "cell_type": "code",
      "execution_count": null,
      "metadata": {
        "id": "KtQJm44JwbiO"
      },
      "outputs": [],
      "source": [
        "df[df['agente_confirmo_7d'] == True]"
      ]
    },
    {
      "cell_type": "markdown",
      "metadata": {
        "id": "gb16V8kGwz32"
      },
      "source": [
        "###Obtener el total de ventas por mes:"
      ]
    },
    {
      "cell_type": "code",
      "execution_count": null,
      "metadata": {
        "id": "Pmx77RNCwelq"
      },
      "outputs": [],
      "source": [
        "df.groupby(df['fecha_venta'].dt.month)['total_ingresos'].sum()"
      ]
    },
    {
      "cell_type": "markdown",
      "metadata": {
        "id": "DONjiTSkxBGd"
      },
      "source": [
        "###7.Obtener la cantidad de veces que se ha vendido cada marca de vehículo:"
      ]
    },
    {
      "cell_type": "code",
      "execution_count": null,
      "metadata": {
        "id": "hHrKvxJQxFG6"
      },
      "outputs": [],
      "source": [
        "df['marca'].value_counts()"
      ]
    },
    {
      "cell_type": "markdown",
      "metadata": {
        "id": "iP2WVlS-xOLJ"
      },
      "source": [
        "###8.Obtener el total de costos de repuestos por orden de trabajo:"
      ]
    },
    {
      "cell_type": "code",
      "execution_count": null,
      "metadata": {
        "id": "RIZTD3WTxRg0"
      },
      "outputs": [],
      "source": [
        "df.groupby('numero_orden_trabajo')['total_neto_repuestos'].sum()"
      ]
    },
    {
      "cell_type": "markdown",
      "metadata": {
        "id": "0-KR64sCxdfN"
      },
      "source": [
        "###9.Obtener el promedio de la cantidad de litros de lubricantes vendidos por orden de trabajo:"
      ]
    },
    {
      "cell_type": "code",
      "execution_count": null,
      "metadata": {
        "id": "2xRuDY9TxfgG"
      },
      "outputs": [],
      "source": [
        "df.groupby('numero_orden_trabajo')['cantidad_litros_lubricantes'].mean()"
      ]
    },
    {
      "cell_type": "markdown",
      "metadata": {
        "id": "uWITwBKKxlZ1"
      },
      "source": [
        "###10.Obtener el total de ventas por forma de pago:"
      ]
    },
    {
      "cell_type": "code",
      "execution_count": null,
      "metadata": {
        "id": "gqURYusdxo8J"
      },
      "outputs": [],
      "source": [
        "df.groupby('forma_pago')['total_ingresos'].sum()"
      ]
    },
    {
      "cell_type": "code",
      "execution_count": null,
      "metadata": {
        "id": "gEdGF_6Dz0H4"
      },
      "outputs": [],
      "source": [
        "df[['fecha_apertura_orden_trabajo','fecha_termino_orden_trabajo','fecha_venta']] = df[['fecha_apertura_orden_trabajo','fecha_termino_orden_trabajo','fecha_venta']].apply(pd.to_datetime)"
      ]
    },
    {
      "cell_type": "code",
      "execution_count": null,
      "metadata": {
        "id": "G_EI0gzu0A4k"
      },
      "outputs": [],
      "source": [
        "df['fecha_apertura_orden_trabajo'] = pd.to_datetime(df['fecha_apertura_orden_trabajo'])"
      ]
    },
    {
      "cell_type": "markdown",
      "metadata": {
        "id": "P48g-3Bfx0D8"
      },
      "source": [
        "###11.Filtrar las ordenes de trabajo que fueron abiertas en los últimos 30 días:"
      ]
    },
    {
      "cell_type": "code",
      "execution_count": null,
      "metadata": {
        "id": "kRf8xcbOx4_4"
      },
      "outputs": [],
      "source": [
        "df[(df['fecha_venta'] >= (pd.datetime.now() - timedelta(days=30)))]"
      ]
    },
    {
      "cell_type": "code",
      "execution_count": null,
      "metadata": {
        "id": "myplWCUs0gBl"
      },
      "outputs": [],
      "source": [
        "df[(df['fecha_venta'] >= (pd.datetime.now() - timedelta(days=7)))]"
      ]
    },
    {
      "cell_type": "code",
      "execution_count": null,
      "metadata": {
        "id": "nNAOR2qlfsL-"
      },
      "outputs": [],
      "source": [
        "df[(pd.to_datetime(df['fecha_venta']) >= (pd.to_datetime(date.today()) - timedelta(days=7)))]"
      ]
    },
    {
      "cell_type": "code",
      "execution_count": null,
      "metadata": {
        "id": "NbfTgIj3fcTR"
      },
      "outputs": [],
      "source": [
        "df[(pd.to_datetime(df['fecha_venta']) >= (pd.to_datetime(date.today()) - timedelta(days=30)))]"
      ]
    },
    {
      "cell_type": "code",
      "execution_count": null,
      "metadata": {
        "id": "BuID9UuqbRNi"
      },
      "outputs": [],
      "source": [
        "df[['fecha_apertura_orden_trabajo','fecha_termino_orden_trabajo','fecha_venta']] = df[['fecha_apertura_orden_trabajo','fecha_termino_orden_trabajo','fecha_venta']].apply(pd.to_datetime)"
      ]
    },
    {
      "cell_type": "markdown",
      "metadata": {
        "id": "OB8CZfDM1Rq8"
      },
      "source": [
        "###12.Obtener el total de ventas por cada destinatario de Kovcas:"
      ]
    },
    {
      "cell_type": "code",
      "execution_count": null,
      "metadata": {
        "id": "XvI0A2fw1Qiu"
      },
      "outputs": [],
      "source": [
        "df.groupby('destinatario_kovcas')['total_ingresos'].sum()"
      ]
    },
    {
      "cell_type": "markdown",
      "metadata": {
        "id": "uw11zv-yV2Rq"
      },
      "source": [
        "###13. Obtener el número de vehículos con mantenimiento programado"
      ]
    },
    {
      "cell_type": "code",
      "execution_count": null,
      "metadata": {
        "id": "JL_dGbpo00HB"
      },
      "outputs": [],
      "source": [
        "df[df['posee_mantenimiento'] == \"NO\"].count()"
      ]
    },
    {
      "cell_type": "markdown",
      "metadata": {
        "id": "ichANpOia6xn"
      },
      "source": [
        "###14. Obtener el total de ventas por cada agente:"
      ]
    },
    {
      "cell_type": "code",
      "execution_count": null,
      "metadata": {
        "id": "b8iY3ckNV3sW"
      },
      "outputs": [],
      "source": [
        "df.groupby('id_agente')['total_ingresos'].sum()"
      ]
    },
    {
      "cell_type": "markdown",
      "metadata": {
        "id": "nGwx0pDmbL0z"
      },
      "source": [
        "###15.Filtrar las ordenes de trabajo que fueron terminadas en los últimos 7 días"
      ]
    },
    {
      "cell_type": "code",
      "execution_count": null,
      "metadata": {
        "id": "C9XjE_GybNv3"
      },
      "outputs": [],
      "source": [
        "df[(df['fecha_venta'] >= (pd.to_datetime(date.today()) - timedelta(days=7)))]"
      ]
    },
    {
      "cell_type": "code",
      "execution_count": null,
      "metadata": {
        "id": "jyrC2ybMgbBt"
      },
      "outputs": [],
      "source": [
        "df[(df['fecha_venta'] >= (pd.datetime.now() - timedelta(days=7)))]"
      ]
    },
    {
      "cell_type": "markdown",
      "metadata": {
        "id": "N2MkPVuuh1wG"
      },
      "source": [
        "###16. Obtener el total de ventas por tipo de venta:"
      ]
    },
    {
      "cell_type": "code",
      "execution_count": null,
      "metadata": {
        "id": "207xeGEYhlLR"
      },
      "outputs": [],
      "source": [
        "df.groupby('tipo_venta')['total_ingresos'].sum()"
      ]
    },
    {
      "cell_type": "markdown",
      "metadata": {
        "id": "_NU6N45_iVdN"
      },
      "source": [
        "###17.Obtener el número de vehículos por cada marca:"
      ]
    },
    {
      "cell_type": "code",
      "execution_count": null,
      "metadata": {
        "id": "6XdaT7HOiJLU"
      },
      "outputs": [],
      "source": [
        "df['marca'].value_counts()"
      ]
    },
    {
      "cell_type": "markdown",
      "metadata": {
        "id": "FJf7uWvMiiam"
      },
      "source": [
        "###18.Obtener el total de ventas por tipo de mantenimiento:"
      ]
    },
    {
      "cell_type": "code",
      "execution_count": null,
      "metadata": {
        "id": "e9jdACmUican"
      },
      "outputs": [],
      "source": [
        "df.groupby('tipo_mantenimiento')['total_ingresos'].sum()"
      ]
    },
    {
      "cell_type": "markdown",
      "metadata": {
        "id": "qp6e1I_ZiwiX"
      },
      "source": [
        "###19.Obtener el promedio de kilómetros de los vehículos en orden de trabajo:"
      ]
    },
    {
      "cell_type": "code",
      "execution_count": null,
      "metadata": {
        "id": "-kqJ2RWRiptk"
      },
      "outputs": [],
      "source": [
        "df['kilometros_vehiculo'].mean()"
      ]
    },
    {
      "cell_type": "markdown",
      "metadata": {
        "id": "V5ic1JY1i6Py"
      },
      "source": [
        "###20.Obtener el total de ventas por número de presupuesto:"
      ]
    },
    {
      "cell_type": "code",
      "execution_count": null,
      "metadata": {
        "id": "MQtY8cMWi8IR"
      },
      "outputs": [],
      "source": [
        "df.groupby('numero_presupuesto')['total_ingresos'].sum()"
      ]
    },
    {
      "cell_type": "markdown",
      "metadata": {
        "id": "sk3uFyhjj48i"
      },
      "source": [
        "###1.1.btener el total de ventas por cada tipo de orden de trabajo:"
      ]
    },
    {
      "cell_type": "code",
      "execution_count": null,
      "metadata": {
        "id": "npXkXQNgj720"
      },
      "outputs": [],
      "source": [
        "df.groupby('tipo_orden_trabajo')['total_ingresos'].sum()"
      ]
    },
    {
      "cell_type": "markdown",
      "metadata": {
        "id": "Eyma-3HGkB44"
      },
      "source": [
        "###Filtrar las ordenes de trabajo por un rango de fechas específico:\n"
      ]
    },
    {
      "cell_type": "code",
      "execution_count": null,
      "metadata": {
        "id": "w0VbTUVJkCo2"
      },
      "outputs": [],
      "source": [
        "df[(df['fecha_venta'] >= '2022-01-01') & (df['fecha_venta'] <= '2022-12-31')]"
      ]
    },
    {
      "cell_type": "markdown",
      "metadata": {
        "id": "ZhRO9Hf1kJHe"
      },
      "source": [
        "###Obtener el total de ventas por cada modelo de vehículo:\n"
      ]
    },
    {
      "cell_type": "code",
      "execution_count": null,
      "metadata": {
        "id": "aa4sEof_kE2v"
      },
      "outputs": [],
      "source": [
        "df.groupby('modelo')['total_ingresos'].sum()"
      ]
    },
    {
      "cell_type": "markdown",
      "metadata": {
        "id": "YXsq6LSZkP9P"
      },
      "source": [
        "###Obtener el número de ordenes de trabajo por cada tipo de venta:"
      ]
    },
    {
      "cell_type": "code",
      "execution_count": null,
      "metadata": {
        "id": "PzNBBptCkRX_"
      },
      "outputs": [],
      "source": [
        "df.groupby('tipo_venta')['numero_orden_trabajo'].count()"
      ]
    },
    {
      "cell_type": "markdown",
      "metadata": {
        "id": "2_kz54OCkXc7"
      },
      "source": []
    },
    {
      "cell_type": "markdown",
      "metadata": {
        "id": "8PYUpyLPkXoi"
      },
      "source": [
        "###Obtener el total de ventas por cada tipo de mantenimiento:\n"
      ]
    },
    {
      "cell_type": "code",
      "execution_count": null,
      "metadata": {
        "id": "hefJh7bhkYU4"
      },
      "outputs": [],
      "source": [
        "df.groupby('tipo_mantenimiento')['total_ingresos'].sum()"
      ]
    },
    {
      "cell_type": "markdown",
      "metadata": {
        "id": "71O3lMunkhBJ"
      },
      "source": [
        "###Filtrar las ordenes de trabajo por un número de siniestro específico:\n"
      ]
    },
    {
      "cell_type": "code",
      "execution_count": null,
      "metadata": {
        "id": "JG9_hzGykh5y"
      },
      "outputs": [],
      "source": [
        "df[df['numero_siniestro'] == '12345']"
      ]
    },
    {
      "cell_type": "markdown",
      "metadata": {
        "id": "YY17MPwNkmOk"
      },
      "source": [
        "###Obtener el total de ventas por cada nombre de cliente:\n"
      ]
    },
    {
      "cell_type": "code",
      "execution_count": null,
      "metadata": {
        "id": "_Lwfg0gFkns3"
      },
      "outputs": [],
      "source": [
        "df.groupby('nombre_cliente')['total_ingresos'].sum()"
      ]
    },
    {
      "cell_type": "markdown",
      "metadata": {
        "id": "kS84QrjcktMO"
      },
      "source": [
        "###Obtener el total de ventas por cada patente de vehículo:"
      ]
    },
    {
      "cell_type": "code",
      "execution_count": null,
      "metadata": {
        "id": "0r27nn3HkuPk"
      },
      "outputs": [],
      "source": [
        "df.groupby('patente')['total_ingresos'].sum()"
      ]
    },
    {
      "cell_type": "markdown",
      "metadata": {
        "id": "CeJVmIUrkyYw"
      },
      "source": [
        "###9.1.Filtrar las ordenes de trabajo por un número de orden específico:"
      ]
    },
    {
      "cell_type": "code",
      "execution_count": null,
      "metadata": {
        "id": "0xPz8TV8k0JR"
      },
      "outputs": [],
      "source": [
        "df[df['numero_orden'] == '98765']"
      ]
    },
    {
      "cell_type": "markdown",
      "metadata": {
        "id": "dF1jVFVRk7aV"
      },
      "source": [
        "###10.1 Obtener el total de ventas por cada forma de pago:"
      ]
    },
    {
      "cell_type": "code",
      "execution_count": null,
      "metadata": {
        "id": "ZMYm9k5Zk9hp"
      },
      "outputs": [],
      "source": [
        "df.groupby('forma_pago')['total_ingresos'].sum()"
      ]
    },
    {
      "cell_type": "markdown",
      "metadata": {
        "id": "yl9wGWOo26O3"
      },
      "source": [
        "## Reordennamiento de columnas para sacar el ultimo estado por VIN o Patente"
      ]
    },
    {
      "cell_type": "markdown",
      "metadata": {
        "id": "SdBqs8kZxlTb"
      },
      "source": [
        "### 10.2 Reordenar Columnas::\n",
        "\n",
        "---\n",
        "\n"
      ]
    },
    {
      "cell_type": "code",
      "execution_count": null,
      "metadata": {
        "id": "lXuLMYC9skEm"
      },
      "outputs": [],
      "source": [
        "df = df.reindex(columns=['oficina', 'patente', 'tipo_orden_trabajo', 'numero_orden_trabajo', 'tipo_trabajo',\n",
        "       'numero_documento_venta', 'fecha_venta', 'numero_siniestro',\n",
        "       'numero_orden', 'numero_correlacion', 'codigo_recepcionista',\n",
        "       'agente_confirmo_7d', 'fecha_apertura_orden_trabajo',\n",
        "       'fecha_termino_orden_trabajo', 'detalle_factura', 'rut_cliente',\n",
        "       'nombre_cliente',  'marca', 'modelo', 'total_costo',\n",
        "       'total_neto_mano_obra', 'total_neto_repuestos', 'total_neto_accesorios',\n",
        "       'total_neto_lubricantes', 'total_neto_materiales', 'total_neto_otros',\n",
        "       'total_neto_documento', 'total_bruto_documento',\n",
        "       'cantidad_litros_lubricantes', 'forma_pago', 'vin', 'tipo_venta',\n",
        "       'tipo_mantenimiento', 'kilometros_vehiculo', 'posee_mantenimiento',\n",
        "       'id_agente', 'numero_presupuesto', 'destinatario_kovcas',\n",
        "       'total_ingresos'])"
      ]
    },
    {
      "cell_type": "markdown",
      "metadata": {
        "id": "iTEGZgNE3pO6"
      },
      "source": [
        "## SUMATORIAS"
      ]
    },
    {
      "cell_type": "markdown",
      "metadata": {
        "id": "m9QJWkxmhVBI"
      },
      "source": [
        "###10.3 Obtener el ultimo listado de cada Patente con su ultima Facturacion"
      ]
    },
    {
      "cell_type": "code",
      "execution_count": null,
      "metadata": {
        "id": "VZnKzcyLlg1d"
      },
      "outputs": [],
      "source": [
        "df.sort_values(by='fecha_venta',ascending=False).groupby('patente').tail(1)"
      ]
    },
    {
      "cell_type": "markdown",
      "metadata": {
        "id": "qZ8elI5ehpHj"
      },
      "source": [
        "###10.4 Obtener el Total Ingreso del año 2023 (Sin Formato)"
      ]
    },
    {
      "cell_type": "code",
      "execution_count": null,
      "metadata": {
        "colab": {
          "base_uri": "https://localhost:8080/"
        },
        "id": "kMeu5m1byCLU",
        "outputId": "b5ff0d6f-28a0-4b76-da17-e411256bd58e"
      },
      "outputs": [
        {
          "data": {
            "text/plain": [
              "690007247"
            ]
          },
          "execution_count": 43,
          "metadata": {},
          "output_type": "execute_result"
        }
      ],
      "source": [
        "df.loc[df['fecha_venta'].dt.year == 2023, 'total_ingreso'].sum()\n"
      ]
    },
    {
      "cell_type": "markdown",
      "metadata": {
        "id": "w4UQxKQEh1Wi"
      },
      "source": [
        "###10.5 Obtener el Totales del año 2023 (Con Formato)"
      ]
    },
    {
      "cell_type": "code",
      "execution_count": null,
      "metadata": {
        "id": "cevLYNuj0dzJ"
      },
      "outputs": [],
      "source": [
        "print(\"Total Ingresos: ${:,.2f}\".format(df.loc[df['fecha_venta'].dt.year == 2023, 'total_ingresos'].sum()))"
      ]
    },
    {
      "cell_type": "code",
      "execution_count": null,
      "metadata": {
        "colab": {
          "base_uri": "https://localhost:8080/"
        },
        "id": "OiQ3_i_o0vvm",
        "outputId": "0a796de9-c4b8-48d8-bad1-4d584b20feb3"
      },
      "outputs": [
        {
          "name": "stdout",
          "output_type": "stream",
          "text": [
            "Facturacion: $1,632,617,276.00\n"
          ]
        }
      ],
      "source": [
        "print(\"Facturacion: ${:,.2f}\".format(df.loc[df['fecha_venta'].dt.year == 2023, 'total_facturacion'].sum()))"
      ]
    },
    {
      "cell_type": "markdown",
      "metadata": {
        "id": "omVYxvhziDNo"
      },
      "source": [
        "###10.6 Obtener el Totales del año 2023 y de Sucursal (Linares) (Sin Formato)"
      ]
    },
    {
      "cell_type": "code",
      "execution_count": null,
      "metadata": {
        "colab": {
          "base_uri": "https://localhost:8080/"
        },
        "id": "zAaFE-ga3AlG",
        "outputId": "58c302e9-d21a-4bb2-e89f-084d0765ff17"
      },
      "outputs": [
        {
          "data": {
            "text/plain": [
              "38868435"
            ]
          },
          "execution_count": 37,
          "metadata": {},
          "output_type": "execute_result"
        }
      ],
      "source": [
        "df.loc[(df['fecha_venta'].dt.year == 2023) & (df['oficina'] == 'Linares'), 'total_ingresos'].sum()"
      ]
    },
    {
      "cell_type": "markdown",
      "metadata": {
        "id": "TGmxwdnuiXIZ"
      },
      "source": [
        "###10.7 Obtener cantidad de registros[texto del enlace](https://) de Sucursal (Linares) (Sin Formato)"
      ]
    },
    {
      "cell_type": "code",
      "execution_count": null,
      "metadata": {
        "colab": {
          "base_uri": "https://localhost:8080/"
        },
        "id": "aArJLc443lCw",
        "outputId": "62767bbe-ce41-4471-e8eb-30d9307fc6fd"
      },
      "outputs": [
        {
          "data": {
            "text/plain": [
              "3414"
            ]
          },
          "execution_count": 40,
          "metadata": {},
          "output_type": "execute_result"
        }
      ],
      "source": [
        "df.loc[df['oficina'] == 'Linares'].shape[0]\n"
      ]
    },
    {
      "cell_type": "markdown",
      "metadata": {
        "id": "kDdIDGc6ir6B"
      },
      "source": [
        "###10.8 Generar columna Total Facturación"
      ]
    },
    {
      "cell_type": "code",
      "execution_count": null,
      "metadata": {
        "colab": {
          "base_uri": "https://localhost:8080/"
        },
        "id": "j_fUYfMnxu8E",
        "outputId": "e7cb9370-544c-41a6-db98-f730085c3158"
      },
      "outputs": [
        {
          "name": "stdout",
          "output_type": "stream",
          "text": [
            "Facturacion: $1,632,617,276.00\n"
          ]
        }
      ],
      "source": [
        "print(\"Facturacion: ${:,.2f}\".format(df.loc[df['fecha_venta'].dt.year == 2023, 'total_facturacion'].sum()))"
      ]
    },
    {
      "cell_type": "code",
      "execution_count": null,
      "metadata": {
        "colab": {
          "base_uri": "https://localhost:8080/"
        },
        "id": "yeDmXTa50FOA",
        "outputId": "fd5b85b9-2898-4cb7-fc7d-8545582eabdf"
      },
      "outputs": [
        {
          "name": "stdout",
          "output_type": "stream",
          "text": [
            "El total de facturación es: $15,611,789,153\n"
          ]
        }
      ],
      "source": [
        "print(\"El total de facturación es: ${:,.0f}\".format(df['total_facturacion'].sum()))"
      ]
    },
    {
      "cell_type": "code",
      "execution_count": null,
      "metadata": {
        "colab": {
          "base_uri": "https://localhost:8080/"
        },
        "id": "qElcayBo0swa",
        "outputId": "92fe74a7-92e2-4d06-d832-66191aa9b02d"
      },
      "outputs": [
        {
          "name": "stdout",
          "output_type": "stream",
          "text": [
            "El total de facturación en el año 2023 es: $1,632,617,276\n"
          ]
        }
      ],
      "source": [
        "df_2023 = df.query(\"fecha_venta.dt.year == 2023\")\n",
        "print(\"El total de facturación en el año 2023 es: ${:,.0f}\".format(df_2023['total_facturacion'].sum()))\n"
      ]
    },
    {
      "cell_type": "code",
      "execution_count": null,
      "metadata": {
        "colab": {
          "base_uri": "https://localhost:8080/"
        },
        "id": "MODPUs561Os2",
        "outputId": "395c5dcb-e298-4e13-bcd2-d204a3eceb1f"
      },
      "outputs": [
        {
          "name": "stdout",
          "output_type": "stream",
          "text": [
            "Total facturacion 2023: $1,632,617,276.00\n"
          ]
        }
      ],
      "source": [
        "total_facturacion_2023 = df.loc[df['fecha_venta'].dt.year == 2023, 'total_facturacion'].sum()\n",
        "print(\"Total facturacion 2023: ${:,.2f}\".format(total_facturacion_2023))\n"
      ]
    },
    {
      "cell_type": "code",
      "execution_count": null,
      "metadata": {
        "colab": {
          "base_uri": "https://localhost:8080/"
        },
        "id": "scb2LhSP1j0v",
        "outputId": "d90ce7aa-2980-4176-fcdb-a99f13f304bd"
      },
      "outputs": [
        {
          "name": "stdout",
          "output_type": "stream",
          "text": [
            "Total facturación: $1,632,617,276\n"
          ]
        }
      ],
      "source": [
        "total = df.loc[df['fecha_venta'].dt.year == 2023, 'total_facturacion'].sum()\n",
        "print(\"Total facturación: ${:,.0f}\".format(total))"
      ]
    },
    {
      "cell_type": "markdown",
      "metadata": {
        "id": "ukI8H3OCjbAy"
      },
      "source": [
        "###10.9 Obtener Total Facturacion por Oficina"
      ]
    },
    {
      "cell_type": "code",
      "execution_count": null,
      "metadata": {
        "id": "33N1B4hT13zt"
      },
      "outputs": [],
      "source": [
        "# Agrupar por las columnas deseadas\n",
        "df_grouped = df.groupby(['oficina'])[['total_facturacion','total_neto_mano_obra','total_neto_repuestos','total_neto_lubricantes','total_ingresos']].sum().reset_index()\n",
        "\n",
        "# Renombrar las columnas\n",
        "df_grouped = df_grouped.rename(columns={'total_facturacion':'Total Facturacion',\n",
        "                                       'total_neto_mano_obra':'Mano de Obra',\n",
        "                                       'total_neto_repuestos':'Total Repuestos',\n",
        "                                       'total_neto_lubricantes':'Total Lubricantes',\n",
        "                                       'total_ingresos':'Total Ingresos'})\n",
        "df_grouped\n"
      ]
    },
    {
      "cell_type": "markdown",
      "metadata": {
        "id": "8vHvfDLtj2wD"
      },
      "source": [
        "###10.10 Obtener Totales por Columnas Totales Netos \n"
      ]
    },
    {
      "cell_type": "code",
      "execution_count": null,
      "metadata": {
        "colab": {
          "base_uri": "https://localhost:8080/"
        },
        "id": "b-QTGj8O4Hah",
        "outputId": "2a1e07e7-fb5a-40f1-d578-d9689699a454"
      },
      "outputs": [
        {
          "name": "stdout",
          "output_type": "stream",
          "text": [
            "                    Total            0\n",
            "0       total_facturacion  15704814516\n",
            "1    total_neto_mano_obra   2922605207\n",
            "2    total_neto_repuestos  10715637987\n",
            "3  total_neto_lubricantes   1323990179\n",
            "4          total_ingresos   6446978339\n"
          ]
        }
      ],
      "source": [
        "table = df.agg({\n",
        "    'total_facturacion': 'sum',\n",
        "    'total_neto_mano_obra': 'sum',\n",
        "    'total_neto_repuestos': 'sum',\n",
        "    'total_neto_lubricantes': 'sum',\n",
        "    'total_ingresos': 'sum'\n",
        "}).rename_axis('Total').reset_index()\n",
        "print(table)"
      ]
    },
    {
      "cell_type": "code",
      "execution_count": null,
      "metadata": {
        "id": "1M3FOjaa4hpA"
      },
      "outputs": [],
      "source": [
        "table = df[['total_facturacion','total_neto_mano_obra','total_neto_repuestos','total_neto_lubricantes','total_ingresos']]\n",
        "table = table.agg(['sum'])\n",
        "table = table.T\n",
        "table = table.rename(columns = {'sum':'Total'})\n",
        "table"
      ]
    },
    {
      "cell_type": "markdown",
      "metadata": {
        "id": "r5o1RKHtkZ0s"
      },
      "source": [
        "###10.11 Obtener Total por Oficina y aplicar formato $"
      ]
    },
    {
      "cell_type": "code",
      "execution_count": null,
      "metadata": {
        "id": "rdax6q1X8DEn"
      },
      "outputs": [],
      "source": [
        "# convertir la columna fecha_venta a tipo datetime\n",
        "df['fecha_venta'] = pd.to_datetime(df['fecha_venta'])\n",
        "\n",
        "# filtrar solo las filas del año 2023\n",
        "df_2023 = df[df['fecha_venta'].dt.year == 2023]\n",
        "\n",
        "# Agrupar por las columnas deseadas\n",
        "df_grouped = df_2023.groupby(['oficina'])[['total_facturacion','total_neto_mano_obra','total_neto_repuestos','total_neto_lubricantes','total_ingresos']].sum().reset_index()\n",
        "\n",
        "# Renombrar las columnas\n",
        "df_grouped = df_grouped.rename(columns={'total_facturacion':'Total Facturacion',\n",
        "                                       'total_neto_mano_obra':'Mano de Obra',\n",
        "                                       'total_neto_repuestos':'Total Repuestos',\n",
        "                                       'total_neto_lubricantes':'Total Lubricantes',\n",
        "                                       'total_ingresos':'Total Ingresos'})\n",
        "\n",
        "# aplicar formato de moneda a las columnas\n",
        "df_grouped['Total Facturacion'] = df_grouped['Total Facturacion'].apply(lambda x: \"${:,.0f}\".format(x))\n",
        "df_grouped['Mano de Obra'] = df_grouped['Mano de Obra'].apply(lambda x: \"${:,.0f}\".format(x))\n",
        "df_grouped['Total Repuestos'] = df_grouped['Total Repuestos'].apply(lambda x: \"${:,.0f}\".format(x))\n",
        "df_grouped['Total Lubricantes'] = df_grouped['Total Lubricantes'].apply(lambda x: \"${:,.0f}\".format(x))\n",
        "df_grouped['Total Ingresos'] = df_grouped['Total Ingresos'].apply(lambda x: \"${:,.0f}\".format(x))\n"
      ]
    },
    {
      "cell_type": "code",
      "execution_count": null,
      "metadata": {
        "id": "G9e7xGZH8Gwz"
      },
      "outputs": [],
      "source": [
        "df_2023 = df.loc[df['fecha_venta'].dt.year == 2023]\n",
        "df_grouped = df_2023.groupby(['oficina'])[['total_facturacion','total_neto_mano_obra','total_neto_repuestos','total_neto_lubricantes','total_ingresos']].sum().reset_index()\n",
        "df_grouped[\"total_facturacion\"] = df_grouped[\"total_facturacion\"].apply(lambda x: \"${:,.0f}\".format(x))\n",
        "df_grouped[\"total_neto_mano_obra\"] = df_grouped[\"total_neto_mano_obra\"].apply(lambda x: \"${:,.0f}\".format(x))\n",
        "df_grouped[\"total_neto_repuestos\"] = df_grouped[\"total_neto_repuestos\"].apply(lambda x: \"${:,.0f}\".format(x))\n",
        "df_grouped[\"total_neto_lubricantes\"] = df_grouped[\"total_neto_lubricantes\"].apply(lambda x: \"${:,.0f}\".format(x))\n",
        "df_grouped[\"total_ingresos\"] = df_grouped[\"total_ingresos\"].apply(lambda x: \"${:,.0f}\".format(x))\n",
        "df_grouped = df_grouped.rename(columns={'total_facturacion':'Total Facturacion',\n",
        "                                       'total_neto_mano_obra':'Mano de Obra',\n",
        "                                       'total_neto_repuestos':'Total Repuestos',\n",
        "                                       'total_neto_lubricantes':'Total Lubricantes',\n",
        "                                       'total_ingresos':'Total Ingresos'})\n",
        "df_grouped"
      ]
    },
    {
      "cell_type": "markdown",
      "metadata": {
        "id": "QhSWCSaslCYh"
      },
      "source": [
        "###10.12 Obtener Total por Oficina y con formato $"
      ]
    },
    {
      "cell_type": "code",
      "execution_count": null,
      "metadata": {
        "id": "SpfRpSRs8bNA"
      },
      "outputs": [],
      "source": [
        "# Filtro solo para el año 2023\n",
        "df_2023 = df[df['fecha_venta'].dt.year == 2023]\n",
        "\n",
        "# Agrupar por las columnas deseadas\n",
        "df_grouped = df_2023.groupby(['oficina'])[['total_facturacion','total_neto_mano_obra','total_neto_repuestos','total_neto_lubricantes','total_ingresos']].sum().reset_index()\n",
        "\n",
        "# Renombrar las columnas\n",
        "df_grouped = df_grouped.rename(columns={'total_facturacion':'Total Facturacion',\n",
        "                                       'total_neto_mano_obra':'Mano de Obra',\n",
        "                                       'total_neto_repuestos':'Total Repuestos',\n",
        "                                       'total_neto_lubricantes':'Total Lubricantes',\n",
        "                                       'total_ingresos':'Total Ingresos'})\n",
        "\n",
        "# Agregar el formato de pesos $ y sin decimales\n",
        "df_grouped[['Total Facturacion','Mano de Obra','Total Repuestos','Total Lubricantes','Total Ingresos']] = df_grouped[['Total Facturacion','Mano de Obra','Total Repuestos','Total Lubricantes','Total Ingresos']].applymap('${:,.0f}'.format)\n",
        "df_grouped"
      ]
    },
    {
      "cell_type": "markdown",
      "metadata": {
        "id": "VssePMXS3xwf"
      },
      "source": [
        "## OTRAS CONSULTAS:"
      ]
    },
    {
      "cell_type": "markdown",
      "metadata": {
        "id": "2uGf7qqElwl1"
      },
      "source": [
        "###10.14 Genera un listado con el total de facturacion por unidad de negocio (Con Formato)"
      ]
    },
    {
      "cell_type": "code",
      "execution_count": null,
      "metadata": {
        "colab": {
          "base_uri": "https://localhost:8080/",
          "height": 175
        },
        "id": "7sE2Whcd-rmx",
        "outputId": "ec4c2c36-8938-419b-d163-1d13f18f3a24"
      },
      "outputs": [
        {
          "data": {
            "text/html": [
              "\n",
              "  <div id=\"df-e389dde9-8dbb-4c76-977e-26bd32427cd4\">\n",
              "    <div class=\"colab-df-container\">\n",
              "      <div>\n",
              "<style scoped>\n",
              "    .dataframe tbody tr th:only-of-type {\n",
              "        vertical-align: middle;\n",
              "    }\n",
              "\n",
              "    .dataframe tbody tr th {\n",
              "        vertical-align: top;\n",
              "    }\n",
              "\n",
              "    .dataframe thead th {\n",
              "        text-align: right;\n",
              "    }\n",
              "</style>\n",
              "<table border=\"1\" class=\"dataframe\">\n",
              "  <thead>\n",
              "    <tr style=\"text-align: right;\">\n",
              "      <th></th>\n",
              "      <th>unidad_negocios</th>\n",
              "      <th>Total Facturacion</th>\n",
              "      <th>Mano de Obra</th>\n",
              "      <th>Total Repuestos</th>\n",
              "      <th>Total Lubricantes</th>\n",
              "      <th>Total Ingresos</th>\n",
              "    </tr>\n",
              "  </thead>\n",
              "  <tbody>\n",
              "    <tr>\n",
              "      <th>0</th>\n",
              "      <td>CHEVROLET</td>\n",
              "      <td>$1,187,619,571</td>\n",
              "      <td>$229,207,185</td>\n",
              "      <td>$762,050,031</td>\n",
              "      <td>$150,483,778</td>\n",
              "      <td>$536,132,728</td>\n",
              "    </tr>\n",
              "    <tr>\n",
              "      <th>1</th>\n",
              "      <td>DYP</td>\n",
              "      <td>$282,575,504</td>\n",
              "      <td>$51,689,160</td>\n",
              "      <td>$227,708,017</td>\n",
              "      <td>$0</td>\n",
              "      <td>$106,667,767</td>\n",
              "    </tr>\n",
              "    <tr>\n",
              "      <th>2</th>\n",
              "      <td>NISSAN</td>\n",
              "      <td>$184,236,101</td>\n",
              "      <td>$46,091,265</td>\n",
              "      <td>$108,268,717</td>\n",
              "      <td>$29,074,487</td>\n",
              "      <td>$81,959,513</td>\n",
              "    </tr>\n",
              "    <tr>\n",
              "      <th>3</th>\n",
              "      <td>TOYOTA</td>\n",
              "      <td>$215,921,113</td>\n",
              "      <td>$42,001,926</td>\n",
              "      <td>$132,942,628</td>\n",
              "      <td>$14,652,071</td>\n",
              "      <td>$73,549,351</td>\n",
              "    </tr>\n",
              "  </tbody>\n",
              "</table>\n",
              "</div>\n",
              "      <button class=\"colab-df-convert\" onclick=\"convertToInteractive('df-e389dde9-8dbb-4c76-977e-26bd32427cd4')\"\n",
              "              title=\"Convert this dataframe to an interactive table.\"\n",
              "              style=\"display:none;\">\n",
              "        \n",
              "  <svg xmlns=\"http://www.w3.org/2000/svg\" height=\"24px\"viewBox=\"0 0 24 24\"\n",
              "       width=\"24px\">\n",
              "    <path d=\"M0 0h24v24H0V0z\" fill=\"none\"/>\n",
              "    <path d=\"M18.56 5.44l.94 2.06.94-2.06 2.06-.94-2.06-.94-.94-2.06-.94 2.06-2.06.94zm-11 1L8.5 8.5l.94-2.06 2.06-.94-2.06-.94L8.5 2.5l-.94 2.06-2.06.94zm10 10l.94 2.06.94-2.06 2.06-.94-2.06-.94-.94-2.06-.94 2.06-2.06.94z\"/><path d=\"M17.41 7.96l-1.37-1.37c-.4-.4-.92-.59-1.43-.59-.52 0-1.04.2-1.43.59L10.3 9.45l-7.72 7.72c-.78.78-.78 2.05 0 2.83L4 21.41c.39.39.9.59 1.41.59.51 0 1.02-.2 1.41-.59l7.78-7.78 2.81-2.81c.8-.78.8-2.07 0-2.86zM5.41 20L4 18.59l7.72-7.72 1.47 1.35L5.41 20z\"/>\n",
              "  </svg>\n",
              "      </button>\n",
              "      \n",
              "  <style>\n",
              "    .colab-df-container {\n",
              "      display:flex;\n",
              "      flex-wrap:wrap;\n",
              "      gap: 12px;\n",
              "    }\n",
              "\n",
              "    .colab-df-convert {\n",
              "      background-color: #E8F0FE;\n",
              "      border: none;\n",
              "      border-radius: 50%;\n",
              "      cursor: pointer;\n",
              "      display: none;\n",
              "      fill: #1967D2;\n",
              "      height: 32px;\n",
              "      padding: 0 0 0 0;\n",
              "      width: 32px;\n",
              "    }\n",
              "\n",
              "    .colab-df-convert:hover {\n",
              "      background-color: #E2EBFA;\n",
              "      box-shadow: 0px 1px 2px rgba(60, 64, 67, 0.3), 0px 1px 3px 1px rgba(60, 64, 67, 0.15);\n",
              "      fill: #174EA6;\n",
              "    }\n",
              "\n",
              "    [theme=dark] .colab-df-convert {\n",
              "      background-color: #3B4455;\n",
              "      fill: #D2E3FC;\n",
              "    }\n",
              "\n",
              "    [theme=dark] .colab-df-convert:hover {\n",
              "      background-color: #434B5C;\n",
              "      box-shadow: 0px 1px 3px 1px rgba(0, 0, 0, 0.15);\n",
              "      filter: drop-shadow(0px 1px 2px rgba(0, 0, 0, 0.3));\n",
              "      fill: #FFFFFF;\n",
              "    }\n",
              "  </style>\n",
              "\n",
              "      <script>\n",
              "        const buttonEl =\n",
              "          document.querySelector('#df-e389dde9-8dbb-4c76-977e-26bd32427cd4 button.colab-df-convert');\n",
              "        buttonEl.style.display =\n",
              "          google.colab.kernel.accessAllowed ? 'block' : 'none';\n",
              "\n",
              "        async function convertToInteractive(key) {\n",
              "          const element = document.querySelector('#df-e389dde9-8dbb-4c76-977e-26bd32427cd4');\n",
              "          const dataTable =\n",
              "            await google.colab.kernel.invokeFunction('convertToInteractive',\n",
              "                                                     [key], {});\n",
              "          if (!dataTable) return;\n",
              "\n",
              "          const docLinkHtml = 'Like what you see? Visit the ' +\n",
              "            '<a target=\"_blank\" href=https://colab.research.google.com/notebooks/data_table.ipynb>data table notebook</a>'\n",
              "            + ' to learn more about interactive tables.';\n",
              "          element.innerHTML = '';\n",
              "          dataTable['output_type'] = 'display_data';\n",
              "          await google.colab.output.renderOutput(dataTable, element);\n",
              "          const docLink = document.createElement('div');\n",
              "          docLink.innerHTML = docLinkHtml;\n",
              "          element.appendChild(docLink);\n",
              "        }\n",
              "      </script>\n",
              "    </div>\n",
              "  </div>\n",
              "  "
            ],
            "text/plain": [
              "  unidad_negocios Total Facturacion  Mano de Obra Total Repuestos  \\\n",
              "0       CHEVROLET    $1,187,619,571  $229,207,185    $762,050,031   \n",
              "1             DYP      $282,575,504   $51,689,160    $227,708,017   \n",
              "2          NISSAN      $184,236,101   $46,091,265    $108,268,717   \n",
              "3          TOYOTA      $215,921,113   $42,001,926    $132,942,628   \n",
              "\n",
              "  Total Lubricantes Total Ingresos  \n",
              "0      $150,483,778   $536,132,728  \n",
              "1                $0   $106,667,767  \n",
              "2       $29,074,487    $81,959,513  \n",
              "3       $14,652,071    $73,549,351  "
            ]
          },
          "execution_count": 56,
          "metadata": {},
          "output_type": "execute_result"
        }
      ],
      "source": [
        "# Filtro solo para el año 2023\n",
        "df_2023 = df[df['fecha_venta'].dt.year == 2023]\n",
        "\n",
        "# Agrupar por las columnas deseadas\n",
        "df_grouped = df_2023.groupby(['unidad_negocios'])[['total_facturacion','total_neto_mano_obra','total_neto_repuestos','total_neto_lubricantes','total_ingresos']].sum().reset_index()\n",
        "\n",
        "# Renombrar las columnas\n",
        "df_grouped = df_grouped.rename(columns={'total_facturacion':'Total Facturacion',\n",
        "                                       'total_neto_mano_obra':'Mano de Obra',\n",
        "                                       'total_neto_repuestos':'Total Repuestos',\n",
        "                                       'total_neto_lubricantes':'Total Lubricantes',\n",
        "                                       'total_ingresos':'Total Ingresos'})\n",
        "\n",
        "# Agregar el formato de pesos $ y sin decimales\n",
        "df_grouped[['Total Facturacion','Mano de Obra','Total Repuestos','Total Lubricantes','Total Ingresos']] = df_grouped[['Total Facturacion','Mano de Obra','Total Repuestos','Total Lubricantes','Total Ingresos']].applymap('${:,.0f}'.format)\n",
        "df_grouped"
      ]
    },
    {
      "cell_type": "markdown",
      "metadata": {
        "id": "ZfIITfP_qFLq"
      },
      "source": [
        "###10.15 Genera un listado con el total de registros por unidad de negocio (Con Formato)"
      ]
    },
    {
      "cell_type": "code",
      "execution_count": null,
      "metadata": {
        "colab": {
          "base_uri": "https://localhost:8080/",
          "height": 175
        },
        "id": "Z-WEn17i_y9D",
        "outputId": "101af4cd-9a01-4a2f-90a6-a81b396d6550"
      },
      "outputs": [
        {
          "data": {
            "text/html": [
              "\n",
              "  <div id=\"df-e417edd5-21cb-4cd8-91cd-6421bb678096\">\n",
              "    <div class=\"colab-df-container\">\n",
              "      <div>\n",
              "<style scoped>\n",
              "    .dataframe tbody tr th:only-of-type {\n",
              "        vertical-align: middle;\n",
              "    }\n",
              "\n",
              "    .dataframe tbody tr th {\n",
              "        vertical-align: top;\n",
              "    }\n",
              "\n",
              "    .dataframe thead th {\n",
              "        text-align: right;\n",
              "    }\n",
              "</style>\n",
              "<table border=\"1\" class=\"dataframe\">\n",
              "  <thead>\n",
              "    <tr style=\"text-align: right;\">\n",
              "      <th></th>\n",
              "      <th>unidad_negocios</th>\n",
              "      <th>count</th>\n",
              "    </tr>\n",
              "  </thead>\n",
              "  <tbody>\n",
              "    <tr>\n",
              "      <th>0</th>\n",
              "      <td>CHEVROLET</td>\n",
              "      <td>90296</td>\n",
              "    </tr>\n",
              "    <tr>\n",
              "      <th>1</th>\n",
              "      <td>DYP</td>\n",
              "      <td>7506</td>\n",
              "    </tr>\n",
              "    <tr>\n",
              "      <th>2</th>\n",
              "      <td>NISSAN</td>\n",
              "      <td>13185</td>\n",
              "    </tr>\n",
              "    <tr>\n",
              "      <th>3</th>\n",
              "      <td>TOYOTA</td>\n",
              "      <td>16646</td>\n",
              "    </tr>\n",
              "  </tbody>\n",
              "</table>\n",
              "</div>\n",
              "      <button class=\"colab-df-convert\" onclick=\"convertToInteractive('df-e417edd5-21cb-4cd8-91cd-6421bb678096')\"\n",
              "              title=\"Convert this dataframe to an interactive table.\"\n",
              "              style=\"display:none;\">\n",
              "        \n",
              "  <svg xmlns=\"http://www.w3.org/2000/svg\" height=\"24px\"viewBox=\"0 0 24 24\"\n",
              "       width=\"24px\">\n",
              "    <path d=\"M0 0h24v24H0V0z\" fill=\"none\"/>\n",
              "    <path d=\"M18.56 5.44l.94 2.06.94-2.06 2.06-.94-2.06-.94-.94-2.06-.94 2.06-2.06.94zm-11 1L8.5 8.5l.94-2.06 2.06-.94-2.06-.94L8.5 2.5l-.94 2.06-2.06.94zm10 10l.94 2.06.94-2.06 2.06-.94-2.06-.94-.94-2.06-.94 2.06-2.06.94z\"/><path d=\"M17.41 7.96l-1.37-1.37c-.4-.4-.92-.59-1.43-.59-.52 0-1.04.2-1.43.59L10.3 9.45l-7.72 7.72c-.78.78-.78 2.05 0 2.83L4 21.41c.39.39.9.59 1.41.59.51 0 1.02-.2 1.41-.59l7.78-7.78 2.81-2.81c.8-.78.8-2.07 0-2.86zM5.41 20L4 18.59l7.72-7.72 1.47 1.35L5.41 20z\"/>\n",
              "  </svg>\n",
              "      </button>\n",
              "      \n",
              "  <style>\n",
              "    .colab-df-container {\n",
              "      display:flex;\n",
              "      flex-wrap:wrap;\n",
              "      gap: 12px;\n",
              "    }\n",
              "\n",
              "    .colab-df-convert {\n",
              "      background-color: #E8F0FE;\n",
              "      border: none;\n",
              "      border-radius: 50%;\n",
              "      cursor: pointer;\n",
              "      display: none;\n",
              "      fill: #1967D2;\n",
              "      height: 32px;\n",
              "      padding: 0 0 0 0;\n",
              "      width: 32px;\n",
              "    }\n",
              "\n",
              "    .colab-df-convert:hover {\n",
              "      background-color: #E2EBFA;\n",
              "      box-shadow: 0px 1px 2px rgba(60, 64, 67, 0.3), 0px 1px 3px 1px rgba(60, 64, 67, 0.15);\n",
              "      fill: #174EA6;\n",
              "    }\n",
              "\n",
              "    [theme=dark] .colab-df-convert {\n",
              "      background-color: #3B4455;\n",
              "      fill: #D2E3FC;\n",
              "    }\n",
              "\n",
              "    [theme=dark] .colab-df-convert:hover {\n",
              "      background-color: #434B5C;\n",
              "      box-shadow: 0px 1px 3px 1px rgba(0, 0, 0, 0.15);\n",
              "      filter: drop-shadow(0px 1px 2px rgba(0, 0, 0, 0.3));\n",
              "      fill: #FFFFFF;\n",
              "    }\n",
              "  </style>\n",
              "\n",
              "      <script>\n",
              "        const buttonEl =\n",
              "          document.querySelector('#df-e417edd5-21cb-4cd8-91cd-6421bb678096 button.colab-df-convert');\n",
              "        buttonEl.style.display =\n",
              "          google.colab.kernel.accessAllowed ? 'block' : 'none';\n",
              "\n",
              "        async function convertToInteractive(key) {\n",
              "          const element = document.querySelector('#df-e417edd5-21cb-4cd8-91cd-6421bb678096');\n",
              "          const dataTable =\n",
              "            await google.colab.kernel.invokeFunction('convertToInteractive',\n",
              "                                                     [key], {});\n",
              "          if (!dataTable) return;\n",
              "\n",
              "          const docLinkHtml = 'Like what you see? Visit the ' +\n",
              "            '<a target=\"_blank\" href=https://colab.research.google.com/notebooks/data_table.ipynb>data table notebook</a>'\n",
              "            + ' to learn more about interactive tables.';\n",
              "          element.innerHTML = '';\n",
              "          dataTable['output_type'] = 'display_data';\n",
              "          await google.colab.output.renderOutput(dataTable, element);\n",
              "          const docLink = document.createElement('div');\n",
              "          docLink.innerHTML = docLinkHtml;\n",
              "          element.appendChild(docLink);\n",
              "        }\n",
              "      </script>\n",
              "    </div>\n",
              "  </div>\n",
              "  "
            ],
            "text/plain": [
              "  unidad_negocios  count\n",
              "0       CHEVROLET  90296\n",
              "1             DYP   7506\n",
              "2          NISSAN  13185\n",
              "3          TOYOTA  16646"
            ]
          },
          "execution_count": 38,
          "metadata": {},
          "output_type": "execute_result"
        }
      ],
      "source": [
        "df_grouped = df.groupby(['unidad_negocios']).size().reset_index(name='count')\n",
        "df_grouped"
      ]
    },
    {
      "cell_type": "markdown",
      "metadata": {
        "id": "_kqleuVhreo5"
      },
      "source": [
        "### Se crea Colmna Nota de Credito"
      ]
    },
    {
      "cell_type": "code",
      "execution_count": null,
      "metadata": {
        "id": "Fn8fGWvUrgzT"
      },
      "outputs": [],
      "source": [
        "df_grouped = df.groupby(['nota_credito']).size().reset_index(name='count')\n",
        "df_grouped"
      ]
    },
    {
      "cell_type": "code",
      "execution_count": null,
      "metadata": {
        "id": "Y_m7dRXosF5I"
      },
      "outputs": [],
      "source": [
        "df['detalle_factura'] = df['detalle_factura'].str.upper()"
      ]
    },
    {
      "cell_type": "markdown",
      "metadata": {
        "id": "adyS6J5s05b4"
      },
      "source": [
        "### Se crea columna contiene obd y se pasa a mayusculas lo que es detalle_factura"
      ]
    },
    {
      "cell_type": "code",
      "execution_count": null,
      "metadata": {
        "id": "972gmKwjxOWd"
      },
      "outputs": [],
      "source": [
        "df['contiene_obd'] = np.where(df['detalle_factura'].str.contains(\"OBD|ANTICLO\", na=False), 'SI', 'NO')"
      ]
    },
    {
      "cell_type": "code",
      "execution_count": null,
      "metadata": {
        "id": "rHR4Ba-zwXoN"
      },
      "outputs": [],
      "source": [
        "df_grouped = df.groupby(['contiene_obd']).size().reset_index(name='count')\n",
        "df_grouped"
      ]
    },
    {
      "cell_type": "markdown",
      "metadata": {
        "id": "Mb1wCtor0SeS"
      },
      "source": [
        "### Crear columna Año Venta"
      ]
    },
    {
      "cell_type": "code",
      "execution_count": null,
      "metadata": {
        "id": "2S3JYXFWzmFU"
      },
      "outputs": [],
      "source": [
        "df['año_venta'] = pd.DatetimeIndex(df['fecha_venta']).year"
      ]
    },
    {
      "cell_type": "markdown",
      "metadata": {
        "id": "b4A23UYD0aKo"
      },
      "source": [
        "### Se genera tabla con los valores abajo filtrados (contiene obd, año = 2023)"
      ]
    },
    {
      "cell_type": "code",
      "execution_count": null,
      "metadata": {
        "id": "d0nK8Piazy0n"
      },
      "outputs": [],
      "source": [
        "df_filtrado = df.loc[(df['contiene_obd'] == 'SI') & (df['año_venta'] == 2023), ['oficina', 'detalle_factura', 'contiene_obd', 'posee_mpp']]\n",
        "print(df_filtrado)"
      ]
    },
    {
      "cell_type": "code",
      "execution_count": null,
      "metadata": {
        "id": "jpQJSMKIz3e1"
      },
      "outputs": [],
      "source": [
        "df_2023 = df.loc[(df['año_venta']==2023) & (df['contiene_obd'] == 'SI')]\n",
        "df_grouped = df_2023.groupby(['unidad_negocios'])[['oficina']].count().reset_index()\n",
        "\n",
        "\n",
        "# Mostrar el resultado\n",
        "df_2023"
      ]
    },
    {
      "cell_type": "code",
      "execution_count": null,
      "metadata": {
        "id": "Ru86sp4g3JYF"
      },
      "outputs": [],
      "source": [
        "df['tipo_cliente'] = df['detalle_factura'].apply(lambda x: 'SEGURO' if 'SEGURO' in str(x) else 'GENERAL')"
      ]
    },
    {
      "cell_type": "code",
      "execution_count": null,
      "metadata": {
        "id": "WXUraRuqO5RA"
      },
      "outputs": [],
      "source": [
        "df_grouped = df.groupby(['tipo_cliente']).size().reset_index(name='count')\n",
        "df_grouped"
      ]
    },
    {
      "cell_type": "code",
      "execution_count": null,
      "metadata": {
        "id": "y_R71hlI6ZgG"
      },
      "outputs": [],
      "source": [
        "df_grouped = df.groupby(['contiene_obd']).size().reset_index(name='count')\n",
        "df_grouped"
      ]
    },
    {
      "cell_type": "code",
      "execution_count": null,
      "metadata": {
        "id": "ui5psh4t6QOb"
      },
      "outputs": [],
      "source": [
        "df.columns"
      ]
    },
    {
      "cell_type": "code",
      "execution_count": null,
      "metadata": {
        "id": "0j-3_IQvkDnJ"
      },
      "outputs": [],
      "source": [
        "df_grouped = df.groupby(['tipo_orden_trabajo']).size().reset_index(name='count')\n",
        "df_grouped"
      ]
    },
    {
      "cell_type": "code",
      "execution_count": null,
      "metadata": {
        "id": "3VWT1p9YkM0W"
      },
      "outputs": [],
      "source": [
        "f_grouped = df.groupby(['tipo_trabajo']).size().reset_index(name='count')\n",
        "df_grouped\n"
      ]
    },
    {
      "cell_type": "code",
      "execution_count": null,
      "metadata": {
        "id": "HInkoLFdmMUx"
      },
      "outputs": [],
      "source": [
        "df.query(\"contiene_obd == 'SI' & posee_mpp == 'SI'\").count()"
      ]
    },
    {
      "cell_type": "code",
      "execution_count": null,
      "metadata": {
        "id": "mhrZidq36swB"
      },
      "outputs": [],
      "source": [
        "df.query(\"contiene_obd == 'SI' & tipo_trabajo == 'CORRECTIVA'\").count()"
      ]
    },
    {
      "cell_type": "code",
      "execution_count": null,
      "metadata": {
        "id": "IyEfrRtJn26K"
      },
      "outputs": [],
      "source": [
        "df.query(\"contiene_obd == 'SI' & posee_mpp == 'SI'\")[\"oficina\"].count()"
      ]
    },
    {
      "cell_type": "code",
      "execution_count": null,
      "metadata": {
        "id": "Fk-pd_Lrq3P_"
      },
      "outputs": [],
      "source": [
        "df_original = df.copy()"
      ]
    },
    {
      "cell_type": "code",
      "execution_count": null,
      "metadata": {
        "id": "nWmYXAYhq63F"
      },
      "outputs": [],
      "source": [
        "df_original.shape"
      ]
    },
    {
      "cell_type": "code",
      "execution_count": null,
      "metadata": {
        "id": "L461z5VRn_VK"
      },
      "outputs": [],
      "source": [
        "df.loc[df['contiene_obd'] == 'SI', 'posee_mpp'] = 'NO'"
      ]
    },
    {
      "cell_type": "code",
      "execution_count": null,
      "metadata": {
        "id": "xTIqLaD7rFNo"
      },
      "outputs": [],
      "source": [
        "df_grouped = df.groupby(['tipo_trabajo']).size().reset_index(name='count')\n",
        "df_grouped\n"
      ]
    },
    {
      "cell_type": "code",
      "execution_count": null,
      "metadata": {
        "id": "HZQ2fplZwCbV"
      },
      "outputs": [],
      "source": [
        "df = df_original.copy()"
      ]
    },
    {
      "cell_type": "code",
      "execution_count": null,
      "metadata": {
        "id": "-W5MNJTTwESX"
      },
      "outputs": [],
      "source": [
        "df_grouped = df.groupby(['tipo_venta']).size().reset_index(name='count')\n",
        "df_grouped\n"
      ]
    },
    {
      "cell_type": "code",
      "execution_count": null,
      "metadata": {
        "colab": {
          "base_uri": "https://localhost:8080/"
        },
        "id": "hy28GrIP9YwI",
        "outputId": "d278ad4d-f880-4b75-a67e-6810485f2487"
      },
      "outputs": [
        {
          "data": {
            "text/plain": [
              "SI    45894\n",
              "NO    26712\n",
              "Name: tipo_venta_ot, dtype: int64"
            ]
          },
          "execution_count": 59,
          "metadata": {},
          "output_type": "execute_result"
        }
      ],
      "source": [
        "df_grouped = df['tipo_venta_ot'].value_counts().sort_values(ascending=False)\n",
        "df_grouped"
      ]
    },
    {
      "cell_type": "code",
      "execution_count": null,
      "metadata": {
        "colab": {
          "base_uri": "https://localhost:8080/"
        },
        "id": "KBsZgLGX-C5_",
        "outputId": "132bbbe8-d71a-48a7-e6a6-d9695805e578"
      },
      "outputs": [
        {
          "name": "stdout",
          "output_type": "stream",
          "text": [
            "Total de registros:  127633\n"
          ]
        }
      ],
      "source": [
        "total_registros = len(df['tipo_venta'])\n",
        "print(\"Total de registros: \", total_registros)"
      ]
    },
    {
      "cell_type": "code",
      "execution_count": null,
      "metadata": {
        "colab": {
          "base_uri": "https://localhost:8080/"
        },
        "id": "Klpd4aMn-JG1",
        "outputId": "251b48e7-442d-45ca-a09c-0c01db98c1ca"
      },
      "outputs": [
        {
          "name": "stdout",
          "output_type": "stream",
          "text": [
            "['ANT.RPTO' 'REPTOS' 'CUP. MPP' 'RENTACAR' 'ANT.REPA' 'MISCELÁN' 'GRUA'\n",
            " 'CHATARRA']\n"
          ]
        }
      ],
      "source": [
        "df_tipo_venta_sin_OT = df[~df['tipo_venta'].str.contains(\"OT\")]['tipo_venta'].unique()\n",
        "print(df_tipo_venta_sin_OT)"
      ]
    },
    {
      "cell_type": "code",
      "execution_count": null,
      "metadata": {
        "colab": {
          "base_uri": "https://localhost:8080/"
        },
        "id": "bhToz1aD-2dY",
        "outputId": "ce361f7e-080d-4f36-8747-e6b1ad6cdb0d"
      },
      "outputs": [
        {
          "data": {
            "text/plain": [
              "0"
            ]
          },
          "execution_count": 62,
          "metadata": {},
          "output_type": "execute_result"
        }
      ],
      "source": [
        "df.loc[(df['fecha_venta'].dt.year == 2023) & (df['tipo_venta_ot'] == 'otras_ventas'), 'total_ingresos'].sum()"
      ]
    },
    {
      "cell_type": "code",
      "execution_count": null,
      "metadata": {
        "colab": {
          "base_uri": "https://localhost:8080/",
          "height": 739
        },
        "id": "91LIV0NK9tX0",
        "outputId": "8a638ebc-293a-4f3a-80df-6b006dfaf027"
      },
      "outputs": [
        {
          "data": {
            "text/html": [
              "\n",
              "  <div id=\"df-932fcb6d-2d90-415c-8539-6f29afe76702\">\n",
              "    <div class=\"colab-df-container\">\n",
              "      <div>\n",
              "<style scoped>\n",
              "    .dataframe tbody tr th:only-of-type {\n",
              "        vertical-align: middle;\n",
              "    }\n",
              "\n",
              "    .dataframe tbody tr th {\n",
              "        vertical-align: top;\n",
              "    }\n",
              "\n",
              "    .dataframe thead th {\n",
              "        text-align: right;\n",
              "    }\n",
              "</style>\n",
              "<table border=\"1\" class=\"dataframe\">\n",
              "  <thead>\n",
              "    <tr style=\"text-align: right;\">\n",
              "      <th>tipo_orden_trabajo</th>\n",
              "      <th>GARANTIA</th>\n",
              "      <th>MECANICA</th>\n",
              "      <th>MISCELANEA</th>\n",
              "      <th>PREENTREGA</th>\n",
              "      <th>total</th>\n",
              "    </tr>\n",
              "    <tr>\n",
              "      <th>oficina</th>\n",
              "      <th></th>\n",
              "      <th></th>\n",
              "      <th></th>\n",
              "      <th></th>\n",
              "      <th></th>\n",
              "    </tr>\n",
              "  </thead>\n",
              "  <tbody>\n",
              "    <tr>\n",
              "      <th>LINARES</th>\n",
              "      <td>531.0</td>\n",
              "      <td>2628.0</td>\n",
              "      <td>2653.0</td>\n",
              "      <td>502.0</td>\n",
              "      <td>6314.0</td>\n",
              "    </tr>\n",
              "    <tr>\n",
              "      <th>LINARES TOYOTA</th>\n",
              "      <td>971.0</td>\n",
              "      <td>930.0</td>\n",
              "      <td>1016.0</td>\n",
              "      <td>352.0</td>\n",
              "      <td>3269.0</td>\n",
              "    </tr>\n",
              "    <tr>\n",
              "      <th>QUILLOTA</th>\n",
              "      <td>615.0</td>\n",
              "      <td>3183.0</td>\n",
              "      <td>2833.0</td>\n",
              "      <td>735.0</td>\n",
              "      <td>7366.0</td>\n",
              "    </tr>\n",
              "    <tr>\n",
              "      <th>QUILLOTA NISSAN</th>\n",
              "      <td>218.0</td>\n",
              "      <td>1989.0</td>\n",
              "      <td>662.0</td>\n",
              "      <td>13.0</td>\n",
              "      <td>2882.0</td>\n",
              "    </tr>\n",
              "    <tr>\n",
              "      <th>SAN FELIPE</th>\n",
              "      <td>584.0</td>\n",
              "      <td>3815.0</td>\n",
              "      <td>2370.0</td>\n",
              "      <td>1009.0</td>\n",
              "      <td>7778.0</td>\n",
              "    </tr>\n",
              "    <tr>\n",
              "      <th>SAN FELIPE TOYOTA</th>\n",
              "      <td>572.0</td>\n",
              "      <td>483.0</td>\n",
              "      <td>564.0</td>\n",
              "      <td>434.0</td>\n",
              "      <td>2053.0</td>\n",
              "    </tr>\n",
              "    <tr>\n",
              "      <th>STGO BUST. DYP</th>\n",
              "      <td>0.0</td>\n",
              "      <td>2586.0</td>\n",
              "      <td>582.0</td>\n",
              "      <td>0.0</td>\n",
              "      <td>3168.0</td>\n",
              "    </tr>\n",
              "    <tr>\n",
              "      <th>STGO HUECH. DYP</th>\n",
              "      <td>0.0</td>\n",
              "      <td>1268.0</td>\n",
              "      <td>122.0</td>\n",
              "      <td>0.0</td>\n",
              "      <td>1390.0</td>\n",
              "    </tr>\n",
              "    <tr>\n",
              "      <th>STGO MOVICENTER</th>\n",
              "      <td>1031.0</td>\n",
              "      <td>4208.0</td>\n",
              "      <td>3563.0</td>\n",
              "      <td>2315.0</td>\n",
              "      <td>11117.0</td>\n",
              "    </tr>\n",
              "    <tr>\n",
              "      <th>STGO PLAZA SUR</th>\n",
              "      <td>348.0</td>\n",
              "      <td>2114.0</td>\n",
              "      <td>1626.0</td>\n",
              "      <td>1201.0</td>\n",
              "      <td>5289.0</td>\n",
              "    </tr>\n",
              "    <tr>\n",
              "      <th>STGO SEM. TOYOTA</th>\n",
              "      <td>1327.0</td>\n",
              "      <td>1487.0</td>\n",
              "      <td>1223.0</td>\n",
              "      <td>1981.0</td>\n",
              "      <td>6018.0</td>\n",
              "    </tr>\n",
              "    <tr>\n",
              "      <th>STGO SEMINARIO</th>\n",
              "      <td>1061.0</td>\n",
              "      <td>5790.0</td>\n",
              "      <td>10104.0</td>\n",
              "      <td>2139.0</td>\n",
              "      <td>19094.0</td>\n",
              "    </tr>\n",
              "    <tr>\n",
              "      <th>STGO TOBALABA</th>\n",
              "      <td>395.0</td>\n",
              "      <td>2133.0</td>\n",
              "      <td>1376.0</td>\n",
              "      <td>1101.0</td>\n",
              "      <td>5005.0</td>\n",
              "    </tr>\n",
              "    <tr>\n",
              "      <th>TALCA</th>\n",
              "      <td>908.0</td>\n",
              "      <td>5179.0</td>\n",
              "      <td>3319.0</td>\n",
              "      <td>805.0</td>\n",
              "      <td>10211.0</td>\n",
              "    </tr>\n",
              "    <tr>\n",
              "      <th>TALCA TOYOTA</th>\n",
              "      <td>1550.0</td>\n",
              "      <td>1718.0</td>\n",
              "      <td>1386.0</td>\n",
              "      <td>652.0</td>\n",
              "      <td>5306.0</td>\n",
              "    </tr>\n",
              "    <tr>\n",
              "      <th>VALPARAÍSO</th>\n",
              "      <td>492.0</td>\n",
              "      <td>3683.0</td>\n",
              "      <td>4422.0</td>\n",
              "      <td>745.0</td>\n",
              "      <td>9342.0</td>\n",
              "    </tr>\n",
              "    <tr>\n",
              "      <th>VALPO DYP</th>\n",
              "      <td>0.0</td>\n",
              "      <td>2616.0</td>\n",
              "      <td>332.0</td>\n",
              "      <td>0.0</td>\n",
              "      <td>2948.0</td>\n",
              "    </tr>\n",
              "    <tr>\n",
              "      <th>VALPO NISSAN</th>\n",
              "      <td>265.0</td>\n",
              "      <td>2325.0</td>\n",
              "      <td>1531.0</td>\n",
              "      <td>0.0</td>\n",
              "      <td>4121.0</td>\n",
              "    </tr>\n",
              "    <tr>\n",
              "      <th>VIÑA DEL MAR</th>\n",
              "      <td>653.0</td>\n",
              "      <td>3867.0</td>\n",
              "      <td>2814.0</td>\n",
              "      <td>1446.0</td>\n",
              "      <td>8780.0</td>\n",
              "    </tr>\n",
              "    <tr>\n",
              "      <th>VIÑA NISSAN</th>\n",
              "      <td>522.0</td>\n",
              "      <td>3376.0</td>\n",
              "      <td>2284.0</td>\n",
              "      <td>0.0</td>\n",
              "      <td>6182.0</td>\n",
              "    </tr>\n",
              "    <tr>\n",
              "      <th>total</th>\n",
              "      <td>12043.0</td>\n",
              "      <td>55378.0</td>\n",
              "      <td>44782.0</td>\n",
              "      <td>15430.0</td>\n",
              "      <td>127633.0</td>\n",
              "    </tr>\n",
              "  </tbody>\n",
              "</table>\n",
              "</div>\n",
              "      <button class=\"colab-df-convert\" onclick=\"convertToInteractive('df-932fcb6d-2d90-415c-8539-6f29afe76702')\"\n",
              "              title=\"Convert this dataframe to an interactive table.\"\n",
              "              style=\"display:none;\">\n",
              "        \n",
              "  <svg xmlns=\"http://www.w3.org/2000/svg\" height=\"24px\"viewBox=\"0 0 24 24\"\n",
              "       width=\"24px\">\n",
              "    <path d=\"M0 0h24v24H0V0z\" fill=\"none\"/>\n",
              "    <path d=\"M18.56 5.44l.94 2.06.94-2.06 2.06-.94-2.06-.94-.94-2.06-.94 2.06-2.06.94zm-11 1L8.5 8.5l.94-2.06 2.06-.94-2.06-.94L8.5 2.5l-.94 2.06-2.06.94zm10 10l.94 2.06.94-2.06 2.06-.94-2.06-.94-.94-2.06-.94 2.06-2.06.94z\"/><path d=\"M17.41 7.96l-1.37-1.37c-.4-.4-.92-.59-1.43-.59-.52 0-1.04.2-1.43.59L10.3 9.45l-7.72 7.72c-.78.78-.78 2.05 0 2.83L4 21.41c.39.39.9.59 1.41.59.51 0 1.02-.2 1.41-.59l7.78-7.78 2.81-2.81c.8-.78.8-2.07 0-2.86zM5.41 20L4 18.59l7.72-7.72 1.47 1.35L5.41 20z\"/>\n",
              "  </svg>\n",
              "      </button>\n",
              "      \n",
              "  <style>\n",
              "    .colab-df-container {\n",
              "      display:flex;\n",
              "      flex-wrap:wrap;\n",
              "      gap: 12px;\n",
              "    }\n",
              "\n",
              "    .colab-df-convert {\n",
              "      background-color: #E8F0FE;\n",
              "      border: none;\n",
              "      border-radius: 50%;\n",
              "      cursor: pointer;\n",
              "      display: none;\n",
              "      fill: #1967D2;\n",
              "      height: 32px;\n",
              "      padding: 0 0 0 0;\n",
              "      width: 32px;\n",
              "    }\n",
              "\n",
              "    .colab-df-convert:hover {\n",
              "      background-color: #E2EBFA;\n",
              "      box-shadow: 0px 1px 2px rgba(60, 64, 67, 0.3), 0px 1px 3px 1px rgba(60, 64, 67, 0.15);\n",
              "      fill: #174EA6;\n",
              "    }\n",
              "\n",
              "    [theme=dark] .colab-df-convert {\n",
              "      background-color: #3B4455;\n",
              "      fill: #D2E3FC;\n",
              "    }\n",
              "\n",
              "    [theme=dark] .colab-df-convert:hover {\n",
              "      background-color: #434B5C;\n",
              "      box-shadow: 0px 1px 3px 1px rgba(0, 0, 0, 0.15);\n",
              "      filter: drop-shadow(0px 1px 2px rgba(0, 0, 0, 0.3));\n",
              "      fill: #FFFFFF;\n",
              "    }\n",
              "  </style>\n",
              "\n",
              "      <script>\n",
              "        const buttonEl =\n",
              "          document.querySelector('#df-932fcb6d-2d90-415c-8539-6f29afe76702 button.colab-df-convert');\n",
              "        buttonEl.style.display =\n",
              "          google.colab.kernel.accessAllowed ? 'block' : 'none';\n",
              "\n",
              "        async function convertToInteractive(key) {\n",
              "          const element = document.querySelector('#df-932fcb6d-2d90-415c-8539-6f29afe76702');\n",
              "          const dataTable =\n",
              "            await google.colab.kernel.invokeFunction('convertToInteractive',\n",
              "                                                     [key], {});\n",
              "          if (!dataTable) return;\n",
              "\n",
              "          const docLinkHtml = 'Like what you see? Visit the ' +\n",
              "            '<a target=\"_blank\" href=https://colab.research.google.com/notebooks/data_table.ipynb>data table notebook</a>'\n",
              "            + ' to learn more about interactive tables.';\n",
              "          element.innerHTML = '';\n",
              "          dataTable['output_type'] = 'display_data';\n",
              "          await google.colab.output.renderOutput(dataTable, element);\n",
              "          const docLink = document.createElement('div');\n",
              "          docLink.innerHTML = docLinkHtml;\n",
              "          element.appendChild(docLink);\n",
              "        }\n",
              "      </script>\n",
              "    </div>\n",
              "  </div>\n",
              "  "
            ],
            "text/plain": [
              "tipo_orden_trabajo  GARANTIA  MECANICA  MISCELANEA  PREENTREGA     total\n",
              "oficina                                                                 \n",
              "LINARES                531.0    2628.0      2653.0       502.0    6314.0\n",
              "LINARES TOYOTA         971.0     930.0      1016.0       352.0    3269.0\n",
              "QUILLOTA               615.0    3183.0      2833.0       735.0    7366.0\n",
              "QUILLOTA NISSAN        218.0    1989.0       662.0        13.0    2882.0\n",
              "SAN FELIPE             584.0    3815.0      2370.0      1009.0    7778.0\n",
              "SAN FELIPE TOYOTA      572.0     483.0       564.0       434.0    2053.0\n",
              "STGO BUST. DYP           0.0    2586.0       582.0         0.0    3168.0\n",
              "STGO HUECH. DYP          0.0    1268.0       122.0         0.0    1390.0\n",
              "STGO MOVICENTER       1031.0    4208.0      3563.0      2315.0   11117.0\n",
              "STGO PLAZA SUR         348.0    2114.0      1626.0      1201.0    5289.0\n",
              "STGO SEM. TOYOTA      1327.0    1487.0      1223.0      1981.0    6018.0\n",
              "STGO SEMINARIO        1061.0    5790.0     10104.0      2139.0   19094.0\n",
              "STGO TOBALABA          395.0    2133.0      1376.0      1101.0    5005.0\n",
              "TALCA                  908.0    5179.0      3319.0       805.0   10211.0\n",
              "TALCA TOYOTA          1550.0    1718.0      1386.0       652.0    5306.0\n",
              "VALPARAÍSO             492.0    3683.0      4422.0       745.0    9342.0\n",
              "VALPO DYP                0.0    2616.0       332.0         0.0    2948.0\n",
              "VALPO NISSAN           265.0    2325.0      1531.0         0.0    4121.0\n",
              "VIÑA DEL MAR           653.0    3867.0      2814.0      1446.0    8780.0\n",
              "VIÑA NISSAN            522.0    3376.0      2284.0         0.0    6182.0\n",
              "total                12043.0   55378.0     44782.0     15430.0  127633.0"
            ]
          },
          "execution_count": 34,
          "metadata": {},
          "output_type": "execute_result"
        }
      ],
      "source": [
        "df_grouped = df.groupby(['oficina', 'tipo_orden_trabajo']).size().reset_index(name='count')\n",
        "df_grouped = df_grouped.pivot(index='oficina', columns='tipo_orden_trabajo', values='count')\n",
        "df_grouped = df_grouped.fillna(0)\n",
        "df_grouped['total'] = df_grouped.sum(axis=1)\n",
        "df_grouped.loc['total'] = df_grouped.sum()\n",
        "df_grouped"
      ]
    },
    {
      "cell_type": "code",
      "execution_count": null,
      "metadata": {
        "colab": {
          "base_uri": "https://localhost:8080/"
        },
        "id": "Z2Cd2MvhWQ56",
        "outputId": "0d261207-4c24-4d20-a1ae-aecc1aa193bb"
      },
      "outputs": [
        {
          "data": {
            "text/plain": [
              "VENTAS CON OT    79816\n",
              "OTRAS VENTAS     47817\n",
              "Name: tipo_venta_ot, dtype: int64"
            ]
          },
          "execution_count": 33,
          "metadata": {},
          "output_type": "execute_result"
        }
      ],
      "source": [
        "df_grouped = df['tipo_venta_ot'].value_counts().sort_values(ascending=False)\n",
        "df_grouped"
      ]
    },
    {
      "cell_type": "code",
      "execution_count": null,
      "metadata": {
        "colab": {
          "base_uri": "https://localhost:8080/",
          "height": 112
        },
        "id": "Flk7T35h78Od",
        "outputId": "74f8c619-a477-49dc-df2c-69deb0f0ed5a"
      },
      "outputs": [
        {
          "data": {
            "text/html": [
              "\n",
              "  <div id=\"df-c1d0096f-acc0-43a1-a216-0e62a23e3cc9\">\n",
              "    <div class=\"colab-df-container\">\n",
              "      <div>\n",
              "<style scoped>\n",
              "    .dataframe tbody tr th:only-of-type {\n",
              "        vertical-align: middle;\n",
              "    }\n",
              "\n",
              "    .dataframe tbody tr th {\n",
              "        vertical-align: top;\n",
              "    }\n",
              "\n",
              "    .dataframe thead th {\n",
              "        text-align: right;\n",
              "    }\n",
              "</style>\n",
              "<table border=\"1\" class=\"dataframe\">\n",
              "  <thead>\n",
              "    <tr style=\"text-align: right;\">\n",
              "      <th></th>\n",
              "      <th>tipo_venta_ot</th>\n",
              "      <th>count</th>\n",
              "    </tr>\n",
              "  </thead>\n",
              "  <tbody>\n",
              "    <tr>\n",
              "      <th>1</th>\n",
              "      <td>VENTAS CON OT</td>\n",
              "      <td>79816</td>\n",
              "    </tr>\n",
              "    <tr>\n",
              "      <th>0</th>\n",
              "      <td>OTRAS VENTAS</td>\n",
              "      <td>47817</td>\n",
              "    </tr>\n",
              "  </tbody>\n",
              "</table>\n",
              "</div>\n",
              "      <button class=\"colab-df-convert\" onclick=\"convertToInteractive('df-c1d0096f-acc0-43a1-a216-0e62a23e3cc9')\"\n",
              "              title=\"Convert this dataframe to an interactive table.\"\n",
              "              style=\"display:none;\">\n",
              "        \n",
              "  <svg xmlns=\"http://www.w3.org/2000/svg\" height=\"24px\"viewBox=\"0 0 24 24\"\n",
              "       width=\"24px\">\n",
              "    <path d=\"M0 0h24v24H0V0z\" fill=\"none\"/>\n",
              "    <path d=\"M18.56 5.44l.94 2.06.94-2.06 2.06-.94-2.06-.94-.94-2.06-.94 2.06-2.06.94zm-11 1L8.5 8.5l.94-2.06 2.06-.94-2.06-.94L8.5 2.5l-.94 2.06-2.06.94zm10 10l.94 2.06.94-2.06 2.06-.94-2.06-.94-.94-2.06-.94 2.06-2.06.94z\"/><path d=\"M17.41 7.96l-1.37-1.37c-.4-.4-.92-.59-1.43-.59-.52 0-1.04.2-1.43.59L10.3 9.45l-7.72 7.72c-.78.78-.78 2.05 0 2.83L4 21.41c.39.39.9.59 1.41.59.51 0 1.02-.2 1.41-.59l7.78-7.78 2.81-2.81c.8-.78.8-2.07 0-2.86zM5.41 20L4 18.59l7.72-7.72 1.47 1.35L5.41 20z\"/>\n",
              "  </svg>\n",
              "      </button>\n",
              "      \n",
              "  <style>\n",
              "    .colab-df-container {\n",
              "      display:flex;\n",
              "      flex-wrap:wrap;\n",
              "      gap: 12px;\n",
              "    }\n",
              "\n",
              "    .colab-df-convert {\n",
              "      background-color: #E8F0FE;\n",
              "      border: none;\n",
              "      border-radius: 50%;\n",
              "      cursor: pointer;\n",
              "      display: none;\n",
              "      fill: #1967D2;\n",
              "      height: 32px;\n",
              "      padding: 0 0 0 0;\n",
              "      width: 32px;\n",
              "    }\n",
              "\n",
              "    .colab-df-convert:hover {\n",
              "      background-color: #E2EBFA;\n",
              "      box-shadow: 0px 1px 2px rgba(60, 64, 67, 0.3), 0px 1px 3px 1px rgba(60, 64, 67, 0.15);\n",
              "      fill: #174EA6;\n",
              "    }\n",
              "\n",
              "    [theme=dark] .colab-df-convert {\n",
              "      background-color: #3B4455;\n",
              "      fill: #D2E3FC;\n",
              "    }\n",
              "\n",
              "    [theme=dark] .colab-df-convert:hover {\n",
              "      background-color: #434B5C;\n",
              "      box-shadow: 0px 1px 3px 1px rgba(0, 0, 0, 0.15);\n",
              "      filter: drop-shadow(0px 1px 2px rgba(0, 0, 0, 0.3));\n",
              "      fill: #FFFFFF;\n",
              "    }\n",
              "  </style>\n",
              "\n",
              "      <script>\n",
              "        const buttonEl =\n",
              "          document.querySelector('#df-c1d0096f-acc0-43a1-a216-0e62a23e3cc9 button.colab-df-convert');\n",
              "        buttonEl.style.display =\n",
              "          google.colab.kernel.accessAllowed ? 'block' : 'none';\n",
              "\n",
              "        async function convertToInteractive(key) {\n",
              "          const element = document.querySelector('#df-c1d0096f-acc0-43a1-a216-0e62a23e3cc9');\n",
              "          const dataTable =\n",
              "            await google.colab.kernel.invokeFunction('convertToInteractive',\n",
              "                                                     [key], {});\n",
              "          if (!dataTable) return;\n",
              "\n",
              "          const docLinkHtml = 'Like what you see? Visit the ' +\n",
              "            '<a target=\"_blank\" href=https://colab.research.google.com/notebooks/data_table.ipynb>data table notebook</a>'\n",
              "            + ' to learn more about interactive tables.';\n",
              "          element.innerHTML = '';\n",
              "          dataTable['output_type'] = 'display_data';\n",
              "          await google.colab.output.renderOutput(dataTable, element);\n",
              "          const docLink = document.createElement('div');\n",
              "          docLink.innerHTML = docLinkHtml;\n",
              "          element.appendChild(docLink);\n",
              "        }\n",
              "      </script>\n",
              "    </div>\n",
              "  </div>\n",
              "  "
            ],
            "text/plain": [
              "   tipo_venta_ot  count\n",
              "1  VENTAS CON OT  79816\n",
              "0   OTRAS VENTAS  47817"
            ]
          },
          "execution_count": 41,
          "metadata": {},
          "output_type": "execute_result"
        }
      ],
      "source": [
        "df_grouped = df.groupby(['tipo_venta_ot']).size().reset_index(name='count')\n",
        "df_grouped = df_grouped.sort_values(by='count', ascending=False)\n",
        "df_grouped.head(10)\n"
      ]
    },
    {
      "cell_type": "code",
      "execution_count": null,
      "metadata": {
        "colab": {
          "base_uri": "https://localhost:8080/"
        },
        "id": "RrNCg1OXEbzd",
        "outputId": "3256b93a-b091-4408-bd83-7bcc9176b978"
      },
      "outputs": [
        {
          "name": "stdout",
          "output_type": "stream",
          "text": [
            "El día con más facturas es:  30\n"
          ]
        }
      ],
      "source": [
        "df_grouped = df.groupby(df['fecha_venta'].dt.day).sum()\n",
        "dia_con_mas_facturas = df_grouped['total_facturacion'].idxmax()\n",
        "print(\"El día con más facturas es: \", dia_con_mas_facturas)\n",
        "\n"
      ]
    },
    {
      "cell_type": "code",
      "execution_count": null,
      "metadata": {
        "colab": {
          "base_uri": "https://localhost:8080/"
        },
        "id": "fWouno2FD9fF",
        "outputId": "751b43f6-be4c-488f-cc77-653f7b603c42"
      },
      "outputs": [
        {
          "data": {
            "text/plain": [
              "30"
            ]
          },
          "execution_count": 28,
          "metadata": {},
          "output_type": "execute_result"
        }
      ],
      "source": [
        "df_grouped = df.groupby(df['fecha_venta'].dt.day).sum()\n",
        "df_grouped = df_grouped.sort_values(by='total_facturacion', ascending=False)\n",
        "dia_mas_facturacion = df_grouped.index[0]\n",
        "dia_mas_facturacion\n"
      ]
    },
    {
      "cell_type": "code",
      "execution_count": null,
      "metadata": {
        "id": "NtHL_xGxEZ0K"
      },
      "outputs": [],
      "source": [
        "df.columns"
      ]
    },
    {
      "cell_type": "code",
      "execution_count": null,
      "metadata": {
        "colab": {
          "base_uri": "https://localhost:8080/"
        },
        "id": "vAhqfBTOEgo3",
        "outputId": "74ad70b7-8db1-4859-b408-c0174bb2fe49"
      },
      "outputs": [
        {
          "name": "stdout",
          "output_type": "stream",
          "text": [
            "El número de la semana con la mayor facturación es: 30\n"
          ]
        },
        {
          "name": "stderr",
          "output_type": "stream",
          "text": [
            "<ipython-input-31-f3ca0d19b58e>:1: FutureWarning: Series.dt.weekofyear and Series.dt.week have been deprecated.  Please use Series.dt.isocalendar().week instead.\n",
            "  df['week_number'] = df['fecha_venta'].dt.week\n"
          ]
        }
      ],
      "source": [
        "df['week_number'] = df['fecha_venta'].dt.week\n",
        "df_grouped = df.groupby(['week_number'])['total_facturacion'].sum().reset_index(name='total_facturacion')\n",
        "max_week_number = df_grouped['total_facturacion'].idxmax()\n",
        "print(\"El número de la semana con la mayor facturación es:\", max_week_number)\n"
      ]
    },
    {
      "cell_type": "code",
      "execution_count": null,
      "metadata": {
        "colab": {
          "base_uri": "https://localhost:8080/"
        },
        "id": "em7kgJHyFUFk",
        "outputId": "165808b3-a905-47d8-cb5d-56c9875d921b"
      },
      "outputs": [
        {
          "name": "stdout",
          "output_type": "stream",
          "text": [
            "El número de la semana con la mayor facturación es: 52\n"
          ]
        }
      ],
      "source": [
        "import calendar\n",
        "#import pandas as pd\n",
        "\n",
        "# carga de datos\n",
        "#df = pd.read_csv(\"ruta/al/archivo.csv\")\n",
        "\n",
        "# creación de una columna con el número de la semana\n",
        "df['week_number'] = df['fecha_venta'].dt.isocalendar().week\n",
        "\n",
        "# agrupación por número de semana y suma de total_facturas\n",
        "df_grouped = df.groupby('week_number').sum()\n",
        "\n",
        "# selección del número de la semana con mayor facturación\n",
        "week_number = df_grouped['total_facturacion'].idxmax()\n",
        "\n",
        "# impresión del resultado\n",
        "print(\"El número de la semana con la mayor facturación es:\", week_number)\n",
        "\n"
      ]
    },
    {
      "cell_type": "code",
      "execution_count": null,
      "metadata": {
        "colab": {
          "base_uri": "https://localhost:8080/"
        },
        "id": "nFAQU7xPFwL6",
        "outputId": "b955c483-f6f6-42d9-9a50-2783bcce7eed"
      },
      "outputs": [
        {
          "name": "stdout",
          "output_type": "stream",
          "text": [
            "El mes con la mayor facturación es: 12\n",
            "La semana con la mayor facturación es: 52\n"
          ]
        },
        {
          "name": "stderr",
          "output_type": "stream",
          "text": [
            "<ipython-input-31-0104b69add0a>:2: FutureWarning: Series.dt.weekofyear and Series.dt.week have been deprecated.  Please use Series.dt.isocalendar().week instead.\n",
            "  df['week'] = df['fecha_venta'].dt.week\n"
          ]
        }
      ],
      "source": [
        "df['month'] = df['fecha_venta'].dt.month\n",
        "df['week'] = df['fecha_venta'].dt.week\n",
        "df_grouped = df.groupby(['month', 'week']).agg({'total_facturacion': 'sum'})\n",
        "df_grouped = df_grouped.reset_index()\n",
        "df_grouped = df_grouped.sort_values(by='total_facturacion', ascending=False)\n",
        "month, week = df_grouped.iloc[0]['month'], df_grouped.iloc[0]['week']\n",
        "print(f\"El mes con la mayor facturación es: {month}\")\n",
        "print(f\"La semana con la mayor facturación es: {week}\")\n"
      ]
    },
    {
      "cell_type": "code",
      "execution_count": null,
      "metadata": {
        "colab": {
          "base_uri": "https://localhost:8080/"
        },
        "id": "_nmqVFbIGkIg",
        "outputId": "2b57333e-94bb-4fd8-8c50-31f3a7d60d37"
      },
      "outputs": [
        {
          "name": "stdout",
          "output_type": "stream",
          "text": [
            "El día de la semana con la mayor facturación es: 4\n"
          ]
        }
      ],
      "source": [
        "# agrupa por el día de la semana\n",
        "df_grouped = df.groupby(df['fecha_venta'].dt.dayofweek).sum()\n",
        "\n",
        "# encuentra el día con la mayor facturación\n",
        "day_of_week = df_grouped['total_facturacion'].idxmax()\n",
        "\n",
        "# muestra el resultado\n",
        "print(f\"El día de la semana con la mayor facturación es: {day_of_week}\")\n"
      ]
    },
    {
      "cell_type": "code",
      "execution_count": null,
      "metadata": {
        "colab": {
          "base_uri": "https://localhost:8080/"
        },
        "id": "9kXYEjEpKRAr",
        "outputId": "57ea051e-b2ab-4b69-e918-6d9113b537a9"
      },
      "outputs": [
        {
          "name": "stdout",
          "output_type": "stream",
          "text": [
            "El día de la semana con la mayor facturación es: Viernes\n"
          ]
        }
      ],
      "source": [
        "day_names = ['Lunes', 'Martes', 'Miércoles', 'Jueves', 'Viernes', 'Sábado', 'Domingo']\n",
        "day_of_week_name = day_names[day_of_week]\n",
        "print(f\"El día de la semana con la mayor facturación es: {day_of_week_name}\")\n"
      ]
    },
    {
      "cell_type": "code",
      "execution_count": null,
      "metadata": {
        "colab": {
          "base_uri": "https://localhost:8080/"
        },
        "id": "AVyA07ohKTXE",
        "outputId": "b18fe62c-1478-4a29-bfdf-17bf3a2a0b36"
      },
      "outputs": [
        {
          "data": {
            "text/plain": [
              "79816"
            ]
          },
          "execution_count": 51,
          "metadata": {},
          "output_type": "execute_result"
        }
      ],
      "source": [
        "df['contar_ot'].sum()"
      ]
    },
    {
      "cell_type": "code",
      "execution_count": null,
      "metadata": {
        "id": "Z_O7RYEpkfjA"
      },
      "outputs": [],
      "source": [
        "df_grouped = df.groupby(['oficina']).agg({'total_facturacion': 'sum', 'contar_ot': 'sum'})\n",
        "df_grouped['ticket_promedio_por_sucursal'] = df_grouped['total_facturacion'] / df_grouped['contar_ot']"
      ]
    },
    {
      "cell_type": "code",
      "execution_count": null,
      "metadata": {
        "id": "CapoTQBUlMqj"
      },
      "outputs": [],
      "source": [
        "df.columns"
      ]
    },
    {
      "cell_type": "code",
      "execution_count": null,
      "metadata": {
        "id": "XC-GU_-LlSoE"
      },
      "outputs": [],
      "source": [
        "df_grouped = df.groupby('oficina').agg({'total_facturacion':'sum', 'contar_ot':'sum'})\n",
        "df_grouped['ticket_promedio'] = df_grouped['total_facturacion'] / df_grouped['contar_ot']\n",
        "df_grouped.rename(columns={'ticket_promedio': 'ticket_promedio'}, inplace=True)\n",
        "\n",
        "print(df_grouped)\n"
      ]
    },
    {
      "cell_type": "code",
      "execution_count": null,
      "metadata": {
        "id": "SAKSC0d_mCGP"
      },
      "outputs": [],
      "source": [
        "def currency_format(x):\n",
        "    return \"{:,.0f}\".format(x)\n",
        "\n",
        "df_grouped = df.groupby('modelo').agg({'total_facturacion':'sum', 'contar_ot':'sum'})\n",
        "df_grouped['ticket_promedio'] = df_grouped['total_facturacion'] / df_grouped['contar_ot']\n",
        "df_grouped.rename(columns={'ticket_promedio': 'ticket_promedio'}, inplace=True)\n",
        "df_grouped = df_grouped.applymap(currency_format)\n",
        "print(df_grouped)\n"
      ]
    },
    {
      "cell_type": "markdown",
      "metadata": {
        "id": "5tzOGOqmrd4L"
      },
      "source": [
        "## Consultas Chat GPT-3 (3/2/23)"
      ]
    },
    {
      "cell_type": "code",
      "execution_count": null,
      "metadata": {
        "id": "nLtguAlUoa1d"
      },
      "outputs": [],
      "source": [
        "df.groupby(['oficina']).sum()['total_facturacion'].reset_index()"
      ]
    },
    {
      "cell_type": "code",
      "execution_count": null,
      "metadata": {
        "id": "s1Umu7QarmM_"
      },
      "outputs": [],
      "source": [
        "df.groupby(['tipo_trabajo']).count()['contar_ot'].reset_index()\n"
      ]
    },
    {
      "cell_type": "code",
      "execution_count": null,
      "metadata": {
        "id": "lYI76nd_rs1l"
      },
      "outputs": [],
      "source": [
        "df_grouped = df.groupby(['forma_pago']).sum()['total_facturacion'].reset_index()\n",
        "print(df_grouped)\n"
      ]
    },
    {
      "cell_type": "code",
      "execution_count": null,
      "metadata": {
        "id": "GhwPzP5atomP"
      },
      "outputs": [],
      "source": [
        "result = df.groupby(['forma_pago']).sum()['total_facturacion'].reset_index()\n",
        "result = result.sort_values(by='total_facturacion', ascending=False)\n",
        "result['total_facturacion'] = result['total_facturacion'].apply(currency_format)\n",
        "print(result)\n"
      ]
    },
    {
      "cell_type": "code",
      "execution_count": null,
      "metadata": {
        "id": "6H7QQpKAtoo4"
      },
      "outputs": [],
      "source": [
        "result = df.groupby(['forma_pago']).sum()['total_facturacion'].reset_index()\n",
        "result['total_facturacion'] = result['total_facturacion'].astype(float)\n",
        "result['total_facturacion'] = result['total_facturacion'].apply(lambda x: \"{:,.0f}\".format(x))\n",
        "\n",
        "print(result)\n",
        "\n"
      ]
    },
    {
      "cell_type": "code",
      "execution_count": null,
      "metadata": {
        "id": "iXkp2g-jtori"
      },
      "outputs": [],
      "source": [
        "df.total_facturacion"
      ]
    },
    {
      "cell_type": "code",
      "execution_count": null,
      "metadata": {
        "id": "lMIuHA9Wtoui"
      },
      "outputs": [],
      "source": [
        "result = df.groupby(['modelo']).count()['oficina'].reset_index()\n",
        "result = result.sort_values(by='oficina', ascending=False)\n",
        "\n",
        "print(result.head(10))\n"
      ]
    },
    {
      "cell_type": "code",
      "execution_count": null,
      "metadata": {
        "id": "c8MeGF7Htoxt"
      },
      "outputs": [],
      "source": [
        "model_group = df.groupby(['modelo']).sum()[['total_facturacion']]\n",
        "model_group['average_ticket'] = model_group['total_facturacion'] / df.groupby(['modelo']).count()['tipo_orden_trabajo']\n",
        "model_group = model_group.reset_index()\n",
        "\n",
        "print(model_group.sort_values(by='average_ticket', ascending=False))\n"
      ]
    },
    {
      "cell_type": "code",
      "execution_count": null,
      "metadata": {
        "id": "spaeEYmoyYvw"
      },
      "outputs": [],
      "source": [
        "def currency_format(x):\n",
        "    return \"{:,.0f}\".format(x)\n",
        "\n",
        "df_grouped = df.groupby('modelo').agg({'total_facturacion':'sum', 'contar_ot':'sum'})\n",
        "df_grouped['ticket_promedio'] = df_grouped['total_facturacion'] / df_grouped['contar_ot']\n",
        "df_grouped.rename(columns={'ticket_promedio': 'ticket_promedio'}, inplace=True)\n",
        "df_grouped = df_grouped.sort_values(by='ticket_promedio', ascending=False)\n",
        "df_grouped = df_grouped.applymap(currency_format)\n",
        "print(df_grouped)\n"
      ]
    },
    {
      "cell_type": "code",
      "execution_count": null,
      "metadata": {
        "id": "lS9YmmDhz7Md"
      },
      "outputs": [],
      "source": [
        "result = df.groupby(['modelo']).sum()['contar_ot'].reset_index()\n",
        "result = result.sort_values(by='contar_ot', ascending=False)\n",
        "\n",
        "print(result)\n"
      ]
    },
    {
      "cell_type": "code",
      "execution_count": null,
      "metadata": {
        "id": "Q_i2BStm8m9I"
      },
      "outputs": [],
      "source": [
        "porcentaje_mpp = df[df['posee_mpp'] == True].count() / df.shape[0] * 100\n",
        "print(porcentaje_mpp)"
      ]
    },
    {
      "cell_type": "code",
      "execution_count": null,
      "metadata": {
        "id": "mWRLB18M8nAK"
      },
      "outputs": [],
      "source": [
        "df2 = df.query(\"tipo_trabajo == 'PREVENTIVA'\")\n",
        "\n",
        "df_grouped = df2.groupby('oficina')['posee_mpp'].value_counts(normalize=True).mul(100).reset_index(name='porcentaje_mpp')\n",
        "df_grouped = df_grouped[df_grouped['posee_mpp'] == 'SI']\n",
        "print(df_grouped)\n"
      ]
    },
    {
      "cell_type": "code",
      "execution_count": null,
      "metadata": {
        "id": "BzlD4-3A8nDC"
      },
      "outputs": [],
      "source": [
        "df_grouped = df.groupby('oficina')['posee_mpp'].value_counts(normalize=True).mul(100).reset_index(name='porcentaje_mpp')\n",
        "df_grouped = df_grouped[df_grouped['posee_mpp'] == 'SI']\n",
        "print(df_grouped)"
      ]
    },
    {
      "cell_type": "code",
      "execution_count": null,
      "metadata": {
        "colab": {
          "base_uri": "https://localhost:8080/",
          "height": 270
        },
        "id": "gLdOu2Ed8nGb",
        "outputId": "42e59660-203e-4afb-f87b-21de2d144e62"
      },
      "outputs": [
        {
          "data": {
            "image/png": "[encoded data removed]",
            "text/plain": [
              "<Figure size 432x288 with 2 Axes>"
            ]
          },
          "metadata": {},
          "output_type": "display_data"
        }
      ],
      "source": [
        "import seaborn as sns\n",
        "import matplotlib.pyplot as plt\n",
        "\n",
        "# Filtrar solo las columnas relevantes\n",
        "df_filtered = df[[ 'total_facturacion', 'marca']]\n",
        "\n",
        "# Crear un mapa de correlación con Seaborn\n",
        "sns.heatmap(df_filtered.corr(), annot=True)\n",
        "\n",
        "# Mostrar el mapa\n",
        "plt.show()\n"
      ]
    },
    {
      "cell_type": "code",
      "execution_count": null,
      "metadata": {
        "id": "j3fxt8y7IpX9"
      },
      "outputs": [],
      "source": []
    }
  ],
  "metadata": {
    "colab": {
      "provenance": [],
      "mount_file_id": "1JIwx1MI4aDPzuBKD6p_qXQMkEYqBvpiW",
      "authorship_tag": "ABX9TyM1HLGotNqfeP8g6vnelQyH",
      "include_colab_link": true
    },
    "kernelspec": {
      "display_name": "Python 3",
      "name": "python3"
    },
    "language_info": {
      "name": "python"
    }
  },
  "nbformat": 4,
  "nbformat_minor": 0
}
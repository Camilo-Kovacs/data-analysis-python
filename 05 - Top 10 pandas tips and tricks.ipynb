{
 "cells": [
  {
   "cell_type": "markdown",
   "id": "edf11b90",
   "metadata": {},
   "source": [
    "# Top 10 pandas tips and tricks"
   ]
  },
  {
   "cell_type": "code",
   "execution_count": 2,
   "id": "b3cf8f15",
   "metadata": {
    "hide_input": false
   },
   "outputs": [],
   "source": [
    "import pandas as pd\n",
    "import numpy as np\n",
    "\n",
    "import matplotlib.pyplot as plt\n",
    "import seaborn as sns\n",
    "from seaborn import load_dataset\n",
    "\n",
    "pd.set_option('display.max_columns', None)"
   ]
  },
  {
   "cell_type": "code",
   "execution_count": 3,
   "id": "bc0bdb6c",
   "metadata": {
    "hide_input": true
   },
   "outputs": [],
   "source": [
    "diamonds = load_dataset(\"diamonds\")\n",
    "tips = load_dataset(\"tips\")\n",
    "dow = load_dataset(\"dowjones\")\n",
    "crashes = load_dataset(\"car_crashes\")\n",
    "glue = load_dataset(\"glue\")\n",
    "taxis = load_dataset(\"taxis\")"
   ]
  },
  {
   "cell_type": "markdown",
   "id": "7299af83",
   "metadata": {
    "hide_input": true
   },
   "source": [
    "# 1. Convert all columns to lowercase and remove whitespace"
   ]
  },
  {
   "cell_type": "code",
   "execution_count": 4,
   "id": "9e4b0111",
   "metadata": {
    "hide_input": true
   },
   "outputs": [
    {
     "data": {
      "text/html": [
       "<div>\n",
       "<style scoped>\n",
       "    .dataframe tbody tr th:only-of-type {\n",
       "        vertical-align: middle;\n",
       "    }\n",
       "\n",
       "    .dataframe tbody tr th {\n",
       "        vertical-align: top;\n",
       "    }\n",
       "\n",
       "    .dataframe thead th {\n",
       "        text-align: right;\n",
       "    }\n",
       "</style>\n",
       "<table border=\"1\" class=\"dataframe\">\n",
       "  <thead>\n",
       "    <tr style=\"text-align: right;\">\n",
       "      <th></th>\n",
       "      <th>User  ID</th>\n",
       "      <th>product/description</th>\n",
       "      <th>price</th>\n",
       "    </tr>\n",
       "  </thead>\n",
       "  <tbody>\n",
       "    <tr>\n",
       "      <th>0</th>\n",
       "      <td>1</td>\n",
       "      <td>iphone 11</td>\n",
       "      <td>11.756733</td>\n",
       "    </tr>\n",
       "    <tr>\n",
       "      <th>1</th>\n",
       "      <td>1</td>\n",
       "      <td>iphone 11</td>\n",
       "      <td>11.022684</td>\n",
       "    </tr>\n",
       "    <tr>\n",
       "      <th>2</th>\n",
       "      <td>1</td>\n",
       "      <td>iphone 11</td>\n",
       "      <td>9.753071</td>\n",
       "    </tr>\n",
       "    <tr>\n",
       "      <th>3</th>\n",
       "      <td>1</td>\n",
       "      <td>iphone 11</td>\n",
       "      <td>9.855838</td>\n",
       "    </tr>\n",
       "    <tr>\n",
       "      <th>4</th>\n",
       "      <td>2</td>\n",
       "      <td>samsung s20</td>\n",
       "      <td>9.757330</td>\n",
       "    </tr>\n",
       "    <tr>\n",
       "      <th>5</th>\n",
       "      <td>2</td>\n",
       "      <td>samsung s20</td>\n",
       "      <td>8.069593</td>\n",
       "    </tr>\n",
       "    <tr>\n",
       "      <th>6</th>\n",
       "      <td>2</td>\n",
       "      <td>samsung s20</td>\n",
       "      <td>11.352987</td>\n",
       "    </tr>\n",
       "    <tr>\n",
       "      <th>7</th>\n",
       "      <td>2</td>\n",
       "      <td>samsung s20</td>\n",
       "      <td>9.816936</td>\n",
       "    </tr>\n",
       "  </tbody>\n",
       "</table>\n",
       "</div>"
      ],
      "text/plain": [
       "   User  ID product/description      price\n",
       "0         1           iphone 11  11.756733\n",
       "1         1           iphone 11  11.022684\n",
       "2         1           iphone 11   9.753071\n",
       "3         1           iphone 11   9.855838\n",
       "4         2         samsung s20   9.757330\n",
       "5         2         samsung s20   8.069593\n",
       "6         2         samsung s20  11.352987\n",
       "7         2         samsung s20   9.816936"
      ]
     },
     "execution_count": 4,
     "metadata": {},
     "output_type": "execute_result"
    }
   ],
   "source": [
    "df = pd.DataFrame({\n",
    "    \"User  ID\": [1, 1, 1, 1, 2, 2, 2, 2],\n",
    "    \"product/description\": [\"iphone 11\"] * 4 + [\"samsung s20\"] * 4,\n",
    "    \"price\": np.random.randn(8) + 10,\n",
    "})\n",
    "df"
   ]
  },
  {
   "cell_type": "code",
   "execution_count": 5,
   "id": "b6d0a64c",
   "metadata": {
    "hide_input": true
   },
   "outputs": [
    {
     "data": {
      "text/plain": [
       "Index(['User  ID', 'product/description', 'price'], dtype='object')"
      ]
     },
     "execution_count": 5,
     "metadata": {},
     "output_type": "execute_result"
    }
   ],
   "source": [
    "df.columns"
   ]
  },
  {
   "cell_type": "code",
   "execution_count": 6,
   "id": "58eb651d",
   "metadata": {
    "hide_input": true
   },
   "outputs": [],
   "source": [
    "import re\n",
    "\n",
    "def clean_column(s):\n",
    "    s = str(s)                          # convert to string just in case\n",
    "    s = re.sub(\"/\", \" \", s)             # replace / for whitespace\n",
    "    s = re.sub(\" {1,}\", \" \", s)         # replace multiple whitespaces to one whitespace  \n",
    "    s = re.sub(\" \", \"_\", s)             # replace a whitespace for _\n",
    "    return s.lower()    "
   ]
  },
  {
   "cell_type": "code",
   "execution_count": 7,
   "id": "e8353546",
   "metadata": {
    "hide_input": true
   },
   "outputs": [
    {
     "data": {
      "text/plain": [
       "'user_id'"
      ]
     },
     "execution_count": 7,
     "metadata": {},
     "output_type": "execute_result"
    }
   ],
   "source": [
    "clean_column('User  ID')"
   ]
  },
  {
   "cell_type": "code",
   "execution_count": 8,
   "id": "363c3be9",
   "metadata": {
    "direction": "rtl",
    "hide_input": false
   },
   "outputs": [
    {
     "data": {
      "text/plain": [
       "'product_description'"
      ]
     },
     "execution_count": 8,
     "metadata": {},
     "output_type": "execute_result"
    }
   ],
   "source": [
    "clean_column('product/description')"
   ]
  },
  {
   "cell_type": "code",
   "execution_count": 9,
   "id": "92a0dfee",
   "metadata": {
    "hide_input": false
   },
   "outputs": [
    {
     "data": {
      "text/plain": [
       "Index(['user_id', 'product_description', 'price'], dtype='object')"
      ]
     },
     "execution_count": 9,
     "metadata": {},
     "output_type": "execute_result"
    }
   ],
   "source": [
    "df.columns = [clean_column(col) for col in df.columns]\n",
    "df.columns"
   ]
  },
  {
   "cell_type": "code",
   "execution_count": 11,
   "id": "ce137cf9",
   "metadata": {
    "hide_input": false
   },
   "outputs": [
    {
     "data": {
      "text/html": [
       "<div>\n",
       "<style scoped>\n",
       "    .dataframe tbody tr th:only-of-type {\n",
       "        vertical-align: middle;\n",
       "    }\n",
       "\n",
       "    .dataframe tbody tr th {\n",
       "        vertical-align: top;\n",
       "    }\n",
       "\n",
       "    .dataframe thead th {\n",
       "        text-align: right;\n",
       "    }\n",
       "</style>\n",
       "<table border=\"1\" class=\"dataframe\">\n",
       "  <thead>\n",
       "    <tr style=\"text-align: right;\">\n",
       "      <th></th>\n",
       "      <th>user_id</th>\n",
       "      <th>product_description</th>\n",
       "      <th>price</th>\n",
       "    </tr>\n",
       "  </thead>\n",
       "  <tbody>\n",
       "    <tr>\n",
       "      <th>0</th>\n",
       "      <td>1</td>\n",
       "      <td>iphone 11</td>\n",
       "      <td>11.756733</td>\n",
       "    </tr>\n",
       "    <tr>\n",
       "      <th>1</th>\n",
       "      <td>1</td>\n",
       "      <td>iphone 11</td>\n",
       "      <td>11.022684</td>\n",
       "    </tr>\n",
       "    <tr>\n",
       "      <th>2</th>\n",
       "      <td>1</td>\n",
       "      <td>iphone 11</td>\n",
       "      <td>9.753071</td>\n",
       "    </tr>\n",
       "    <tr>\n",
       "      <th>3</th>\n",
       "      <td>1</td>\n",
       "      <td>iphone 11</td>\n",
       "      <td>9.855838</td>\n",
       "    </tr>\n",
       "    <tr>\n",
       "      <th>4</th>\n",
       "      <td>2</td>\n",
       "      <td>samsung s20</td>\n",
       "      <td>9.757330</td>\n",
       "    </tr>\n",
       "  </tbody>\n",
       "</table>\n",
       "</div>"
      ],
      "text/plain": [
       "   user_id product_description      price\n",
       "0        1           iphone 11  11.756733\n",
       "1        1           iphone 11  11.022684\n",
       "2        1           iphone 11   9.753071\n",
       "3        1           iphone 11   9.855838\n",
       "4        2         samsung s20   9.757330"
      ]
     },
     "execution_count": 11,
     "metadata": {},
     "output_type": "execute_result"
    }
   ],
   "source": [
    "# Cleaned data, now we can use df.user_id syntax!\n",
    "df.head()"
   ]
  },
  {
   "cell_type": "markdown",
   "id": "607e7ce2",
   "metadata": {},
   "source": [
    "# 2. Select columns by dtype"
   ]
  },
  {
   "cell_type": "code",
   "execution_count": 14,
   "id": "e3bc78dc",
   "metadata": {
    "hide_input": true
   },
   "outputs": [
    {
     "data": {
      "text/plain": [
       "carat       float64\n",
       "cut        category\n",
       "color      category\n",
       "clarity    category\n",
       "depth       float64\n",
       "table       float64\n",
       "price         int64\n",
       "x           float64\n",
       "y           float64\n",
       "z           float64\n",
       "dtype: object"
      ]
     },
     "execution_count": 14,
     "metadata": {},
     "output_type": "execute_result"
    }
   ],
   "source": [
    "diamonds.dtypes"
   ]
  },
  {
   "cell_type": "code",
   "execution_count": 15,
   "id": "aabc8828",
   "metadata": {
    "hide_input": true
   },
   "outputs": [
    {
     "data": {
      "text/html": [
       "<div>\n",
       "<style scoped>\n",
       "    .dataframe tbody tr th:only-of-type {\n",
       "        vertical-align: middle;\n",
       "    }\n",
       "\n",
       "    .dataframe tbody tr th {\n",
       "        vertical-align: top;\n",
       "    }\n",
       "\n",
       "    .dataframe thead th {\n",
       "        text-align: right;\n",
       "    }\n",
       "</style>\n",
       "<table border=\"1\" class=\"dataframe\">\n",
       "  <thead>\n",
       "    <tr style=\"text-align: right;\">\n",
       "      <th></th>\n",
       "      <th>cut</th>\n",
       "      <th>color</th>\n",
       "      <th>clarity</th>\n",
       "      <th>price</th>\n",
       "    </tr>\n",
       "  </thead>\n",
       "  <tbody>\n",
       "    <tr>\n",
       "      <th>0</th>\n",
       "      <td>Ideal</td>\n",
       "      <td>E</td>\n",
       "      <td>SI2</td>\n",
       "      <td>326</td>\n",
       "    </tr>\n",
       "    <tr>\n",
       "      <th>1</th>\n",
       "      <td>Premium</td>\n",
       "      <td>E</td>\n",
       "      <td>SI1</td>\n",
       "      <td>326</td>\n",
       "    </tr>\n",
       "    <tr>\n",
       "      <th>2</th>\n",
       "      <td>Good</td>\n",
       "      <td>E</td>\n",
       "      <td>VS1</td>\n",
       "      <td>327</td>\n",
       "    </tr>\n",
       "    <tr>\n",
       "      <th>3</th>\n",
       "      <td>Premium</td>\n",
       "      <td>I</td>\n",
       "      <td>VS2</td>\n",
       "      <td>334</td>\n",
       "    </tr>\n",
       "    <tr>\n",
       "      <th>4</th>\n",
       "      <td>Good</td>\n",
       "      <td>J</td>\n",
       "      <td>SI2</td>\n",
       "      <td>335</td>\n",
       "    </tr>\n",
       "    <tr>\n",
       "      <th>...</th>\n",
       "      <td>...</td>\n",
       "      <td>...</td>\n",
       "      <td>...</td>\n",
       "      <td>...</td>\n",
       "    </tr>\n",
       "    <tr>\n",
       "      <th>53935</th>\n",
       "      <td>Ideal</td>\n",
       "      <td>D</td>\n",
       "      <td>SI1</td>\n",
       "      <td>2757</td>\n",
       "    </tr>\n",
       "    <tr>\n",
       "      <th>53936</th>\n",
       "      <td>Good</td>\n",
       "      <td>D</td>\n",
       "      <td>SI1</td>\n",
       "      <td>2757</td>\n",
       "    </tr>\n",
       "    <tr>\n",
       "      <th>53937</th>\n",
       "      <td>Very Good</td>\n",
       "      <td>D</td>\n",
       "      <td>SI1</td>\n",
       "      <td>2757</td>\n",
       "    </tr>\n",
       "    <tr>\n",
       "      <th>53938</th>\n",
       "      <td>Premium</td>\n",
       "      <td>H</td>\n",
       "      <td>SI2</td>\n",
       "      <td>2757</td>\n",
       "    </tr>\n",
       "    <tr>\n",
       "      <th>53939</th>\n",
       "      <td>Ideal</td>\n",
       "      <td>D</td>\n",
       "      <td>SI2</td>\n",
       "      <td>2757</td>\n",
       "    </tr>\n",
       "  </tbody>\n",
       "</table>\n",
       "<p>53940 rows × 4 columns</p>\n",
       "</div>"
      ],
      "text/plain": [
       "             cut color clarity  price\n",
       "0          Ideal     E     SI2    326\n",
       "1        Premium     E     SI1    326\n",
       "2           Good     E     VS1    327\n",
       "3        Premium     I     VS2    334\n",
       "4           Good     J     SI2    335\n",
       "...          ...   ...     ...    ...\n",
       "53935      Ideal     D     SI1   2757\n",
       "53936       Good     D     SI1   2757\n",
       "53937  Very Good     D     SI1   2757\n",
       "53938    Premium     H     SI2   2757\n",
       "53939      Ideal     D     SI2   2757\n",
       "\n",
       "[53940 rows x 4 columns]"
      ]
     },
     "execution_count": 15,
     "metadata": {},
     "output_type": "execute_result"
    }
   ],
   "source": [
    "diamonds.select_dtypes([\"category\", \"int\"])"
   ]
  },
  {
   "cell_type": "markdown",
   "id": "006b0a04",
   "metadata": {},
   "source": [
    "# 3. Group by multiple columns - Avoid MultiIndex output"
   ]
  },
  {
   "cell_type": "code",
   "execution_count": 16,
   "id": "b40b91a9",
   "metadata": {
    "hide_input": true
   },
   "outputs": [
    {
     "data": {
      "text/html": [
       "<div>\n",
       "<style scoped>\n",
       "    .dataframe tbody tr th:only-of-type {\n",
       "        vertical-align: middle;\n",
       "    }\n",
       "\n",
       "    .dataframe tbody tr th {\n",
       "        vertical-align: top;\n",
       "    }\n",
       "\n",
       "    .dataframe thead th {\n",
       "        text-align: right;\n",
       "    }\n",
       "</style>\n",
       "<table border=\"1\" class=\"dataframe\">\n",
       "  <thead>\n",
       "    <tr style=\"text-align: right;\">\n",
       "      <th></th>\n",
       "      <th>cut</th>\n",
       "      <th>color</th>\n",
       "      <th>clarity</th>\n",
       "      <th>price</th>\n",
       "    </tr>\n",
       "  </thead>\n",
       "  <tbody>\n",
       "    <tr>\n",
       "      <th>0</th>\n",
       "      <td>Ideal</td>\n",
       "      <td>D</td>\n",
       "      <td>IF</td>\n",
       "      <td>6567.178571</td>\n",
       "    </tr>\n",
       "    <tr>\n",
       "      <th>1</th>\n",
       "      <td>Ideal</td>\n",
       "      <td>D</td>\n",
       "      <td>VVS1</td>\n",
       "      <td>2705.777778</td>\n",
       "    </tr>\n",
       "    <tr>\n",
       "      <th>2</th>\n",
       "      <td>Ideal</td>\n",
       "      <td>D</td>\n",
       "      <td>VVS2</td>\n",
       "      <td>3619.014085</td>\n",
       "    </tr>\n",
       "    <tr>\n",
       "      <th>3</th>\n",
       "      <td>Ideal</td>\n",
       "      <td>D</td>\n",
       "      <td>VS1</td>\n",
       "      <td>2576.039886</td>\n",
       "    </tr>\n",
       "    <tr>\n",
       "      <th>4</th>\n",
       "      <td>Ideal</td>\n",
       "      <td>D</td>\n",
       "      <td>VS2</td>\n",
       "      <td>2111.927174</td>\n",
       "    </tr>\n",
       "  </tbody>\n",
       "</table>\n",
       "</div>"
      ],
      "text/plain": [
       "     cut color clarity        price\n",
       "0  Ideal     D      IF  6567.178571\n",
       "1  Ideal     D    VVS1  2705.777778\n",
       "2  Ideal     D    VVS2  3619.014085\n",
       "3  Ideal     D     VS1  2576.039886\n",
       "4  Ideal     D     VS2  2111.927174"
      ]
     },
     "execution_count": 16,
     "metadata": {},
     "output_type": "execute_result"
    }
   ],
   "source": [
    "cols = ['cut', 'color', 'clarity', 'price']\n",
    "\n",
    "agg_price = (\n",
    "    diamonds\n",
    "    [cols]                                  # select columns using a list!\n",
    "    .groupby(['cut', 'color', 'clarity'],   # group by 3 columns\n",
    "             as_index=False)                # avoid the multi-index output\n",
    "    .mean()                                 # aggregate the data\n",
    ")\n",
    "agg_price.head()"
   ]
  },
  {
   "cell_type": "markdown",
   "id": "a26324e7",
   "metadata": {},
   "source": [
    "# 4. Select the top-n rows (nlargest, nsmallest)\n",
    "\n",
    "This is generally useful after an aggregation"
   ]
  },
  {
   "cell_type": "code",
   "execution_count": 17,
   "id": "3eb0a11e",
   "metadata": {
    "hide_input": true
   },
   "outputs": [
    {
     "data": {
      "text/html": [
       "<div>\n",
       "<style scoped>\n",
       "    .dataframe tbody tr th:only-of-type {\n",
       "        vertical-align: middle;\n",
       "    }\n",
       "\n",
       "    .dataframe tbody tr th {\n",
       "        vertical-align: top;\n",
       "    }\n",
       "\n",
       "    .dataframe thead th {\n",
       "        text-align: right;\n",
       "    }\n",
       "</style>\n",
       "<table border=\"1\" class=\"dataframe\">\n",
       "  <thead>\n",
       "    <tr style=\"text-align: right;\">\n",
       "      <th></th>\n",
       "      <th>cut</th>\n",
       "      <th>color</th>\n",
       "      <th>clarity</th>\n",
       "      <th>price</th>\n",
       "    </tr>\n",
       "  </thead>\n",
       "  <tbody>\n",
       "    <tr>\n",
       "      <th>112</th>\n",
       "      <td>Very Good</td>\n",
       "      <td>D</td>\n",
       "      <td>IF</td>\n",
       "      <td>10298.260870</td>\n",
       "    </tr>\n",
       "    <tr>\n",
       "      <th>168</th>\n",
       "      <td>Good</td>\n",
       "      <td>D</td>\n",
       "      <td>IF</td>\n",
       "      <td>10030.333333</td>\n",
       "    </tr>\n",
       "    <tr>\n",
       "      <th>55</th>\n",
       "      <td>Ideal</td>\n",
       "      <td>J</td>\n",
       "      <td>I1</td>\n",
       "      <td>9454.000000</td>\n",
       "    </tr>\n",
       "    <tr>\n",
       "      <th>56</th>\n",
       "      <td>Premium</td>\n",
       "      <td>D</td>\n",
       "      <td>IF</td>\n",
       "      <td>9056.500000</td>\n",
       "    </tr>\n",
       "    <tr>\n",
       "      <th>110</th>\n",
       "      <td>Premium</td>\n",
       "      <td>J</td>\n",
       "      <td>SI2</td>\n",
       "      <td>7550.285714</td>\n",
       "    </tr>\n",
       "  </tbody>\n",
       "</table>\n",
       "</div>"
      ],
      "text/plain": [
       "           cut color clarity         price\n",
       "112  Very Good     D      IF  10298.260870\n",
       "168       Good     D      IF  10030.333333\n",
       "55       Ideal     J      I1   9454.000000\n",
       "56     Premium     D      IF   9056.500000\n",
       "110    Premium     J     SI2   7550.285714"
      ]
     },
     "execution_count": 17,
     "metadata": {},
     "output_type": "execute_result"
    }
   ],
   "source": [
    "agg_price.nlargest(5, 'price')"
   ]
  },
  {
   "cell_type": "code",
   "execution_count": 18,
   "id": "27ddd141",
   "metadata": {
    "hide_input": true,
    "scrolled": true
   },
   "outputs": [
    {
     "data": {
      "text/html": [
       "<div>\n",
       "<style scoped>\n",
       "    .dataframe tbody tr th:only-of-type {\n",
       "        vertical-align: middle;\n",
       "    }\n",
       "\n",
       "    .dataframe tbody tr th {\n",
       "        vertical-align: top;\n",
       "    }\n",
       "\n",
       "    .dataframe thead th {\n",
       "        text-align: right;\n",
       "    }\n",
       "</style>\n",
       "<table border=\"1\" class=\"dataframe\">\n",
       "  <thead>\n",
       "    <tr style=\"text-align: right;\">\n",
       "      <th></th>\n",
       "      <th>cut</th>\n",
       "      <th>color</th>\n",
       "      <th>clarity</th>\n",
       "      <th>price</th>\n",
       "    </tr>\n",
       "  </thead>\n",
       "  <tbody>\n",
       "    <tr>\n",
       "      <th>160</th>\n",
       "      <td>Very Good</td>\n",
       "      <td>J</td>\n",
       "      <td>IF</td>\n",
       "      <td>1074.125000</td>\n",
       "    </tr>\n",
       "    <tr>\n",
       "      <th>89</th>\n",
       "      <td>Premium</td>\n",
       "      <td>H</td>\n",
       "      <td>VVS1</td>\n",
       "      <td>1453.758929</td>\n",
       "    </tr>\n",
       "    <tr>\n",
       "      <th>248</th>\n",
       "      <td>Fair</td>\n",
       "      <td>G</td>\n",
       "      <td>IF</td>\n",
       "      <td>1488.000000</td>\n",
       "    </tr>\n",
       "    <tr>\n",
       "      <th>40</th>\n",
       "      <td>Ideal</td>\n",
       "      <td>I</td>\n",
       "      <td>IF</td>\n",
       "      <td>1502.621053</td>\n",
       "    </tr>\n",
       "    <tr>\n",
       "      <th>176</th>\n",
       "      <td>Good</td>\n",
       "      <td>E</td>\n",
       "      <td>IF</td>\n",
       "      <td>1519.222222</td>\n",
       "    </tr>\n",
       "  </tbody>\n",
       "</table>\n",
       "</div>"
      ],
      "text/plain": [
       "           cut color clarity        price\n",
       "160  Very Good     J      IF  1074.125000\n",
       "89     Premium     H    VVS1  1453.758929\n",
       "248       Fair     G      IF  1488.000000\n",
       "40       Ideal     I      IF  1502.621053\n",
       "176       Good     E      IF  1519.222222"
      ]
     },
     "execution_count": 18,
     "metadata": {},
     "output_type": "execute_result"
    }
   ],
   "source": [
    "agg_price.nsmallest(5, 'price')"
   ]
  },
  {
   "cell_type": "markdown",
   "id": "97bfac0c",
   "metadata": {},
   "source": [
    "# 5. Use melt to convert \"wide\" data to \"long\" format"
   ]
  },
  {
   "cell_type": "code",
   "execution_count": 19,
   "id": "6397f010",
   "metadata": {
    "hide_input": true
   },
   "outputs": [
    {
     "data": {
      "text/html": [
       "<div>\n",
       "<style scoped>\n",
       "    .dataframe tbody tr th:only-of-type {\n",
       "        vertical-align: middle;\n",
       "    }\n",
       "\n",
       "    .dataframe tbody tr th {\n",
       "        vertical-align: top;\n",
       "    }\n",
       "\n",
       "    .dataframe thead th {\n",
       "        text-align: right;\n",
       "    }\n",
       "</style>\n",
       "<table border=\"1\" class=\"dataframe\">\n",
       "  <thead>\n",
       "    <tr style=\"text-align: right;\">\n",
       "      <th></th>\n",
       "      <th>Country code</th>\n",
       "      <th>Country name</th>\n",
       "      <th>Series code</th>\n",
       "      <th>Series name</th>\n",
       "      <th>SCALE</th>\n",
       "      <th>Decimals</th>\n",
       "      <th>1990</th>\n",
       "      <th>1991</th>\n",
       "      <th>1992</th>\n",
       "      <th>1993</th>\n",
       "      <th>1994</th>\n",
       "      <th>1995</th>\n",
       "      <th>1996</th>\n",
       "      <th>1997</th>\n",
       "      <th>1998</th>\n",
       "      <th>1999</th>\n",
       "      <th>2000</th>\n",
       "      <th>2001</th>\n",
       "      <th>2002</th>\n",
       "      <th>2003</th>\n",
       "      <th>2004</th>\n",
       "      <th>2005</th>\n",
       "      <th>2006</th>\n",
       "      <th>2007</th>\n",
       "      <th>2008</th>\n",
       "      <th>2009</th>\n",
       "      <th>2010</th>\n",
       "      <th>2011</th>\n",
       "    </tr>\n",
       "  </thead>\n",
       "  <tbody>\n",
       "    <tr>\n",
       "      <th>0</th>\n",
       "      <td>ABW</td>\n",
       "      <td>Aruba</td>\n",
       "      <td>AG.LND.EL5M.ZS</td>\n",
       "      <td>Land area below 5m (% of land area)</td>\n",
       "      <td>0</td>\n",
       "      <td>1</td>\n",
       "      <td>29.574810</td>\n",
       "      <td>NaN</td>\n",
       "      <td>NaN</td>\n",
       "      <td>NaN</td>\n",
       "      <td>NaN</td>\n",
       "      <td>NaN</td>\n",
       "      <td>NaN</td>\n",
       "      <td>NaN</td>\n",
       "      <td>NaN</td>\n",
       "      <td>NaN</td>\n",
       "      <td>29.574810</td>\n",
       "      <td>NaN</td>\n",
       "      <td>NaN</td>\n",
       "      <td>NaN</td>\n",
       "      <td>NaN</td>\n",
       "      <td>NaN</td>\n",
       "      <td>NaN</td>\n",
       "      <td>NaN</td>\n",
       "      <td>NaN</td>\n",
       "      <td>NaN</td>\n",
       "      <td>NaN</td>\n",
       "      <td>NaN</td>\n",
       "    </tr>\n",
       "    <tr>\n",
       "      <th>1</th>\n",
       "      <td>ADO</td>\n",
       "      <td>Andorra</td>\n",
       "      <td>AG.LND.EL5M.ZS</td>\n",
       "      <td>Land area below 5m (% of land area)</td>\n",
       "      <td>0</td>\n",
       "      <td>1</td>\n",
       "      <td>0.000000</td>\n",
       "      <td>NaN</td>\n",
       "      <td>NaN</td>\n",
       "      <td>NaN</td>\n",
       "      <td>NaN</td>\n",
       "      <td>NaN</td>\n",
       "      <td>NaN</td>\n",
       "      <td>NaN</td>\n",
       "      <td>NaN</td>\n",
       "      <td>NaN</td>\n",
       "      <td>0.000000</td>\n",
       "      <td>NaN</td>\n",
       "      <td>NaN</td>\n",
       "      <td>NaN</td>\n",
       "      <td>NaN</td>\n",
       "      <td>NaN</td>\n",
       "      <td>NaN</td>\n",
       "      <td>NaN</td>\n",
       "      <td>NaN</td>\n",
       "      <td>NaN</td>\n",
       "      <td>NaN</td>\n",
       "      <td>NaN</td>\n",
       "    </tr>\n",
       "    <tr>\n",
       "      <th>2</th>\n",
       "      <td>AFG</td>\n",
       "      <td>Afghanistan</td>\n",
       "      <td>AG.LND.EL5M.ZS</td>\n",
       "      <td>Land area below 5m (% of land area)</td>\n",
       "      <td>0</td>\n",
       "      <td>1</td>\n",
       "      <td>0.000000</td>\n",
       "      <td>NaN</td>\n",
       "      <td>NaN</td>\n",
       "      <td>NaN</td>\n",
       "      <td>NaN</td>\n",
       "      <td>NaN</td>\n",
       "      <td>NaN</td>\n",
       "      <td>NaN</td>\n",
       "      <td>NaN</td>\n",
       "      <td>NaN</td>\n",
       "      <td>0.000000</td>\n",
       "      <td>NaN</td>\n",
       "      <td>NaN</td>\n",
       "      <td>NaN</td>\n",
       "      <td>NaN</td>\n",
       "      <td>NaN</td>\n",
       "      <td>NaN</td>\n",
       "      <td>NaN</td>\n",
       "      <td>NaN</td>\n",
       "      <td>NaN</td>\n",
       "      <td>NaN</td>\n",
       "      <td>NaN</td>\n",
       "    </tr>\n",
       "    <tr>\n",
       "      <th>3</th>\n",
       "      <td>AGO</td>\n",
       "      <td>Angola</td>\n",
       "      <td>AG.LND.EL5M.ZS</td>\n",
       "      <td>Land area below 5m (% of land area)</td>\n",
       "      <td>0</td>\n",
       "      <td>1</td>\n",
       "      <td>0.208235</td>\n",
       "      <td>NaN</td>\n",
       "      <td>NaN</td>\n",
       "      <td>NaN</td>\n",
       "      <td>NaN</td>\n",
       "      <td>NaN</td>\n",
       "      <td>NaN</td>\n",
       "      <td>NaN</td>\n",
       "      <td>NaN</td>\n",
       "      <td>NaN</td>\n",
       "      <td>0.208235</td>\n",
       "      <td>NaN</td>\n",
       "      <td>NaN</td>\n",
       "      <td>NaN</td>\n",
       "      <td>NaN</td>\n",
       "      <td>NaN</td>\n",
       "      <td>NaN</td>\n",
       "      <td>NaN</td>\n",
       "      <td>NaN</td>\n",
       "      <td>NaN</td>\n",
       "      <td>NaN</td>\n",
       "      <td>NaN</td>\n",
       "    </tr>\n",
       "    <tr>\n",
       "      <th>4</th>\n",
       "      <td>ALB</td>\n",
       "      <td>Albania</td>\n",
       "      <td>AG.LND.EL5M.ZS</td>\n",
       "      <td>Land area below 5m (% of land area)</td>\n",
       "      <td>0</td>\n",
       "      <td>1</td>\n",
       "      <td>4.967875</td>\n",
       "      <td>NaN</td>\n",
       "      <td>NaN</td>\n",
       "      <td>NaN</td>\n",
       "      <td>NaN</td>\n",
       "      <td>NaN</td>\n",
       "      <td>NaN</td>\n",
       "      <td>NaN</td>\n",
       "      <td>NaN</td>\n",
       "      <td>NaN</td>\n",
       "      <td>4.967875</td>\n",
       "      <td>NaN</td>\n",
       "      <td>NaN</td>\n",
       "      <td>NaN</td>\n",
       "      <td>NaN</td>\n",
       "      <td>NaN</td>\n",
       "      <td>NaN</td>\n",
       "      <td>NaN</td>\n",
       "      <td>NaN</td>\n",
       "      <td>NaN</td>\n",
       "      <td>NaN</td>\n",
       "      <td>NaN</td>\n",
       "    </tr>\n",
       "  </tbody>\n",
       "</table>\n",
       "</div>"
      ],
      "text/plain": [
       "  Country code Country name     Series code  \\\n",
       "0          ABW        Aruba  AG.LND.EL5M.ZS   \n",
       "1          ADO      Andorra  AG.LND.EL5M.ZS   \n",
       "2          AFG  Afghanistan  AG.LND.EL5M.ZS   \n",
       "3          AGO       Angola  AG.LND.EL5M.ZS   \n",
       "4          ALB      Albania  AG.LND.EL5M.ZS   \n",
       "\n",
       "                           Series name SCALE Decimals       1990  1991  1992  \\\n",
       "0  Land area below 5m (% of land area)     0        1  29.574810   NaN   NaN   \n",
       "1  Land area below 5m (% of land area)     0        1   0.000000   NaN   NaN   \n",
       "2  Land area below 5m (% of land area)     0        1   0.000000   NaN   NaN   \n",
       "3  Land area below 5m (% of land area)     0        1   0.208235   NaN   NaN   \n",
       "4  Land area below 5m (% of land area)     0        1   4.967875   NaN   NaN   \n",
       "\n",
       "   1993  1994  1995  1996  1997  1998  1999       2000  2001  2002  2003  \\\n",
       "0   NaN   NaN   NaN   NaN   NaN   NaN   NaN  29.574810   NaN   NaN   NaN   \n",
       "1   NaN   NaN   NaN   NaN   NaN   NaN   NaN   0.000000   NaN   NaN   NaN   \n",
       "2   NaN   NaN   NaN   NaN   NaN   NaN   NaN   0.000000   NaN   NaN   NaN   \n",
       "3   NaN   NaN   NaN   NaN   NaN   NaN   NaN   0.208235   NaN   NaN   NaN   \n",
       "4   NaN   NaN   NaN   NaN   NaN   NaN   NaN   4.967875   NaN   NaN   NaN   \n",
       "\n",
       "   2004  2005  2006  2007  2008  2009  2010 2011  \n",
       "0   NaN   NaN   NaN   NaN   NaN   NaN   NaN  NaN  \n",
       "1   NaN   NaN   NaN   NaN   NaN   NaN   NaN  NaN  \n",
       "2   NaN   NaN   NaN   NaN   NaN   NaN   NaN  NaN  \n",
       "3   NaN   NaN   NaN   NaN   NaN   NaN   NaN  NaN  \n",
       "4   NaN   NaN   NaN   NaN   NaN   NaN   NaN  NaN  "
      ]
     },
     "execution_count": 19,
     "metadata": {},
     "output_type": "execute_result"
    }
   ],
   "source": [
    "# Download data: https://data.world/worldbank/climate-change-data\n",
    "\n",
    "df = pd.read_excel('https://query.data.world/s/6t2guxfsulbqf5igqrd64hj7f6my3u?dws=00000', \n",
    "                  na_values=['..'])\n",
    "df.head()"
   ]
  },
  {
   "cell_type": "code",
   "execution_count": 20,
   "id": "7d96872a",
   "metadata": {
    "hide_input": true
   },
   "outputs": [
    {
     "data": {
      "text/plain": [
       "Index(['Country code', 'Country name',  'Series code',  'Series name',\n",
       "              'SCALE',     'Decimals',           1990,           1991,\n",
       "                 1992,           1993,           1994,           1995,\n",
       "                 1996,           1997,           1998,           1999,\n",
       "                 2000,           2001,           2002,           2003,\n",
       "                 2004,           2005,           2006,           2007,\n",
       "                 2008,           2009,           2010,           2011],\n",
       "      dtype='object')"
      ]
     },
     "execution_count": 20,
     "metadata": {},
     "output_type": "execute_result"
    }
   ],
   "source": [
    "df.columns"
   ]
  },
  {
   "cell_type": "code",
   "execution_count": 21,
   "id": "8aa70817",
   "metadata": {
    "hide_input": true
   },
   "outputs": [],
   "source": [
    "# clean up columns\n",
    "df.columns = [clean_column(col) for col in df.columns]"
   ]
  },
  {
   "cell_type": "code",
   "execution_count": 22,
   "id": "334f4962",
   "metadata": {
    "hide_input": true
   },
   "outputs": [
    {
     "data": {
      "text/html": [
       "<div>\n",
       "<style scoped>\n",
       "    .dataframe tbody tr th:only-of-type {\n",
       "        vertical-align: middle;\n",
       "    }\n",
       "\n",
       "    .dataframe tbody tr th {\n",
       "        vertical-align: top;\n",
       "    }\n",
       "\n",
       "    .dataframe thead th {\n",
       "        text-align: right;\n",
       "    }\n",
       "</style>\n",
       "<table border=\"1\" class=\"dataframe\">\n",
       "  <thead>\n",
       "    <tr style=\"text-align: right;\">\n",
       "      <th></th>\n",
       "      <th>country_code</th>\n",
       "      <th>country_name</th>\n",
       "      <th>series_code</th>\n",
       "      <th>series_name</th>\n",
       "      <th>scale</th>\n",
       "      <th>decimals</th>\n",
       "      <th>1990</th>\n",
       "      <th>1991</th>\n",
       "      <th>1992</th>\n",
       "      <th>1993</th>\n",
       "      <th>1994</th>\n",
       "      <th>1995</th>\n",
       "      <th>1996</th>\n",
       "      <th>1997</th>\n",
       "      <th>1998</th>\n",
       "      <th>1999</th>\n",
       "      <th>2000</th>\n",
       "      <th>2001</th>\n",
       "      <th>2002</th>\n",
       "      <th>2003</th>\n",
       "      <th>2004</th>\n",
       "      <th>2005</th>\n",
       "      <th>2006</th>\n",
       "      <th>2007</th>\n",
       "      <th>2008</th>\n",
       "      <th>2009</th>\n",
       "      <th>2010</th>\n",
       "      <th>2011</th>\n",
       "    </tr>\n",
       "  </thead>\n",
       "  <tbody>\n",
       "    <tr>\n",
       "      <th>0</th>\n",
       "      <td>ABW</td>\n",
       "      <td>Aruba</td>\n",
       "      <td>AG.LND.EL5M.ZS</td>\n",
       "      <td>Land area below 5m (% of land area)</td>\n",
       "      <td>0</td>\n",
       "      <td>1</td>\n",
       "      <td>29.57481</td>\n",
       "      <td>NaN</td>\n",
       "      <td>NaN</td>\n",
       "      <td>NaN</td>\n",
       "      <td>NaN</td>\n",
       "      <td>NaN</td>\n",
       "      <td>NaN</td>\n",
       "      <td>NaN</td>\n",
       "      <td>NaN</td>\n",
       "      <td>NaN</td>\n",
       "      <td>29.57481</td>\n",
       "      <td>NaN</td>\n",
       "      <td>NaN</td>\n",
       "      <td>NaN</td>\n",
       "      <td>NaN</td>\n",
       "      <td>NaN</td>\n",
       "      <td>NaN</td>\n",
       "      <td>NaN</td>\n",
       "      <td>NaN</td>\n",
       "      <td>NaN</td>\n",
       "      <td>NaN</td>\n",
       "      <td>NaN</td>\n",
       "    </tr>\n",
       "    <tr>\n",
       "      <th>1</th>\n",
       "      <td>ADO</td>\n",
       "      <td>Andorra</td>\n",
       "      <td>AG.LND.EL5M.ZS</td>\n",
       "      <td>Land area below 5m (% of land area)</td>\n",
       "      <td>0</td>\n",
       "      <td>1</td>\n",
       "      <td>0.00000</td>\n",
       "      <td>NaN</td>\n",
       "      <td>NaN</td>\n",
       "      <td>NaN</td>\n",
       "      <td>NaN</td>\n",
       "      <td>NaN</td>\n",
       "      <td>NaN</td>\n",
       "      <td>NaN</td>\n",
       "      <td>NaN</td>\n",
       "      <td>NaN</td>\n",
       "      <td>0.00000</td>\n",
       "      <td>NaN</td>\n",
       "      <td>NaN</td>\n",
       "      <td>NaN</td>\n",
       "      <td>NaN</td>\n",
       "      <td>NaN</td>\n",
       "      <td>NaN</td>\n",
       "      <td>NaN</td>\n",
       "      <td>NaN</td>\n",
       "      <td>NaN</td>\n",
       "      <td>NaN</td>\n",
       "      <td>NaN</td>\n",
       "    </tr>\n",
       "    <tr>\n",
       "      <th>2</th>\n",
       "      <td>AFG</td>\n",
       "      <td>Afghanistan</td>\n",
       "      <td>AG.LND.EL5M.ZS</td>\n",
       "      <td>Land area below 5m (% of land area)</td>\n",
       "      <td>0</td>\n",
       "      <td>1</td>\n",
       "      <td>0.00000</td>\n",
       "      <td>NaN</td>\n",
       "      <td>NaN</td>\n",
       "      <td>NaN</td>\n",
       "      <td>NaN</td>\n",
       "      <td>NaN</td>\n",
       "      <td>NaN</td>\n",
       "      <td>NaN</td>\n",
       "      <td>NaN</td>\n",
       "      <td>NaN</td>\n",
       "      <td>0.00000</td>\n",
       "      <td>NaN</td>\n",
       "      <td>NaN</td>\n",
       "      <td>NaN</td>\n",
       "      <td>NaN</td>\n",
       "      <td>NaN</td>\n",
       "      <td>NaN</td>\n",
       "      <td>NaN</td>\n",
       "      <td>NaN</td>\n",
       "      <td>NaN</td>\n",
       "      <td>NaN</td>\n",
       "      <td>NaN</td>\n",
       "    </tr>\n",
       "  </tbody>\n",
       "</table>\n",
       "</div>"
      ],
      "text/plain": [
       "  country_code country_name     series_code  \\\n",
       "0          ABW        Aruba  AG.LND.EL5M.ZS   \n",
       "1          ADO      Andorra  AG.LND.EL5M.ZS   \n",
       "2          AFG  Afghanistan  AG.LND.EL5M.ZS   \n",
       "\n",
       "                           series_name scale decimals      1990  1991  1992  \\\n",
       "0  Land area below 5m (% of land area)     0        1  29.57481   NaN   NaN   \n",
       "1  Land area below 5m (% of land area)     0        1   0.00000   NaN   NaN   \n",
       "2  Land area below 5m (% of land area)     0        1   0.00000   NaN   NaN   \n",
       "\n",
       "   1993  1994  1995  1996  1997  1998  1999      2000  2001  2002  2003  2004  \\\n",
       "0   NaN   NaN   NaN   NaN   NaN   NaN   NaN  29.57481   NaN   NaN   NaN   NaN   \n",
       "1   NaN   NaN   NaN   NaN   NaN   NaN   NaN   0.00000   NaN   NaN   NaN   NaN   \n",
       "2   NaN   NaN   NaN   NaN   NaN   NaN   NaN   0.00000   NaN   NaN   NaN   NaN   \n",
       "\n",
       "   2005  2006  2007  2008  2009  2010 2011  \n",
       "0   NaN   NaN   NaN   NaN   NaN   NaN  NaN  \n",
       "1   NaN   NaN   NaN   NaN   NaN   NaN  NaN  \n",
       "2   NaN   NaN   NaN   NaN   NaN   NaN  NaN  "
      ]
     },
     "execution_count": 22,
     "metadata": {},
     "output_type": "execute_result"
    }
   ],
   "source": [
    "df.head(3)"
   ]
  },
  {
   "cell_type": "markdown",
   "id": "7a544d0d",
   "metadata": {},
   "source": [
    "### Melt arguments: You can access this with ?pd.melt\n",
    "\n",
    "```\n",
    "df.melt(\n",
    "    id_vars=None,\n",
    "    value_vars=None,\n",
    "    var_name=None,\n",
    "    value_name='value',\n",
    "    col_level: 'Level' = None,\n",
    "    ignore_index: 'bool' = True,\n",
    ") -\n",
    "```"
   ]
  },
  {
   "cell_type": "code",
   "execution_count": 23,
   "id": "2f8a8f07",
   "metadata": {
    "hide_input": true
   },
   "outputs": [
    {
     "data": {
      "text/html": [
       "<div>\n",
       "<style scoped>\n",
       "    .dataframe tbody tr th:only-of-type {\n",
       "        vertical-align: middle;\n",
       "    }\n",
       "\n",
       "    .dataframe tbody tr th {\n",
       "        vertical-align: top;\n",
       "    }\n",
       "\n",
       "    .dataframe thead th {\n",
       "        text-align: right;\n",
       "    }\n",
       "</style>\n",
       "<table border=\"1\" class=\"dataframe\">\n",
       "  <thead>\n",
       "    <tr style=\"text-align: right;\">\n",
       "      <th></th>\n",
       "      <th>country_code</th>\n",
       "      <th>country_name</th>\n",
       "      <th>series_code</th>\n",
       "      <th>series_name</th>\n",
       "      <th>scale</th>\n",
       "      <th>decimals</th>\n",
       "      <th>variable</th>\n",
       "      <th>value</th>\n",
       "    </tr>\n",
       "  </thead>\n",
       "  <tbody>\n",
       "    <tr>\n",
       "      <th>0</th>\n",
       "      <td>ABW</td>\n",
       "      <td>Aruba</td>\n",
       "      <td>AG.LND.EL5M.ZS</td>\n",
       "      <td>Land area below 5m (% of land area)</td>\n",
       "      <td>0</td>\n",
       "      <td>1</td>\n",
       "      <td>1990</td>\n",
       "      <td>29.57481</td>\n",
       "    </tr>\n",
       "    <tr>\n",
       "      <th>1</th>\n",
       "      <td>ADO</td>\n",
       "      <td>Andorra</td>\n",
       "      <td>AG.LND.EL5M.ZS</td>\n",
       "      <td>Land area below 5m (% of land area)</td>\n",
       "      <td>0</td>\n",
       "      <td>1</td>\n",
       "      <td>1990</td>\n",
       "      <td>0.0</td>\n",
       "    </tr>\n",
       "    <tr>\n",
       "      <th>2</th>\n",
       "      <td>AFG</td>\n",
       "      <td>Afghanistan</td>\n",
       "      <td>AG.LND.EL5M.ZS</td>\n",
       "      <td>Land area below 5m (% of land area)</td>\n",
       "      <td>0</td>\n",
       "      <td>1</td>\n",
       "      <td>1990</td>\n",
       "      <td>0.0</td>\n",
       "    </tr>\n",
       "    <tr>\n",
       "      <th>3</th>\n",
       "      <td>AGO</td>\n",
       "      <td>Angola</td>\n",
       "      <td>AG.LND.EL5M.ZS</td>\n",
       "      <td>Land area below 5m (% of land area)</td>\n",
       "      <td>0</td>\n",
       "      <td>1</td>\n",
       "      <td>1990</td>\n",
       "      <td>0.208235</td>\n",
       "    </tr>\n",
       "    <tr>\n",
       "      <th>4</th>\n",
       "      <td>ALB</td>\n",
       "      <td>Albania</td>\n",
       "      <td>AG.LND.EL5M.ZS</td>\n",
       "      <td>Land area below 5m (% of land area)</td>\n",
       "      <td>0</td>\n",
       "      <td>1</td>\n",
       "      <td>1990</td>\n",
       "      <td>4.967875</td>\n",
       "    </tr>\n",
       "  </tbody>\n",
       "</table>\n",
       "</div>"
      ],
      "text/plain": [
       "  country_code country_name     series_code  \\\n",
       "0          ABW        Aruba  AG.LND.EL5M.ZS   \n",
       "1          ADO      Andorra  AG.LND.EL5M.ZS   \n",
       "2          AFG  Afghanistan  AG.LND.EL5M.ZS   \n",
       "3          AGO       Angola  AG.LND.EL5M.ZS   \n",
       "4          ALB      Albania  AG.LND.EL5M.ZS   \n",
       "\n",
       "                           series_name scale decimals variable     value  \n",
       "0  Land area below 5m (% of land area)     0        1     1990  29.57481  \n",
       "1  Land area below 5m (% of land area)     0        1     1990       0.0  \n",
       "2  Land area below 5m (% of land area)     0        1     1990       0.0  \n",
       "3  Land area below 5m (% of land area)     0        1     1990  0.208235  \n",
       "4  Land area below 5m (% of land area)     0        1     1990  4.967875  "
      ]
     },
     "execution_count": 23,
     "metadata": {},
     "output_type": "execute_result"
    }
   ],
   "source": [
    "df_long = df.melt(\n",
    "    id_vars = [\"country_code\", \"country_name\", \"series_code\", \n",
    "               \"series_name\", \"scale\", \"decimals\"]\n",
    "    )\n",
    "df_long.head()"
   ]
  },
  {
   "cell_type": "code",
   "execution_count": 24,
   "id": "8802fd11",
   "metadata": {
    "hide_input": true
   },
   "outputs": [
    {
     "data": {
      "text/html": [
       "<div>\n",
       "<style scoped>\n",
       "    .dataframe tbody tr th:only-of-type {\n",
       "        vertical-align: middle;\n",
       "    }\n",
       "\n",
       "    .dataframe tbody tr th {\n",
       "        vertical-align: top;\n",
       "    }\n",
       "\n",
       "    .dataframe thead th {\n",
       "        text-align: right;\n",
       "    }\n",
       "</style>\n",
       "<table border=\"1\" class=\"dataframe\">\n",
       "  <thead>\n",
       "    <tr style=\"text-align: right;\">\n",
       "      <th></th>\n",
       "      <th>country_code</th>\n",
       "      <th>country_name</th>\n",
       "      <th>series_code</th>\n",
       "      <th>series_name</th>\n",
       "      <th>scale</th>\n",
       "      <th>decimals</th>\n",
       "      <th>variable</th>\n",
       "      <th>value</th>\n",
       "    </tr>\n",
       "  </thead>\n",
       "  <tbody>\n",
       "    <tr>\n",
       "      <th>0</th>\n",
       "      <td>ABW</td>\n",
       "      <td>Aruba</td>\n",
       "      <td>AG.LND.EL5M.ZS</td>\n",
       "      <td>Land area below 5m (% of land area)</td>\n",
       "      <td>0</td>\n",
       "      <td>1</td>\n",
       "      <td>1990</td>\n",
       "      <td>29.574810</td>\n",
       "    </tr>\n",
       "    <tr>\n",
       "      <th>1</th>\n",
       "      <td>ADO</td>\n",
       "      <td>Andorra</td>\n",
       "      <td>AG.LND.EL5M.ZS</td>\n",
       "      <td>Land area below 5m (% of land area)</td>\n",
       "      <td>0</td>\n",
       "      <td>1</td>\n",
       "      <td>1990</td>\n",
       "      <td>0.000000</td>\n",
       "    </tr>\n",
       "    <tr>\n",
       "      <th>2</th>\n",
       "      <td>AFG</td>\n",
       "      <td>Afghanistan</td>\n",
       "      <td>AG.LND.EL5M.ZS</td>\n",
       "      <td>Land area below 5m (% of land area)</td>\n",
       "      <td>0</td>\n",
       "      <td>1</td>\n",
       "      <td>1990</td>\n",
       "      <td>0.000000</td>\n",
       "    </tr>\n",
       "    <tr>\n",
       "      <th>3</th>\n",
       "      <td>AGO</td>\n",
       "      <td>Angola</td>\n",
       "      <td>AG.LND.EL5M.ZS</td>\n",
       "      <td>Land area below 5m (% of land area)</td>\n",
       "      <td>0</td>\n",
       "      <td>1</td>\n",
       "      <td>1990</td>\n",
       "      <td>0.208235</td>\n",
       "    </tr>\n",
       "    <tr>\n",
       "      <th>4</th>\n",
       "      <td>ALB</td>\n",
       "      <td>Albania</td>\n",
       "      <td>AG.LND.EL5M.ZS</td>\n",
       "      <td>Land area below 5m (% of land area)</td>\n",
       "      <td>0</td>\n",
       "      <td>1</td>\n",
       "      <td>1990</td>\n",
       "      <td>4.967875</td>\n",
       "    </tr>\n",
       "  </tbody>\n",
       "</table>\n",
       "</div>"
      ],
      "text/plain": [
       "  country_code country_name     series_code  \\\n",
       "0          ABW        Aruba  AG.LND.EL5M.ZS   \n",
       "1          ADO      Andorra  AG.LND.EL5M.ZS   \n",
       "2          AFG  Afghanistan  AG.LND.EL5M.ZS   \n",
       "3          AGO       Angola  AG.LND.EL5M.ZS   \n",
       "4          ALB      Albania  AG.LND.EL5M.ZS   \n",
       "\n",
       "                           series_name scale decimals variable      value  \n",
       "0  Land area below 5m (% of land area)     0        1     1990  29.574810  \n",
       "1  Land area below 5m (% of land area)     0        1     1990   0.000000  \n",
       "2  Land area below 5m (% of land area)     0        1     1990   0.000000  \n",
       "3  Land area below 5m (% of land area)     0        1     1990   0.208235  \n",
       "4  Land area below 5m (% of land area)     0        1     1990   4.967875  "
      ]
     },
     "execution_count": 24,
     "metadata": {},
     "output_type": "execute_result"
    }
   ],
   "source": [
    "# you can pass a value vars list - same result but safer if you have more columns\n",
    "df_long = df.melt(\n",
    "    id_vars = [\"country_code\", \"country_name\", \"series_code\", \n",
    "               \"series_name\", \"scale\", \"decimals\"], \n",
    "    value_vars = [str(x) for x in list(np.arange(1990, 2011, 1))]\n",
    "    )\n",
    "df_long.head()"
   ]
  },
  {
   "cell_type": "code",
   "execution_count": 25,
   "id": "ab2fd633",
   "metadata": {
    "hide_input": true
   },
   "outputs": [
    {
     "data": {
      "text/html": [
       "<div>\n",
       "<style scoped>\n",
       "    .dataframe tbody tr th:only-of-type {\n",
       "        vertical-align: middle;\n",
       "    }\n",
       "\n",
       "    .dataframe tbody tr th {\n",
       "        vertical-align: top;\n",
       "    }\n",
       "\n",
       "    .dataframe thead th {\n",
       "        text-align: right;\n",
       "    }\n",
       "</style>\n",
       "<table border=\"1\" class=\"dataframe\">\n",
       "  <thead>\n",
       "    <tr style=\"text-align: right;\">\n",
       "      <th></th>\n",
       "      <th>country_code</th>\n",
       "      <th>country_name</th>\n",
       "      <th>series_code</th>\n",
       "      <th>series_name</th>\n",
       "      <th>scale</th>\n",
       "      <th>decimals</th>\n",
       "      <th>year</th>\n",
       "      <th>value</th>\n",
       "    </tr>\n",
       "  </thead>\n",
       "  <tbody>\n",
       "    <tr>\n",
       "      <th>0</th>\n",
       "      <td>ABW</td>\n",
       "      <td>Aruba</td>\n",
       "      <td>AG.LND.EL5M.ZS</td>\n",
       "      <td>Land area below 5m (% of land area)</td>\n",
       "      <td>0</td>\n",
       "      <td>1</td>\n",
       "      <td>1990</td>\n",
       "      <td>29.574810</td>\n",
       "    </tr>\n",
       "    <tr>\n",
       "      <th>1</th>\n",
       "      <td>ADO</td>\n",
       "      <td>Andorra</td>\n",
       "      <td>AG.LND.EL5M.ZS</td>\n",
       "      <td>Land area below 5m (% of land area)</td>\n",
       "      <td>0</td>\n",
       "      <td>1</td>\n",
       "      <td>1990</td>\n",
       "      <td>0.000000</td>\n",
       "    </tr>\n",
       "    <tr>\n",
       "      <th>2</th>\n",
       "      <td>AFG</td>\n",
       "      <td>Afghanistan</td>\n",
       "      <td>AG.LND.EL5M.ZS</td>\n",
       "      <td>Land area below 5m (% of land area)</td>\n",
       "      <td>0</td>\n",
       "      <td>1</td>\n",
       "      <td>1990</td>\n",
       "      <td>0.000000</td>\n",
       "    </tr>\n",
       "    <tr>\n",
       "      <th>3</th>\n",
       "      <td>AGO</td>\n",
       "      <td>Angola</td>\n",
       "      <td>AG.LND.EL5M.ZS</td>\n",
       "      <td>Land area below 5m (% of land area)</td>\n",
       "      <td>0</td>\n",
       "      <td>1</td>\n",
       "      <td>1990</td>\n",
       "      <td>0.208235</td>\n",
       "    </tr>\n",
       "    <tr>\n",
       "      <th>4</th>\n",
       "      <td>ALB</td>\n",
       "      <td>Albania</td>\n",
       "      <td>AG.LND.EL5M.ZS</td>\n",
       "      <td>Land area below 5m (% of land area)</td>\n",
       "      <td>0</td>\n",
       "      <td>1</td>\n",
       "      <td>1990</td>\n",
       "      <td>4.967875</td>\n",
       "    </tr>\n",
       "  </tbody>\n",
       "</table>\n",
       "</div>"
      ],
      "text/plain": [
       "  country_code country_name     series_code  \\\n",
       "0          ABW        Aruba  AG.LND.EL5M.ZS   \n",
       "1          ADO      Andorra  AG.LND.EL5M.ZS   \n",
       "2          AFG  Afghanistan  AG.LND.EL5M.ZS   \n",
       "3          AGO       Angola  AG.LND.EL5M.ZS   \n",
       "4          ALB      Albania  AG.LND.EL5M.ZS   \n",
       "\n",
       "                           series_name scale decimals  year      value  \n",
       "0  Land area below 5m (% of land area)     0        1  1990  29.574810  \n",
       "1  Land area below 5m (% of land area)     0        1  1990   0.000000  \n",
       "2  Land area below 5m (% of land area)     0        1  1990   0.000000  \n",
       "3  Land area below 5m (% of land area)     0        1  1990   0.208235  \n",
       "4  Land area below 5m (% of land area)     0        1  1990   4.967875  "
      ]
     },
     "execution_count": 25,
     "metadata": {},
     "output_type": "execute_result"
    }
   ],
   "source": [
    "# Using all the arguments\n",
    "df_long = df.melt(\n",
    "    id_vars = [\"country_code\", \"country_name\", \"series_code\", \n",
    "               \"series_name\", \"scale\", \"decimals\"], \n",
    "    value_vars = [str(x) for x in list(np.arange(1990, 2011, 1))], \n",
    "    var_name='year',\n",
    "    value_name='value')\n",
    "\n",
    "df_long.head()"
   ]
  },
  {
   "cell_type": "markdown",
   "id": "caa815b2",
   "metadata": {},
   "source": [
    "# 6. Avoid bugs: Restart and Run the notebook often\n",
    "\n",
    "- This is generally a good practice not much people do! \n",
    "- The biggest drawback of notebooks is you can go up and run a cell, then down. It's a mess. \n",
    "- Restarting and running all the cell helps make sure you are "
   ]
  },
  {
   "cell_type": "markdown",
   "id": "fc8efdd7",
   "metadata": {},
   "source": [
    "# 7. Avoid looping over a dataframe"
   ]
  },
  {
   "cell_type": "code",
   "execution_count": 26,
   "id": "c682184e",
   "metadata": {
    "hide_input": true
   },
   "outputs": [
    {
     "data": {
      "text/html": [
       "<div>\n",
       "<style scoped>\n",
       "    .dataframe tbody tr th:only-of-type {\n",
       "        vertical-align: middle;\n",
       "    }\n",
       "\n",
       "    .dataframe tbody tr th {\n",
       "        vertical-align: top;\n",
       "    }\n",
       "\n",
       "    .dataframe thead th {\n",
       "        text-align: right;\n",
       "    }\n",
       "</style>\n",
       "<table border=\"1\" class=\"dataframe\">\n",
       "  <thead>\n",
       "    <tr style=\"text-align: right;\">\n",
       "      <th></th>\n",
       "      <th>carat</th>\n",
       "      <th>cut</th>\n",
       "      <th>color</th>\n",
       "      <th>clarity</th>\n",
       "      <th>depth</th>\n",
       "      <th>table</th>\n",
       "      <th>price</th>\n",
       "      <th>x</th>\n",
       "      <th>y</th>\n",
       "      <th>z</th>\n",
       "    </tr>\n",
       "  </thead>\n",
       "  <tbody>\n",
       "    <tr>\n",
       "      <th>0</th>\n",
       "      <td>0.23</td>\n",
       "      <td>Ideal</td>\n",
       "      <td>E</td>\n",
       "      <td>SI2</td>\n",
       "      <td>61.5</td>\n",
       "      <td>55.0</td>\n",
       "      <td>326</td>\n",
       "      <td>3.95</td>\n",
       "      <td>3.98</td>\n",
       "      <td>2.43</td>\n",
       "    </tr>\n",
       "    <tr>\n",
       "      <th>1</th>\n",
       "      <td>0.21</td>\n",
       "      <td>Premium</td>\n",
       "      <td>E</td>\n",
       "      <td>SI1</td>\n",
       "      <td>59.8</td>\n",
       "      <td>61.0</td>\n",
       "      <td>326</td>\n",
       "      <td>3.89</td>\n",
       "      <td>3.84</td>\n",
       "      <td>2.31</td>\n",
       "    </tr>\n",
       "    <tr>\n",
       "      <th>2</th>\n",
       "      <td>0.23</td>\n",
       "      <td>Good</td>\n",
       "      <td>E</td>\n",
       "      <td>VS1</td>\n",
       "      <td>56.9</td>\n",
       "      <td>65.0</td>\n",
       "      <td>327</td>\n",
       "      <td>4.05</td>\n",
       "      <td>4.07</td>\n",
       "      <td>2.31</td>\n",
       "    </tr>\n",
       "    <tr>\n",
       "      <th>3</th>\n",
       "      <td>0.29</td>\n",
       "      <td>Premium</td>\n",
       "      <td>I</td>\n",
       "      <td>VS2</td>\n",
       "      <td>62.4</td>\n",
       "      <td>58.0</td>\n",
       "      <td>334</td>\n",
       "      <td>4.20</td>\n",
       "      <td>4.23</td>\n",
       "      <td>2.63</td>\n",
       "    </tr>\n",
       "    <tr>\n",
       "      <th>4</th>\n",
       "      <td>0.31</td>\n",
       "      <td>Good</td>\n",
       "      <td>J</td>\n",
       "      <td>SI2</td>\n",
       "      <td>63.3</td>\n",
       "      <td>58.0</td>\n",
       "      <td>335</td>\n",
       "      <td>4.34</td>\n",
       "      <td>4.35</td>\n",
       "      <td>2.75</td>\n",
       "    </tr>\n",
       "  </tbody>\n",
       "</table>\n",
       "</div>"
      ],
      "text/plain": [
       "   carat      cut color clarity  depth  table  price     x     y     z\n",
       "0   0.23    Ideal     E     SI2   61.5   55.0    326  3.95  3.98  2.43\n",
       "1   0.21  Premium     E     SI1   59.8   61.0    326  3.89  3.84  2.31\n",
       "2   0.23     Good     E     VS1   56.9   65.0    327  4.05  4.07  2.31\n",
       "3   0.29  Premium     I     VS2   62.4   58.0    334  4.20  4.23  2.63\n",
       "4   0.31     Good     J     SI2   63.3   58.0    335  4.34  4.35  2.75"
      ]
     },
     "execution_count": 26,
     "metadata": {},
     "output_type": "execute_result"
    }
   ],
   "source": [
    "diamonds.head()"
   ]
  },
  {
   "cell_type": "code",
   "execution_count": 27,
   "id": "db92521a",
   "metadata": {
    "hide_input": true
   },
   "outputs": [
    {
     "data": {
      "text/plain": [
       "(53940, 10)"
      ]
     },
     "execution_count": 27,
     "metadata": {},
     "output_type": "execute_result"
    }
   ],
   "source": [
    "diamonds.shape"
   ]
  },
  {
   "cell_type": "code",
   "execution_count": 28,
   "id": "db7ad489",
   "metadata": {
    "hide_input": true
   },
   "outputs": [
    {
     "name": "stdout",
     "output_type": "stream",
     "text": [
      "49.3 ms ± 3.84 ms per loop (mean ± std. dev. of 7 runs, 10 loops each)\n"
     ]
    }
   ],
   "source": [
    "%%timeit\n",
    "dims = []\n",
    "for row in diamonds.itertuples():\n",
    "    dims.append( row.x * row.y * row.z )"
   ]
  },
  {
   "cell_type": "code",
   "execution_count": 29,
   "id": "152cfcc9",
   "metadata": {
    "hide_input": true
   },
   "outputs": [
    {
     "name": "stdout",
     "output_type": "stream",
     "text": [
      "823 ms ± 31.6 ms per loop (mean ± std. dev. of 7 runs, 1 loop each)\n"
     ]
    }
   ],
   "source": [
    "%%timeit\n",
    "diamonds.apply(lambda x: x.x * x.y * x.z, axis=1)"
   ]
  },
  {
   "cell_type": "code",
   "execution_count": 32,
   "id": "6ed65cf3",
   "metadata": {
    "hide_input": true
   },
   "outputs": [
    {
     "name": "stdout",
     "output_type": "stream",
     "text": [
      "397 µs ± 11 µs per loop (mean ± std. dev. of 7 runs, 1,000 loops each)\n"
     ]
    }
   ],
   "source": [
    "%%timeit\n",
    "diamonds['dims'] = diamonds['x'] * diamonds['y'] * diamonds['z']"
   ]
  },
  {
   "cell_type": "code",
   "execution_count": 31,
   "id": "38e24767",
   "metadata": {
    "hide_input": true
   },
   "outputs": [
    {
     "name": "stdout",
     "output_type": "stream",
     "text": [
      "2 ms ± 94.6 µs per loop (mean ± std. dev. of 7 runs, 100 loops each)\n"
     ]
    }
   ],
   "source": [
    "%%timeit\n",
    "diamonds.assign(\n",
    "    dims=lambda df_: df_.x * df_.y * df_.z\n",
    ")"
   ]
  },
  {
   "cell_type": "markdown",
   "id": "1d2180ba",
   "metadata": {},
   "source": [
    "# 8. Use np.where to flag outliers"
   ]
  },
  {
   "cell_type": "code",
   "execution_count": 33,
   "id": "bb69000b",
   "metadata": {
    "hide_input": true
   },
   "outputs": [
    {
     "data": {
      "text/plain": [
       "<AxesSubplot:>"
      ]
     },
     "execution_count": 33,
     "metadata": {},
     "output_type": "execute_result"
    },
    {
     "data": {
      "image/png": "[encoded data removed]",
      "text/plain": [
       "<Figure size 640x480 with 1 Axes>"
      ]
     },
     "metadata": {},
     "output_type": "display_data"
    }
   ],
   "source": [
    "dist = taxis.distance.copy()\n",
    "dist.hist(bins=30)"
   ]
  },
  {
   "cell_type": "code",
   "execution_count": 34,
   "id": "937d54bc",
   "metadata": {
    "hide_input": true
   },
   "outputs": [
    {
     "data": {
      "text/plain": [
       "(1.64, 2.056104461371055)"
      ]
     },
     "execution_count": 34,
     "metadata": {},
     "output_type": "execute_result"
    }
   ],
   "source": [
    "# median\n",
    "dist_median = dist.median()\n",
    "\n",
    "# Median Absolute Deviation\n",
    "dist_mad = (dist - dist.median()).abs().mean()\n",
    "\n",
    "dist_median, dist_mad"
   ]
  },
  {
   "cell_type": "code",
   "execution_count": 35,
   "id": "c57ad975",
   "metadata": {
    "hide_input": true
   },
   "outputs": [
    {
     "data": {
      "text/plain": [
       "7.808313384113165"
      ]
     },
     "execution_count": 35,
     "metadata": {},
     "output_type": "execute_result"
    }
   ],
   "source": [
    "# If a distance is larger than: \n",
    "# Median + 3 * MAD then it's an outlier\n",
    "sup_limit = dist_median + 3 * dist_mad\n",
    "sup_limit"
   ]
  },
  {
   "cell_type": "code",
   "execution_count": 36,
   "id": "8e64289e",
   "metadata": {
    "hide_input": true
   },
   "outputs": [],
   "source": [
    "taxis['fl_outlier'] = np.where(taxis.distance >= sup_limit, \"outlier\", \"ok\")"
   ]
  },
  {
   "cell_type": "code",
   "execution_count": 37,
   "id": "033f27ef",
   "metadata": {
    "hide_input": true
   },
   "outputs": [
    {
     "data": {
      "text/plain": [
       "ok         5841\n",
       "outlier     592\n",
       "Name: fl_outlier, dtype: int64"
      ]
     },
     "execution_count": 37,
     "metadata": {},
     "output_type": "execute_result"
    }
   ],
   "source": [
    "taxis['fl_outlier'].value_counts()"
   ]
  },
  {
   "cell_type": "markdown",
   "id": "f80c90c8",
   "metadata": {},
   "source": [
    "# 9. Use pd.cut to discretize variables\n",
    "\n",
    "`pd.cut`: Bin values into discrete intervals.\n",
    "\n",
    "- Use cut when you need to segment and sort data values into bins. \n",
    "- This function is also useful for going from a continuous variable to a categorical variable. "
   ]
  },
  {
   "cell_type": "code",
   "execution_count": 38,
   "id": "6eb56c96",
   "metadata": {
    "hide_input": true
   },
   "outputs": [
    {
     "data": {
      "text/html": [
       "<div>\n",
       "<style scoped>\n",
       "    .dataframe tbody tr th:only-of-type {\n",
       "        vertical-align: middle;\n",
       "    }\n",
       "\n",
       "    .dataframe tbody tr th {\n",
       "        vertical-align: top;\n",
       "    }\n",
       "\n",
       "    .dataframe thead th {\n",
       "        text-align: right;\n",
       "    }\n",
       "</style>\n",
       "<table border=\"1\" class=\"dataframe\">\n",
       "  <thead>\n",
       "    <tr style=\"text-align: right;\">\n",
       "      <th></th>\n",
       "      <th>pickup</th>\n",
       "      <th>dropoff</th>\n",
       "      <th>passengers</th>\n",
       "      <th>distance</th>\n",
       "      <th>fare</th>\n",
       "      <th>tip</th>\n",
       "      <th>tolls</th>\n",
       "      <th>total</th>\n",
       "      <th>color</th>\n",
       "      <th>payment</th>\n",
       "      <th>pickup_zone</th>\n",
       "      <th>dropoff_zone</th>\n",
       "      <th>pickup_borough</th>\n",
       "      <th>dropoff_borough</th>\n",
       "      <th>fl_outlier</th>\n",
       "    </tr>\n",
       "  </thead>\n",
       "  <tbody>\n",
       "    <tr>\n",
       "      <th>0</th>\n",
       "      <td>2019-03-23 20:21:09</td>\n",
       "      <td>2019-03-23 20:27:24</td>\n",
       "      <td>1</td>\n",
       "      <td>1.60</td>\n",
       "      <td>7.0</td>\n",
       "      <td>2.15</td>\n",
       "      <td>0.0</td>\n",
       "      <td>12.95</td>\n",
       "      <td>yellow</td>\n",
       "      <td>credit card</td>\n",
       "      <td>Lenox Hill West</td>\n",
       "      <td>UN/Turtle Bay South</td>\n",
       "      <td>Manhattan</td>\n",
       "      <td>Manhattan</td>\n",
       "      <td>ok</td>\n",
       "    </tr>\n",
       "    <tr>\n",
       "      <th>1</th>\n",
       "      <td>2019-03-04 16:11:55</td>\n",
       "      <td>2019-03-04 16:19:00</td>\n",
       "      <td>1</td>\n",
       "      <td>0.79</td>\n",
       "      <td>5.0</td>\n",
       "      <td>0.00</td>\n",
       "      <td>0.0</td>\n",
       "      <td>9.30</td>\n",
       "      <td>yellow</td>\n",
       "      <td>cash</td>\n",
       "      <td>Upper West Side South</td>\n",
       "      <td>Upper West Side South</td>\n",
       "      <td>Manhattan</td>\n",
       "      <td>Manhattan</td>\n",
       "      <td>ok</td>\n",
       "    </tr>\n",
       "    <tr>\n",
       "      <th>2</th>\n",
       "      <td>2019-03-27 17:53:01</td>\n",
       "      <td>2019-03-27 18:00:25</td>\n",
       "      <td>1</td>\n",
       "      <td>1.37</td>\n",
       "      <td>7.5</td>\n",
       "      <td>2.36</td>\n",
       "      <td>0.0</td>\n",
       "      <td>14.16</td>\n",
       "      <td>yellow</td>\n",
       "      <td>credit card</td>\n",
       "      <td>Alphabet City</td>\n",
       "      <td>West Village</td>\n",
       "      <td>Manhattan</td>\n",
       "      <td>Manhattan</td>\n",
       "      <td>ok</td>\n",
       "    </tr>\n",
       "  </tbody>\n",
       "</table>\n",
       "</div>"
      ],
      "text/plain": [
       "               pickup             dropoff  passengers  distance  fare   tip  \\\n",
       "0 2019-03-23 20:21:09 2019-03-23 20:27:24           1      1.60   7.0  2.15   \n",
       "1 2019-03-04 16:11:55 2019-03-04 16:19:00           1      0.79   5.0  0.00   \n",
       "2 2019-03-27 17:53:01 2019-03-27 18:00:25           1      1.37   7.5  2.36   \n",
       "\n",
       "   tolls  total   color      payment            pickup_zone  \\\n",
       "0    0.0  12.95  yellow  credit card        Lenox Hill West   \n",
       "1    0.0   9.30  yellow         cash  Upper West Side South   \n",
       "2    0.0  14.16  yellow  credit card          Alphabet City   \n",
       "\n",
       "            dropoff_zone pickup_borough dropoff_borough fl_outlier  \n",
       "0    UN/Turtle Bay South      Manhattan       Manhattan         ok  \n",
       "1  Upper West Side South      Manhattan       Manhattan         ok  \n",
       "2           West Village      Manhattan       Manhattan         ok  "
      ]
     },
     "execution_count": 38,
     "metadata": {},
     "output_type": "execute_result"
    }
   ],
   "source": [
    "taxis.head(3)"
   ]
  },
  {
   "cell_type": "code",
   "execution_count": 39,
   "id": "19e985fe",
   "metadata": {
    "hide_input": true
   },
   "outputs": [
    {
     "data": {
      "text/plain": [
       "<AxesSubplot:>"
      ]
     },
     "execution_count": 39,
     "metadata": {},
     "output_type": "execute_result"
    },
    {
     "data": {
      "image/png": "[encoded data removed]",
      "text/plain": [
       "<Figure size 640x480 with 1 Axes>"
      ]
     },
     "metadata": {},
     "output_type": "display_data"
    }
   ],
   "source": [
    "taxis.fare.hist(bins=30)"
   ]
  },
  {
   "cell_type": "code",
   "execution_count": 40,
   "id": "487dcb1b",
   "metadata": {
    "hide_input": true
   },
   "outputs": [
    {
     "data": {
      "text/plain": [
       "0.0      1.0\n",
       "0.1      5.0\n",
       "0.2      6.0\n",
       "0.3      7.0\n",
       "0.4      8.0\n",
       "0.5      9.5\n",
       "0.6     11.0\n",
       "0.7     13.5\n",
       "0.8     17.0\n",
       "0.9     26.0\n",
       "1.0    150.0\n",
       "Name: fare, dtype: float64"
      ]
     },
     "execution_count": 40,
     "metadata": {},
     "output_type": "execute_result"
    }
   ],
   "source": [
    "taxis.fare.quantile(np.arange(0, 1.1, 0.1))"
   ]
  },
  {
   "cell_type": "markdown",
   "id": "d3a900cc",
   "metadata": {},
   "source": [
    "```\n",
    "pd.cut(\n",
    "    x,\n",
    "    bins,\n",
    "    right: 'bool' = True,\n",
    "    labels=None,\n",
    "    retbins: 'bool' = False,\n",
    "    precision: 'int' = 3,\n",
    "    include_lowest: 'bool' = False,\n",
    "    duplicates: 'str' = 'raise',\n",
    "    ordered: 'bool' = True,\n",
    ")\n",
    "```"
   ]
  },
  {
   "cell_type": "code",
   "execution_count": 47,
   "id": "dbdd9961",
   "metadata": {
    "hide_input": true
   },
   "outputs": [],
   "source": [
    "# conver a numeric variable in \"user defined\" ranges\n",
    "taxis[\"fare_levels\"] = pd.cut(taxis.fare,                # pass a series\n",
    "                              [0, 10, 30, np.inf],       # define the values to \"break\" the data into groups\n",
    "                              #labels = ['low', \"medium\", \"high\"],\n",
    "                              right=False                # not the default but it's better IMO\n",
    "                             )"
   ]
  },
  {
   "cell_type": "code",
   "execution_count": 48,
   "id": "3b72bb05",
   "metadata": {
    "hide_input": true
   },
   "outputs": [
    {
     "data": {
      "text/plain": [
       "[0.0, 10.0)     3420\n",
       "[10.0, 30.0)    2501\n",
       "[30.0, inf)      512\n",
       "Name: fare_levels, dtype: int64"
      ]
     },
     "execution_count": 48,
     "metadata": {},
     "output_type": "execute_result"
    }
   ],
   "source": [
    "taxis[\"fare_levels\"].value_counts()"
   ]
  },
  {
   "cell_type": "markdown",
   "id": "3e7f4c0c",
   "metadata": {},
   "source": [
    "# 10. Use pd.qcut to discretize variables using quantiles\n",
    "\n",
    "`pd.qcut`: Discretize variable into equal-sized buckets based on rank or based on sample quantiles. "
   ]
  },
  {
   "cell_type": "code",
   "execution_count": 49,
   "id": "d9b7c5fd",
   "metadata": {
    "hide_input": true
   },
   "outputs": [],
   "source": [
    "ranked_fares = taxis.fare.rank(method='first')\n",
    "ranked_tips = taxis.tip.rank(method='first')"
   ]
  },
  {
   "cell_type": "code",
   "execution_count": 50,
   "id": "cbc246ce",
   "metadata": {
    "hide_input": true
   },
   "outputs": [],
   "source": [
    "taxis[\"fare_deciles\"] = pd.qcut(ranked_fares, q=10, labels=False, duplicates=\"drop\")\n",
    "taxis[\"tip_deciles\"] = pd.qcut(ranked_tips, q=10, labels=False, duplicates=\"drop\")"
   ]
  },
  {
   "cell_type": "code",
   "execution_count": 51,
   "id": "397bb567",
   "metadata": {
    "hide_input": true
   },
   "outputs": [
    {
     "data": {
      "text/html": [
       "<div>\n",
       "<style scoped>\n",
       "    .dataframe tbody tr th:only-of-type {\n",
       "        vertical-align: middle;\n",
       "    }\n",
       "\n",
       "    .dataframe tbody tr th {\n",
       "        vertical-align: top;\n",
       "    }\n",
       "\n",
       "    .dataframe thead th {\n",
       "        text-align: right;\n",
       "    }\n",
       "</style>\n",
       "<table border=\"1\" class=\"dataframe\">\n",
       "  <thead>\n",
       "    <tr style=\"text-align: right;\">\n",
       "      <th></th>\n",
       "      <th>pickup</th>\n",
       "      <th>dropoff</th>\n",
       "      <th>passengers</th>\n",
       "      <th>distance</th>\n",
       "      <th>fare</th>\n",
       "      <th>tip</th>\n",
       "      <th>tolls</th>\n",
       "      <th>total</th>\n",
       "      <th>color</th>\n",
       "      <th>payment</th>\n",
       "      <th>pickup_zone</th>\n",
       "      <th>dropoff_zone</th>\n",
       "      <th>pickup_borough</th>\n",
       "      <th>dropoff_borough</th>\n",
       "      <th>fl_outlier</th>\n",
       "      <th>fare_levels</th>\n",
       "      <th>fare_deciles</th>\n",
       "      <th>tip_deciles</th>\n",
       "    </tr>\n",
       "  </thead>\n",
       "  <tbody>\n",
       "    <tr>\n",
       "      <th>0</th>\n",
       "      <td>2019-03-23 20:21:09</td>\n",
       "      <td>2019-03-23 20:27:24</td>\n",
       "      <td>1</td>\n",
       "      <td>1.60</td>\n",
       "      <td>7.0</td>\n",
       "      <td>2.15</td>\n",
       "      <td>0.0</td>\n",
       "      <td>12.95</td>\n",
       "      <td>yellow</td>\n",
       "      <td>credit card</td>\n",
       "      <td>Lenox Hill West</td>\n",
       "      <td>UN/Turtle Bay South</td>\n",
       "      <td>Manhattan</td>\n",
       "      <td>Manhattan</td>\n",
       "      <td>ok</td>\n",
       "      <td>[0.0, 10.0)</td>\n",
       "      <td>2</td>\n",
       "      <td>6</td>\n",
       "    </tr>\n",
       "    <tr>\n",
       "      <th>1</th>\n",
       "      <td>2019-03-04 16:11:55</td>\n",
       "      <td>2019-03-04 16:19:00</td>\n",
       "      <td>1</td>\n",
       "      <td>0.79</td>\n",
       "      <td>5.0</td>\n",
       "      <td>0.00</td>\n",
       "      <td>0.0</td>\n",
       "      <td>9.30</td>\n",
       "      <td>yellow</td>\n",
       "      <td>cash</td>\n",
       "      <td>Upper West Side South</td>\n",
       "      <td>Upper West Side South</td>\n",
       "      <td>Manhattan</td>\n",
       "      <td>Manhattan</td>\n",
       "      <td>ok</td>\n",
       "      <td>[0.0, 10.0)</td>\n",
       "      <td>0</td>\n",
       "      <td>0</td>\n",
       "    </tr>\n",
       "    <tr>\n",
       "      <th>2</th>\n",
       "      <td>2019-03-27 17:53:01</td>\n",
       "      <td>2019-03-27 18:00:25</td>\n",
       "      <td>1</td>\n",
       "      <td>1.37</td>\n",
       "      <td>7.5</td>\n",
       "      <td>2.36</td>\n",
       "      <td>0.0</td>\n",
       "      <td>14.16</td>\n",
       "      <td>yellow</td>\n",
       "      <td>credit card</td>\n",
       "      <td>Alphabet City</td>\n",
       "      <td>West Village</td>\n",
       "      <td>Manhattan</td>\n",
       "      <td>Manhattan</td>\n",
       "      <td>ok</td>\n",
       "      <td>[0.0, 10.0)</td>\n",
       "      <td>3</td>\n",
       "      <td>6</td>\n",
       "    </tr>\n",
       "    <tr>\n",
       "      <th>3</th>\n",
       "      <td>2019-03-10 01:23:59</td>\n",
       "      <td>2019-03-10 01:49:51</td>\n",
       "      <td>1</td>\n",
       "      <td>7.70</td>\n",
       "      <td>27.0</td>\n",
       "      <td>6.15</td>\n",
       "      <td>0.0</td>\n",
       "      <td>36.95</td>\n",
       "      <td>yellow</td>\n",
       "      <td>credit card</td>\n",
       "      <td>Hudson Sq</td>\n",
       "      <td>Yorkville West</td>\n",
       "      <td>Manhattan</td>\n",
       "      <td>Manhattan</td>\n",
       "      <td>ok</td>\n",
       "      <td>[10.0, 30.0)</td>\n",
       "      <td>9</td>\n",
       "      <td>9</td>\n",
       "    </tr>\n",
       "    <tr>\n",
       "      <th>4</th>\n",
       "      <td>2019-03-30 13:27:42</td>\n",
       "      <td>2019-03-30 13:37:14</td>\n",
       "      <td>3</td>\n",
       "      <td>2.16</td>\n",
       "      <td>9.0</td>\n",
       "      <td>1.10</td>\n",
       "      <td>0.0</td>\n",
       "      <td>13.40</td>\n",
       "      <td>yellow</td>\n",
       "      <td>credit card</td>\n",
       "      <td>Midtown East</td>\n",
       "      <td>Yorkville West</td>\n",
       "      <td>Manhattan</td>\n",
       "      <td>Manhattan</td>\n",
       "      <td>ok</td>\n",
       "      <td>[0.0, 10.0)</td>\n",
       "      <td>4</td>\n",
       "      <td>4</td>\n",
       "    </tr>\n",
       "  </tbody>\n",
       "</table>\n",
       "</div>"
      ],
      "text/plain": [
       "               pickup             dropoff  passengers  distance  fare   tip  \\\n",
       "0 2019-03-23 20:21:09 2019-03-23 20:27:24           1      1.60   7.0  2.15   \n",
       "1 2019-03-04 16:11:55 2019-03-04 16:19:00           1      0.79   5.0  0.00   \n",
       "2 2019-03-27 17:53:01 2019-03-27 18:00:25           1      1.37   7.5  2.36   \n",
       "3 2019-03-10 01:23:59 2019-03-10 01:49:51           1      7.70  27.0  6.15   \n",
       "4 2019-03-30 13:27:42 2019-03-30 13:37:14           3      2.16   9.0  1.10   \n",
       "\n",
       "   tolls  total   color      payment            pickup_zone  \\\n",
       "0    0.0  12.95  yellow  credit card        Lenox Hill West   \n",
       "1    0.0   9.30  yellow         cash  Upper West Side South   \n",
       "2    0.0  14.16  yellow  credit card          Alphabet City   \n",
       "3    0.0  36.95  yellow  credit card              Hudson Sq   \n",
       "4    0.0  13.40  yellow  credit card           Midtown East   \n",
       "\n",
       "            dropoff_zone pickup_borough dropoff_borough fl_outlier  \\\n",
       "0    UN/Turtle Bay South      Manhattan       Manhattan         ok   \n",
       "1  Upper West Side South      Manhattan       Manhattan         ok   \n",
       "2           West Village      Manhattan       Manhattan         ok   \n",
       "3         Yorkville West      Manhattan       Manhattan         ok   \n",
       "4         Yorkville West      Manhattan       Manhattan         ok   \n",
       "\n",
       "    fare_levels  fare_deciles  tip_deciles  \n",
       "0   [0.0, 10.0)             2            6  \n",
       "1   [0.0, 10.0)             0            0  \n",
       "2   [0.0, 10.0)             3            6  \n",
       "3  [10.0, 30.0)             9            9  \n",
       "4   [0.0, 10.0)             4            4  "
      ]
     },
     "execution_count": 51,
     "metadata": {},
     "output_type": "execute_result"
    }
   ],
   "source": [
    "taxis.head()"
   ]
  },
  {
   "cell_type": "code",
   "execution_count": 53,
   "id": "e53419d2",
   "metadata": {
    "hide_input": true
   },
   "outputs": [
    {
     "data": {
      "text/html": [
       "<div>\n",
       "<style scoped>\n",
       "    .dataframe tbody tr th:only-of-type {\n",
       "        vertical-align: middle;\n",
       "    }\n",
       "\n",
       "    .dataframe tbody tr th {\n",
       "        vertical-align: top;\n",
       "    }\n",
       "\n",
       "    .dataframe thead th {\n",
       "        text-align: right;\n",
       "    }\n",
       "</style>\n",
       "<table border=\"1\" class=\"dataframe\">\n",
       "  <thead>\n",
       "    <tr style=\"text-align: right;\">\n",
       "      <th>tip_deciles</th>\n",
       "      <th>0</th>\n",
       "      <th>1</th>\n",
       "      <th>2</th>\n",
       "      <th>3</th>\n",
       "      <th>4</th>\n",
       "      <th>5</th>\n",
       "      <th>6</th>\n",
       "      <th>7</th>\n",
       "      <th>8</th>\n",
       "      <th>9</th>\n",
       "    </tr>\n",
       "    <tr>\n",
       "      <th>fare_deciles</th>\n",
       "      <th></th>\n",
       "      <th></th>\n",
       "      <th></th>\n",
       "      <th></th>\n",
       "      <th></th>\n",
       "      <th></th>\n",
       "      <th></th>\n",
       "      <th></th>\n",
       "      <th></th>\n",
       "      <th></th>\n",
       "    </tr>\n",
       "  </thead>\n",
       "  <tbody>\n",
       "    <tr>\n",
       "      <th>0</th>\n",
       "      <td>0.627321</td>\n",
       "      <td>0.457681</td>\n",
       "      <td>0.412051</td>\n",
       "      <td>0.523556</td>\n",
       "      <td>0.538109</td>\n",
       "      <td>0.644918</td>\n",
       "      <td>0.598261</td>\n",
       "      <td>0.517778</td>\n",
       "      <td>0.560000</td>\n",
       "      <td>0.000000</td>\n",
       "    </tr>\n",
       "    <tr>\n",
       "      <th>1</th>\n",
       "      <td>0.853210</td>\n",
       "      <td>0.781250</td>\n",
       "      <td>0.743585</td>\n",
       "      <td>0.830781</td>\n",
       "      <td>0.777107</td>\n",
       "      <td>0.843386</td>\n",
       "      <td>0.756087</td>\n",
       "      <td>0.873636</td>\n",
       "      <td>0.750000</td>\n",
       "      <td>0.585000</td>\n",
       "    </tr>\n",
       "    <tr>\n",
       "      <th>2</th>\n",
       "      <td>1.119259</td>\n",
       "      <td>0.962581</td>\n",
       "      <td>0.986563</td>\n",
       "      <td>1.026500</td>\n",
       "      <td>1.061458</td>\n",
       "      <td>1.040876</td>\n",
       "      <td>1.079908</td>\n",
       "      <td>1.007879</td>\n",
       "      <td>1.291250</td>\n",
       "      <td>0.000000</td>\n",
       "    </tr>\n",
       "    <tr>\n",
       "      <th>3</th>\n",
       "      <td>1.297759</td>\n",
       "      <td>1.232281</td>\n",
       "      <td>1.228039</td>\n",
       "      <td>1.269048</td>\n",
       "      <td>1.250000</td>\n",
       "      <td>1.310571</td>\n",
       "      <td>1.241270</td>\n",
       "      <td>1.181842</td>\n",
       "      <td>1.289286</td>\n",
       "      <td>1.600000</td>\n",
       "    </tr>\n",
       "    <tr>\n",
       "      <th>4</th>\n",
       "      <td>1.576889</td>\n",
       "      <td>1.475789</td>\n",
       "      <td>1.563182</td>\n",
       "      <td>1.540141</td>\n",
       "      <td>1.515370</td>\n",
       "      <td>1.521864</td>\n",
       "      <td>1.458452</td>\n",
       "      <td>1.632500</td>\n",
       "      <td>1.629722</td>\n",
       "      <td>1.887500</td>\n",
       "    </tr>\n",
       "    <tr>\n",
       "      <th>5</th>\n",
       "      <td>1.860290</td>\n",
       "      <td>1.876296</td>\n",
       "      <td>1.797037</td>\n",
       "      <td>1.906038</td>\n",
       "      <td>1.802857</td>\n",
       "      <td>1.918776</td>\n",
       "      <td>1.923913</td>\n",
       "      <td>1.918193</td>\n",
       "      <td>1.961698</td>\n",
       "      <td>2.220000</td>\n",
       "    </tr>\n",
       "    <tr>\n",
       "      <th>6</th>\n",
       "      <td>2.286000</td>\n",
       "      <td>2.217797</td>\n",
       "      <td>2.527679</td>\n",
       "      <td>2.546038</td>\n",
       "      <td>2.292000</td>\n",
       "      <td>2.490263</td>\n",
       "      <td>2.464375</td>\n",
       "      <td>2.288268</td>\n",
       "      <td>2.431594</td>\n",
       "      <td>2.627143</td>\n",
       "    </tr>\n",
       "    <tr>\n",
       "      <th>7</th>\n",
       "      <td>3.256875</td>\n",
       "      <td>3.063235</td>\n",
       "      <td>3.381045</td>\n",
       "      <td>3.552833</td>\n",
       "      <td>2.943077</td>\n",
       "      <td>3.245429</td>\n",
       "      <td>3.096000</td>\n",
       "      <td>3.183125</td>\n",
       "      <td>3.196913</td>\n",
       "      <td>3.300189</td>\n",
       "    </tr>\n",
       "    <tr>\n",
       "      <th>8</th>\n",
       "      <td>4.957833</td>\n",
       "      <td>5.078116</td>\n",
       "      <td>4.949028</td>\n",
       "      <td>5.228936</td>\n",
       "      <td>4.381111</td>\n",
       "      <td>5.166875</td>\n",
       "      <td>4.601429</td>\n",
       "      <td>5.166957</td>\n",
       "      <td>4.365679</td>\n",
       "      <td>5.558025</td>\n",
       "    </tr>\n",
       "    <tr>\n",
       "      <th>9</th>\n",
       "      <td>12.220196</td>\n",
       "      <td>12.410238</td>\n",
       "      <td>13.488171</td>\n",
       "      <td>11.518065</td>\n",
       "      <td>8.853333</td>\n",
       "      <td>10.385000</td>\n",
       "      <td>9.345000</td>\n",
       "      <td>9.522000</td>\n",
       "      <td>10.645000</td>\n",
       "      <td>12.532758</td>\n",
       "    </tr>\n",
       "  </tbody>\n",
       "</table>\n",
       "</div>"
      ],
      "text/plain": [
       "tip_deciles           0          1          2          3         4          5  \\\n",
       "fare_deciles                                                                    \n",
       "0              0.627321   0.457681   0.412051   0.523556  0.538109   0.644918   \n",
       "1              0.853210   0.781250   0.743585   0.830781  0.777107   0.843386   \n",
       "2              1.119259   0.962581   0.986563   1.026500  1.061458   1.040876   \n",
       "3              1.297759   1.232281   1.228039   1.269048  1.250000   1.310571   \n",
       "4              1.576889   1.475789   1.563182   1.540141  1.515370   1.521864   \n",
       "5              1.860290   1.876296   1.797037   1.906038  1.802857   1.918776   \n",
       "6              2.286000   2.217797   2.527679   2.546038  2.292000   2.490263   \n",
       "7              3.256875   3.063235   3.381045   3.552833  2.943077   3.245429   \n",
       "8              4.957833   5.078116   4.949028   5.228936  4.381111   5.166875   \n",
       "9             12.220196  12.410238  13.488171  11.518065  8.853333  10.385000   \n",
       "\n",
       "tip_deciles          6         7          8          9  \n",
       "fare_deciles                                            \n",
       "0             0.598261  0.517778   0.560000   0.000000  \n",
       "1             0.756087  0.873636   0.750000   0.585000  \n",
       "2             1.079908  1.007879   1.291250   0.000000  \n",
       "3             1.241270  1.181842   1.289286   1.600000  \n",
       "4             1.458452  1.632500   1.629722   1.887500  \n",
       "5             1.923913  1.918193   1.961698   2.220000  \n",
       "6             2.464375  2.288268   2.431594   2.627143  \n",
       "7             3.096000  3.183125   3.196913   3.300189  \n",
       "8             4.601429  5.166957   4.365679   5.558025  \n",
       "9             9.345000  9.522000  10.645000  12.532758  "
      ]
     },
     "execution_count": 53,
     "metadata": {},
     "output_type": "execute_result"
    }
   ],
   "source": [
    "mat = (taxis\n",
    " .groupby([\"fare_deciles\", \"tip_deciles\"])\n",
    " ['distance']\n",
    " .mean()\n",
    " .unstack(1)\n",
    " .fillna(0)\n",
    ")\n",
    "mat"
   ]
  },
  {
   "cell_type": "code",
   "execution_count": null,
   "id": "ca3e0aba",
   "metadata": {},
   "outputs": [],
   "source": []
  },
  {
   "cell_type": "code",
   "execution_count": null,
   "id": "fe199872",
   "metadata": {},
   "outputs": [],
   "source": []
  },
  {
   "cell_type": "code",
   "execution_count": null,
   "id": "a617a26a",
   "metadata": {},
   "outputs": [],
   "source": []
  },
  {
   "cell_type": "code",
   "execution_count": null,
   "id": "d6a7136b",
   "metadata": {},
   "outputs": [],
   "source": []
  },
  {
   "cell_type": "code",
   "execution_count": null,
   "id": "288795f1",
   "metadata": {},
   "outputs": [],
   "source": []
  },
  {
   "cell_type": "code",
   "execution_count": null,
   "id": "632fc924",
   "metadata": {},
   "outputs": [],
   "source": []
  }
 ],
 "metadata": {
  "hide_input": true,
  "kernelspec": {
   "display_name": "Python [conda env:tabular]",
   "language": "python",
   "name": "conda-env-tabular-py"
  },
  "language_info": {
   "codemirror_mode": {
    "name": "ipython",
    "version": 3
   },
   "file_extension": ".py",
   "mimetype": "text/x-python",
   "name": "python",
   "nbconvert_exporter": "python",
   "pygments_lexer": "ipython3",
   "version": "3.9.16"
  }
 },
 "nbformat": 4,
 "nbformat_minor": 5
}
